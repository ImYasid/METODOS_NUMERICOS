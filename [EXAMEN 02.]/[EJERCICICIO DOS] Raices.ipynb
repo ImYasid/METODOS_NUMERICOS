{
 "cells": [
  {
   "cell_type": "markdown",
   "id": "44160e1b",
   "metadata": {},
   "source": [
    "# [EJERCICICIO DOS] Raices"
   ]
  },
  {
   "cell_type": "code",
   "execution_count": 1,
   "id": "32901467-bd5d-4678-a286-3ab785b2db0b",
   "metadata": {},
   "outputs": [],
   "source": [
    "from scipy import optimize\n",
    "import matplotlib.pyplot as plt\n",
    "import numpy as np\n",
    "\n",
    "def f(x):\n",
    "    return (x**5-6*x**4+2*x**3+20*x**2-27*x+10)"
   ]
  },
  {
   "cell_type": "code",
   "execution_count": 2,
   "id": "ab0d1145-eb5d-46d7-9c2d-0ea50237a836",
   "metadata": {},
   "outputs": [],
   "source": [
    "fprime=lambda x: 5 * x**4 - 24 * x**3 + 6 * x **2 + 40 * x -27\n",
    "rng = np.random.default_rng()\n",
    "x = rng.standard_normal(10)\n",
    "a = np.arange(-5, 5)\n",
    "vec_res = optimize.newton(f, x, fprime, maxiter=200)\n",
    "loop_res = [optimize.newton(f, x0, fprime,\n",
    "                            maxiter=200)\n",
    "            for x0, a0 in zip(x, a)]\n",
    "np.allclose(vec_res, loop_res)\n",
    "analytical_result = np.sign(a) * np.abs(a)**(1/3)"
   ]
  },
  {
   "cell_type": "code",
   "execution_count": 10,
   "id": "b59b5db1-c519-4547-8fed-58ec0c7675bf",
   "metadata": {},
   "outputs": [
    {
     "data": {
      "text/plain": [
       "np.float64(-2.0)"
      ]
     },
     "execution_count": 10,
     "metadata": {},
     "output_type": "execute_result"
    }
   ],
   "source": [
    "root = optimize.newton(f, -5, fprime=lambda x: 5 * x**4 - 24 * x**3 + 6 * x **2 + 40 * x -27)\n",
    "root"
   ]
  },
  {
   "cell_type": "code",
   "execution_count": 11,
   "id": "39316c5b-53d5-4f96-b97c-0eb06e116b1c",
   "metadata": {},
   "outputs": [
    {
     "data": {
      "text/plain": [
       "np.float64(0.9999984824875836)"
      ]
     },
     "execution_count": 11,
     "metadata": {},
     "output_type": "execute_result"
    }
   ],
   "source": [
    "root = optimize.newton(f, 0, fprime=lambda x: 5 * x**4 - 24 * x**3 + 6 * x **2 + 40 * x -27)\n",
    "root"
   ]
  },
  {
   "cell_type": "code",
   "execution_count": 9,
   "id": "ec76fb4a-8724-4c3f-978b-2ac08a3526b3",
   "metadata": {},
   "outputs": [
    {
     "data": {
      "text/plain": [
       "np.float64(5.0)"
      ]
     },
     "execution_count": 9,
     "metadata": {},
     "output_type": "execute_result"
    }
   ],
   "source": [
    "root = optimize.newton(f, 5, fprime=lambda x: 5 * x**4 - 24 * x**3 + 6 * x **2 + 40 * x -27)\n",
    "root"
   ]
  }
 ],
 "metadata": {
  "kernelspec": {
   "display_name": "Python 3",
   "language": "python",
   "name": "python3"
  },
  "language_info": {
   "codemirror_mode": {
    "name": "ipython",
    "version": 3
   },
   "file_extension": ".py",
   "mimetype": "text/x-python",
   "name": "python",
   "nbconvert_exporter": "python",
   "pygments_lexer": "ipython3",
   "version": "3.13.0"
  }
 },
 "nbformat": 4,
 "nbformat_minor": 5
}
