{
 "cells": [
  {
   "cell_type": "markdown",
   "metadata": {},
   "source": [
    "# [Taller 04] Mínimos cuadrados"
   ]
  },
  {
   "cell_type": "code",
   "execution_count": 3,
   "metadata": {},
   "outputs": [
    {
     "data": {
      "application/vnd.jupyter.widget-view+json": {
       "model_id": "4dcf96ae1db841b58dd703051f73e22a",
       "version_major": 2,
       "version_minor": 0
      },
      "text/plain": [
       "interactive(children=(FloatSlider(value=9.5, description='p2_x', max=12.3, min=5.4), FloatSlider(value=0.7, de…"
      ]
     },
     "metadata": {},
     "output_type": "display_data"
    },
    {
     "data": {
      "text/plain": [
       "<function __main__.update_plot(p2_x, p2_y)>"
      ]
     },
     "execution_count": 3,
     "metadata": {},
     "output_type": "execute_result"
    }
   ],
   "source": [
    "from ipywidgets import interact, widgets\n",
    "import matplotlib.pyplot as plt\n",
    "import numpy as np\n",
    "\n",
    "x_data = np.array([5.4, 9.5, 12.3])\n",
    "y_data = np.array([3.2, 0.7, -3.6])\n",
    "\n",
    "p1 = (x_data[0], y_data[0])\n",
    "p2_i = (x_data[1], y_data[1])\n",
    "p3 = (x_data[2], y_data[2])\n",
    "m = -1\n",
    "b = 8\n",
    "\n",
    "def update_plot(p2_x, p2_y):\n",
    "    x_coords = [p1[0], p2_x, p3[0]]\n",
    "    y_coords = [p1[1], p2_y, p3[1]]\n",
    "\n",
    "    plt.figure(figsize=(10, 6))\n",
    "    plt.scatter(x_coords, y_coords, color=\"red\")\n",
    "    x_line = [min(x_coords), max(x_coords)]\n",
    "    y_line = [m * x + b for x in x_line]\n",
    "    plt.plot(x_line, y_line, color=\"blue\")\n",
    "    plt.xlabel(\"X\")\n",
    "    plt.ylabel(\"Y\")\n",
    "    plt.title(\"Points and Line Plot\")\n",
    "    plt.show()\n",
    "\n",
    "interact(\n",
    "    update_plot,\n",
    "    p2_x=widgets.FloatSlider(\n",
    "        min=min(p1[0], p3[0]), max=max(p1[0], p3[0]), step=0.1, value=p2_i[0]\n",
    "    ),\n",
    "    p2_y=widgets.FloatSlider(\n",
    "        min=min(p1[1], p3[1]), max=max(p1[1], p3[1]), step=0.1, value=p2_i[1]\n",
    "    )\n",
    ")"
   ]
  }
 ],
 "metadata": {
  "kernelspec": {
   "display_name": "Python 3",
   "language": "python",
   "name": "python3"
  },
  "language_info": {
   "codemirror_mode": {
    "name": "ipython",
    "version": 3
   },
   "file_extension": ".py",
   "mimetype": "text/x-python",
   "name": "python",
   "nbconvert_exporter": "python",
   "pygments_lexer": "ipython3",
   "version": "3.13.0"
  }
 },
 "nbformat": 4,
 "nbformat_minor": 2
}
