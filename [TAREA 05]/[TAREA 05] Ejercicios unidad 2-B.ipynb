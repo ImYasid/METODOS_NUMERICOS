{
 "cells": [
  {
   "cell_type": "markdown",
   "metadata": {},
   "source": [
    "# [TAREA 05] Ejercicios unidad 2-B\n",
    "Dentro de este notebook se podrá encontrar ejercicios relacionados a:\n",
    "- Método de la Bisección\n",
    "- Método de Newton\n",
    "- Método de la Secante\n",
    "\n",
    "Para ello, primero se partirá con la generación de código que permitirá ejecutar ambos mérodos."
   ]
  },
  {
   "cell_type": "markdown",
   "metadata": {},
   "source": [
    "### MÉTODO DE LA BISECCIÓN"
   ]
  },
  {
   "cell_type": "code",
   "execution_count": null,
   "metadata": {},
   "outputs": [],
   "source": [
    "def biseccion(f, a, b, tol, max_iter):\n",
    "    \"\"\"\n",
    "    Método de la bisección para encontrar la raíz de una función.\n",
    "    \n",
    "    Parámetros:\n",
    "    - f: función objetivo.\n",
    "    - a, b: límites del intervalo inicial.\n",
    "    - tol: tolerancia para el criterio de parada.\n",
    "    - max_iter: número máximo de iteraciones.\n",
    "    \n",
    "    Retorna:\n",
    "    - La raíz aproximada.\n",
    "    - Número de iteraciones realizadas.\n",
    "    \"\"\"\n",
    "    if f(a) * f(b) >= 0:\n",
    "        print(\"El intervalo inicial no es válido. Asegúrate de que f(a) * f(b) < 0.\")\n",
    "        return None, 0\n",
    "\n",
    "    for n in range(max_iter):\n",
    "        c = (a + b) / 2  # Punto medio\n",
    "        fc = f(c)\n",
    "\n",
    "        if abs(fc) < tol or (b - a) / 2 < tol:  # Criterio de parada\n",
    "            print(f\"Raíz encontrada en x = {c} después de {n} iteraciones.\")\n",
    "            return c, n\n",
    "\n",
    "        # Elegir el subintervalo que contiene la raíz\n",
    "        if f(a) * fc < 0:\n",
    "            b = c\n",
    "        else:\n",
    "            a = c\n",
    "\n",
    "    print(\"Se alcanzó el número máximo de iteraciones.\")\n",
    "    return (a + b) / 2, max_iter\n"
   ]
  },
  {
   "cell_type": "markdown",
   "metadata": {},
   "source": [
    "### MÉTODO DE NEWTON-RAPHSON\n",
    "Es un método iterativo el cual fue creado para encontrar las raices de una funcion $F(x)$. Que en otras palabras, son los valores de $x$ donde $F(x)=0$\n"
   ]
  },
  {
   "cell_type": "code",
   "execution_count": null,
   "metadata": {},
   "outputs": [],
   "source": [
    "def newton_raphson(f, df, x0, tol, max_iter):\n",
    "    \"\"\"\n",
    "    Método de Newton-Raphson para encontrar la raíz de una función.\n",
    "    \n",
    "    Parámetros:\n",
    "    - f: función objetivo.\n",
    "    - df: derivada de la función objetivo.\n",
    "    - x0: aproximación inicial.\n",
    "    - tol: tolerancia para detener el método.\n",
    "    - max_iter: número máximo de iteraciones.\n",
    "    \n",
    "    Retorna:\n",
    "    - La raíz aproximada.\n",
    "    - Número de iteraciones realizadas.\n",
    "    \"\"\"\n",
    "    xn = x0\n",
    "    for n in range(max_iter):\n",
    "        fxn = f(xn)\n",
    "        dfxn = df(xn)\n",
    "        if abs(fxn) < tol:  # La raíz es suficientemente precisa\n",
    "            print(f\"Raíz encontrada en x = {xn} después de {n} iteraciones.\")\n",
    "            return xn, n\n",
    "        if dfxn == 0:  # Evita división por cero\n",
    "            print(\"La derivada es cero. No se puede continuar.\")\n",
    "            return None, n\n",
    "        xn = xn - fxn / dfxn  # Fórmula de Newton-Raphson\n",
    "    \n",
    "    print(\"Se alcanzó el número máximo de iteraciones.\")\n",
    "    return xn, max_iter\n"
   ]
  },
  {
   "cell_type": "markdown",
   "metadata": {},
   "source": [
    "### MÉTODO DE LA SECANTE"
   ]
  },
  {
   "cell_type": "code",
   "execution_count": null,
   "metadata": {},
   "outputs": [],
   "source": [
    "def metodo_secante(f, x0, x1, tol, max_iter):\n",
    "    \"\"\"\n",
    "    Método de la secante para encontrar la raíz de una función.\n",
    "    \n",
    "    Parámetros:\n",
    "    - f: función objetivo.\n",
    "    - x0, x1: aproximaciones iniciales.\n",
    "    - tol: tolerancia para el criterio de parada.\n",
    "    - max_iter: número máximo de iteraciones.\n",
    "    \n",
    "    Retorna:\n",
    "    - La raíz aproximada.\n",
    "    - Número de iteraciones realizadas.\n",
    "    \"\"\"\n",
    "    for n in range(max_iter):\n",
    "        fx0 = f(x0)\n",
    "        fx1 = f(x1)\n",
    "        \n",
    "        if abs(fx1) < tol:  # La raíz es suficientemente precisa\n",
    "            print(f\"Raíz encontrada en x = {x1} después de {n} iteraciones.\")\n",
    "            return x1, n\n",
    "        \n",
    "        # Evitar división por cero\n",
    "        if fx1 - fx0 == 0:\n",
    "            print(\"Error: División por cero en el método de la secante.\")\n",
    "            return None, n\n",
    "        \n",
    "        # Calcular el siguiente punto\n",
    "        x2 = x1 - fx1 * (x1 - x0) / (fx1 - fx0)\n",
    "        \n",
    "        # Actualizar valores\n",
    "        x0, x1 = x1, x2\n",
    "    \n",
    "    print(\"Se alcanzó el número máximo de iteraciones.\")\n",
    "    return x1, max_iter\n"
   ]
  },
  {
   "cell_type": "markdown",
   "metadata": {},
   "source": [
    "### CONJUNTO DE EJERCICIOS"
   ]
  },
  {
   "cell_type": "markdown",
   "metadata": {},
   "source": [
    "#### EJERCICIO UNO\n",
    "Sea $𝑓(𝑥) = −𝑥^3 − cos(𝑥)$ y $𝑝_0 = −1$. Use el método de Newton y de la Secante para encontrar $𝑝_2$. ¿Se podría usar $𝑝_0 = 0$?\n"
   ]
  },
  {
   "cell_type": "code",
   "execution_count": 44,
   "metadata": {},
   "outputs": [
    {
     "name": "stdout",
     "output_type": "stream",
     "text": [
      "Raíz encontrada en x = -0.865474075952977 después de 3 iteraciones.\n",
      "Raíz aproximada: -0.865474075952977, encontrada en 3 iteraciones.\n"
     ]
    }
   ],
   "source": [
    "# METODO DE NEWTON\n",
    "def f(x):\n",
    "    return -x**3-math.cos(x)\n",
    "\n",
    "def df(x):\n",
    "    return -3*x**2+math.sin(x)\n",
    "\n",
    "# Aproximación inicial\n",
    "x0 = -1\n",
    "tol=1e-6\n",
    "max_iter=100\n",
    "# Ejecutar el método\n",
    "raiz, iteraciones = newton_raphson(f, df, x0, tol, max_iter)\n",
    "print(f\"Raíz aproximada: {raiz}, encontrada en {iteraciones} iteraciones.\")\n"
   ]
  },
  {
   "cell_type": "code",
   "execution_count": null,
   "metadata": {},
   "outputs": [
    {
     "name": "stdout",
     "output_type": "stream",
     "text": [
      "Raíz encontrada en x = -0.8654743032026917 después de 8 iteraciones.\n",
      "Raíz aproximada: -0.8654743032026917, encontrada en 8 iteraciones.\n"
     ]
    }
   ],
   "source": [
    "# METODO DE LA SECANTE\n",
    "def f(x):\n",
    "    return -x**3-math.cos(x)\n",
    "\n",
    "# Valores iniciales\n",
    "x0 = -1\n",
    "x1 = 1\n",
    "tol=1e-6\n",
    "max_iter=100\n",
    "# Ejecutar el método\n",
    "raiz, iteraciones = metodo_secante(f, x0, x1, tol, max_iter)\n",
    "print(f\"Raíz aproximada: {raiz}, encontrada en {iteraciones} iteraciones.\")\n"
   ]
  },
  {
   "cell_type": "markdown",
   "metadata": {},
   "source": [
    "#### EJERCICIO DOS\n",
    "Encuentre soluciones precisas dentro de 10-4 para los siguientes problemas:"
   ]
  },
  {
   "cell_type": "markdown",
   "metadata": {},
   "source": [
    "a. $x^3-2x^2-5=0$ para $[1,4]$"
   ]
  },
  {
   "cell_type": "code",
   "execution_count": 45,
   "metadata": {},
   "outputs": [
    {
     "name": "stdout",
     "output_type": "stream",
     "text": [
      "Raíz encontrada en x = 2.6906484961992585 después de 9 iteraciones.\n",
      "Raíz aproximada: 2.6906484961992585, encontrada en 9 iteraciones.\n"
     ]
    }
   ],
   "source": [
    "# METODO DE LA SECANTE\n",
    "def f(x):\n",
    "    return x**3-2*x**2-5\n",
    "\n",
    "# Valores iniciales\n",
    "x0 = 1\n",
    "x1 = 4\n",
    "tol=1e-4\n",
    "max_iter=100\n",
    "# Ejecutar el método\n",
    "raiz, iteraciones = metodo_secante(f, x0, x1, tol, max_iter)\n",
    "print(f\"Raíz aproximada: {raiz}, encontrada en {iteraciones} iteraciones.\")"
   ]
  },
  {
   "cell_type": "markdown",
   "metadata": {},
   "source": [
    "b. $x^3+3x^2-1=0$ para $[-3,-2]$"
   ]
  },
  {
   "cell_type": "code",
   "execution_count": 46,
   "metadata": {},
   "outputs": [
    {
     "name": "stdout",
     "output_type": "stream",
     "text": [
      "Raíz encontrada en x = -2.879385194736809 después de 6 iteraciones.\n",
      "Raíz aproximada: -2.879385194736809, encontrada en 6 iteraciones.\n"
     ]
    }
   ],
   "source": [
    "# METODO DE LA SECANTE\n",
    "def f(x):\n",
    "    return x**3+3*x**2-1\n",
    "\n",
    "# Valores iniciales\n",
    "x0 = -3\n",
    "x1 = -2\n",
    "tol=1e-4\n",
    "max_iter=100\n",
    "# Ejecutar el método\n",
    "raiz, iteraciones = metodo_secante(f, x0, x1, tol, max_iter)\n",
    "print(f\"Raíz aproximada: {raiz}, encontrada en {iteraciones} iteraciones.\")"
   ]
  },
  {
   "cell_type": "markdown",
   "metadata": {},
   "source": [
    "c. $x-cos(x)=0$ para $[0,pi/2]$"
   ]
  },
  {
   "cell_type": "code",
   "execution_count": 47,
   "metadata": {},
   "outputs": [
    {
     "name": "stdout",
     "output_type": "stream",
     "text": [
      "Raíz encontrada en x = 0.7390834365030763 después de 4 iteraciones.\n",
      "Raíz aproximada: 0.7390834365030763, encontrada en 4 iteraciones.\n"
     ]
    }
   ],
   "source": [
    "# METODO DE LA SECANTE\n",
    "def f(x):\n",
    "    return x-math.cos(x)\n",
    "\n",
    "# Valores iniciales\n",
    "x0 = 0\n",
    "x1 = math.pi/2\n",
    "tol=1e-4\n",
    "max_iter=100\n",
    "# Ejecutar el método\n",
    "raiz, iteraciones = metodo_secante(f, x0, x1, tol, max_iter)\n",
    "print(f\"Raíz aproximada: {raiz}, encontrada en {iteraciones} iteraciones.\")"
   ]
  },
  {
   "cell_type": "markdown",
   "metadata": {},
   "source": [
    "d. $x-0.8-0.2sen(x)=0$ para $[0,pi/2]$"
   ]
  },
  {
   "cell_type": "code",
   "execution_count": 48,
   "metadata": {},
   "outputs": [
    {
     "name": "stdout",
     "output_type": "stream",
     "text": [
      "Raíz encontrada en x = 0.6750222077032085 después de 3 iteraciones.\n",
      "Raíz aproximada: 0.6750222077032085, encontrada en 3 iteraciones.\n"
     ]
    }
   ],
   "source": [
    "# METODO DE LA SECANTE\n",
    "def f(x):\n",
    "    return x-0.8+0.2*math.sin(x)\n",
    "\n",
    "# Valores iniciales\n",
    "x0 = 0\n",
    "x1 = math.pi/2\n",
    "tol=1e-4\n",
    "max_iter=100\n",
    "# Ejecutar el método\n",
    "raiz, iteraciones = metodo_secante(f, x0, x1, tol, max_iter)\n",
    "print(f\"Raíz aproximada: {raiz}, encontrada en {iteraciones} iteraciones.\")"
   ]
  },
  {
   "cell_type": "markdown",
   "metadata": {},
   "source": [
    "#### EJERCICIO TRES\n",
    "Use los 2 métodos en esta sección para encontrar las soluciones dentro de 10−5 para los siguientes problemas."
   ]
  },
  {
   "cell_type": "markdown",
   "metadata": {},
   "source": [
    "a. $3x-e^x=0$ para $1<=x<=2$"
   ]
  },
  {
   "cell_type": "code",
   "execution_count": 49,
   "metadata": {},
   "outputs": [
    {
     "name": "stdout",
     "output_type": "stream",
     "text": [
      "Raíz encontrada en x = 1.5121346254271246 después de 2 iteraciones.\n",
      "Raíz aproximada: 1.5121346254271246, encontrada en 2 iteraciones.\n"
     ]
    }
   ],
   "source": [
    "# METODO DE NEWTON\n",
    "def f(x):\n",
    "    return 3*x-math.e**x\n",
    "\n",
    "def df(x):\n",
    "    return 3-math.e**x\n",
    "\n",
    "# Aproximación inicial\n",
    "x0 = 1.5\n",
    "tol=1e-5\n",
    "max_iter=100\n",
    "# Ejecutar el método\n",
    "raiz, iteraciones = newton_raphson(f, df, x0, tol, max_iter)\n",
    "print(f\"Raíz aproximada: {raiz}, encontrada en {iteraciones} iteraciones.\")"
   ]
  },
  {
   "cell_type": "code",
   "execution_count": 50,
   "metadata": {},
   "outputs": [
    {
     "name": "stdout",
     "output_type": "stream",
     "text": [
      "Raíz encontrada en x = 1.5121339760022818 después de 8 iteraciones.\n",
      "Raíz aproximada: 1.5121339760022818, encontrada en 8 iteraciones.\n"
     ]
    }
   ],
   "source": [
    "# METODO DE LA SECANTE\n",
    "def f(x):\n",
    "    return 3*x-math.e**x\n",
    "\n",
    "# Valores iniciales\n",
    "x0 = 1\n",
    "x1 = 2\n",
    "tol=1e-5\n",
    "max_iter=100\n",
    "# Ejecutar el método\n",
    "raiz, iteraciones = metodo_secante(f, x0, x1, tol, max_iter)\n",
    "print(f\"Raíz aproximada: {raiz}, encontrada en {iteraciones} iteraciones.\")"
   ]
  },
  {
   "cell_type": "markdown",
   "metadata": {},
   "source": [
    "b. $2x-3cos(x)-e^x=0$ para $1<=x<=2$"
   ]
  },
  {
   "cell_type": "code",
   "execution_count": 51,
   "metadata": {},
   "outputs": [
    {
     "ename": "OverflowError",
     "evalue": "(34, 'Result too large')",
     "output_type": "error",
     "traceback": [
      "\u001b[1;31m---------------------------------------------------------------------------\u001b[0m",
      "\u001b[1;31mOverflowError\u001b[0m                             Traceback (most recent call last)",
      "Cell \u001b[1;32mIn[51], line 13\u001b[0m\n\u001b[0;32m     11\u001b[0m max_iter\u001b[38;5;241m=\u001b[39m\u001b[38;5;241m100\u001b[39m\n\u001b[0;32m     12\u001b[0m \u001b[38;5;66;03m# Ejecutar el método\u001b[39;00m\n\u001b[1;32m---> 13\u001b[0m raiz, iteraciones \u001b[38;5;241m=\u001b[39m \u001b[43mnewton_raphson\u001b[49m\u001b[43m(\u001b[49m\u001b[43mf\u001b[49m\u001b[43m,\u001b[49m\u001b[43m \u001b[49m\u001b[43mdf\u001b[49m\u001b[43m,\u001b[49m\u001b[43m \u001b[49m\u001b[43mx0\u001b[49m\u001b[43m,\u001b[49m\u001b[43m \u001b[49m\u001b[43mtol\u001b[49m\u001b[43m,\u001b[49m\u001b[43m \u001b[49m\u001b[43mmax_iter\u001b[49m\u001b[43m)\u001b[49m\n\u001b[0;32m     14\u001b[0m \u001b[38;5;28mprint\u001b[39m(\u001b[38;5;124mf\u001b[39m\u001b[38;5;124m\"\u001b[39m\u001b[38;5;124mRaíz aproximada: \u001b[39m\u001b[38;5;132;01m{\u001b[39;00mraiz\u001b[38;5;132;01m}\u001b[39;00m\u001b[38;5;124m, encontrada en \u001b[39m\u001b[38;5;132;01m{\u001b[39;00miteraciones\u001b[38;5;132;01m}\u001b[39;00m\u001b[38;5;124m iteraciones.\u001b[39m\u001b[38;5;124m\"\u001b[39m)\n",
      "Cell \u001b[1;32mIn[1], line 18\u001b[0m, in \u001b[0;36mnewton_raphson\u001b[1;34m(f, df, x0, tol, max_iter)\u001b[0m\n\u001b[0;32m     16\u001b[0m xn \u001b[38;5;241m=\u001b[39m x0\n\u001b[0;32m     17\u001b[0m \u001b[38;5;28;01mfor\u001b[39;00m n \u001b[38;5;129;01min\u001b[39;00m \u001b[38;5;28mrange\u001b[39m(max_iter):\n\u001b[1;32m---> 18\u001b[0m     fxn \u001b[38;5;241m=\u001b[39m \u001b[43mf\u001b[49m\u001b[43m(\u001b[49m\u001b[43mxn\u001b[49m\u001b[43m)\u001b[49m\n\u001b[0;32m     19\u001b[0m     dfxn \u001b[38;5;241m=\u001b[39m df(xn)\n\u001b[0;32m     20\u001b[0m     \u001b[38;5;28;01mif\u001b[39;00m \u001b[38;5;28mabs\u001b[39m(fxn) \u001b[38;5;241m<\u001b[39m tol:  \u001b[38;5;66;03m# La raíz es suficientemente precisa\u001b[39;00m\n",
      "Cell \u001b[1;32mIn[51], line 3\u001b[0m, in \u001b[0;36mf\u001b[1;34m(x)\u001b[0m\n\u001b[0;32m      2\u001b[0m \u001b[38;5;28;01mdef\u001b[39;00m \u001b[38;5;21mf\u001b[39m(x):\n\u001b[1;32m----> 3\u001b[0m     \u001b[38;5;28;01mreturn\u001b[39;00m \u001b[38;5;241m2\u001b[39m\u001b[38;5;241m*\u001b[39mx\u001b[38;5;241m-\u001b[39m\u001b[38;5;241m3\u001b[39m\u001b[38;5;241m*\u001b[39mmath\u001b[38;5;241m.\u001b[39mcos(x)\u001b[38;5;241m-\u001b[39m\u001b[43mmath\u001b[49m\u001b[38;5;241;43m.\u001b[39;49m\u001b[43me\u001b[49m\u001b[38;5;241;43m*\u001b[39;49m\u001b[38;5;241;43m*\u001b[39;49m\u001b[43mx\u001b[49m\n",
      "\u001b[1;31mOverflowError\u001b[0m: (34, 'Result too large')"
     ]
    }
   ],
   "source": [
    "# METODO DE NEWTON\n",
    "def f(x):\n",
    "    return 2*x-3*math.cos(x)-math.e**x\n",
    "\n",
    "def df(x):\n",
    "    return 2+3*math.sin(x)-math.e**x\n",
    "\n",
    "# Aproximación inicial\n",
    "x0 = 1.5\n",
    "tol=1e-5\n",
    "max_iter=100\n",
    "# Ejecutar el método\n",
    "raiz, iteraciones = newton_raphson(f, df, x0, tol, max_iter)\n",
    "print(f\"Raíz aproximada: {raiz}, encontrada en {iteraciones} iteraciones.\")"
   ]
  },
  {
   "cell_type": "code",
   "execution_count": 52,
   "metadata": {},
   "outputs": [
    {
     "name": "stdout",
     "output_type": "stream",
     "text": [
      "Se alcanzó el número máximo de iteraciones.\n",
      "Raíz aproximada: 1.144504024437078, encontrada en 100 iteraciones.\n"
     ]
    }
   ],
   "source": [
    "# METODO DE LA SECANTE\n",
    "def f(x):\n",
    "    return 2*x-3*math.cos(x)-math.e**x\n",
    "\n",
    "# Valores iniciales\n",
    "x0 = 1\n",
    "x1 = 2\n",
    "tol=1e-5\n",
    "max_iter=100\n",
    "# Ejecutar el método\n",
    "raiz, iteraciones = metodo_secante(f, x0, x1, tol, max_iter)\n",
    "print(f\"Raíz aproximada: {raiz}, encontrada en {iteraciones} iteraciones.\")"
   ]
  },
  {
   "cell_type": "markdown",
   "metadata": {},
   "source": [
    "#### EJERCICIO CUATRO\n",
    "El polinomio de cuarto grado<br>\n",
    "$f(x)=230x^4+18x^3+9x^2-221x-9$<br>\n",
    "tiene dos ceros reales, uno en [−1,0] y el otro en [0,1]. Intente aproximar estos ceros dentro de 10−6 con:\n",
    "\n"
   ]
  },
  {
   "cell_type": "markdown",
   "metadata": {},
   "source": [
    "a. El método de la secante (use los extremos como las estimaciones iniciales)"
   ]
  },
  {
   "cell_type": "code",
   "execution_count": 53,
   "metadata": {},
   "outputs": [
    {
     "name": "stdout",
     "output_type": "stream",
     "text": [
      "Raíz encontrada en x = -0.040659288315725135 después de 4 iteraciones.\n",
      "Raíz aproximada: -0.040659288315725135, encontrada en 4 iteraciones.\n"
     ]
    }
   ],
   "source": [
    "# METODO DE LA SECANTE\n",
    "def f(x):\n",
    "    return 230*x**4+18*x**3+9*x**2-221*x-9\n",
    "\n",
    "# Valores iniciales\n",
    "x0 = -1\n",
    "x1 = 0\n",
    "tol=1e-6\n",
    "max_iter=100\n",
    "# Ejecutar el método\n",
    "raiz, iteraciones = metodo_secante(f, x0, x1, tol, max_iter)\n",
    "print(f\"Raíz aproximada: {raiz}, encontrada en {iteraciones} iteraciones.\")"
   ]
  },
  {
   "cell_type": "code",
   "execution_count": 54,
   "metadata": {},
   "outputs": [
    {
     "name": "stdout",
     "output_type": "stream",
     "text": [
      "Raíz encontrada en x = -0.04065928831557162 después de 11 iteraciones.\n",
      "Raíz aproximada: -0.04065928831557162, encontrada en 11 iteraciones.\n"
     ]
    }
   ],
   "source": [
    "# METODO DE LA SECANTE\n",
    "def f(x):\n",
    "    return 230*x**4+18*x**3+9*x**2-221*x-9\n",
    "\n",
    "# Valores iniciales\n",
    "x0 = 0\n",
    "x1 = 1\n",
    "tol=1e-6\n",
    "max_iter=100\n",
    "# Ejecutar el método\n",
    "raiz, iteraciones = metodo_secante(f, x0, x1, tol, max_iter)\n",
    "print(f\"Raíz aproximada: {raiz}, encontrada en {iteraciones} iteraciones.\")"
   ]
  },
  {
   "cell_type": "markdown",
   "metadata": {},
   "source": [
    "b. El método de Newton (use el punto medio como estimación inicial)"
   ]
  },
  {
   "cell_type": "code",
   "execution_count": 55,
   "metadata": {},
   "outputs": [
    {
     "name": "stdout",
     "output_type": "stream",
     "text": [
      "Raíz encontrada en x = -0.04065928833207324 después de 5 iteraciones.\n",
      "Raíz aproximada: -0.04065928833207324, encontrada en 5 iteraciones.\n"
     ]
    }
   ],
   "source": [
    "# METODO DE NEWTON\n",
    "def f(x):\n",
    "    return 230*x**4+18*x**3+9*x**2-221*x-9\n",
    "\n",
    "def df(x):\n",
    "    return 930*x**3+54*x**2+18*x**2-221\n",
    "\n",
    "# Aproximación inicial\n",
    "x0 = -0.5\n",
    "tol=1e-6\n",
    "max_iter=100\n",
    "# Ejecutar el método\n",
    "raiz, iteraciones = newton_raphson(f, df, x0, tol, max_iter)\n",
    "print(f\"Raíz aproximada: {raiz}, encontrada en {iteraciones} iteraciones.\")"
   ]
  },
  {
   "cell_type": "code",
   "execution_count": 56,
   "metadata": {},
   "outputs": [
    {
     "name": "stdout",
     "output_type": "stream",
     "text": [
      "Raíz encontrada en x = -0.040659288048739924 después de 6 iteraciones.\n",
      "Raíz aproximada: -0.040659288048739924, encontrada en 6 iteraciones.\n"
     ]
    }
   ],
   "source": [
    "# METODO DE NEWTON\n",
    "def f(x):\n",
    "    return 230*x**4+18*x**3+9*x**2-221*x-9\n",
    "\n",
    "def df(x):\n",
    "    return 930*x**3+54*x**2+18*x**2-221\n",
    "\n",
    "# Aproximación inicial\n",
    "x0 = 0.5\n",
    "tol=1e-6\n",
    "max_iter=100\n",
    "# Ejecutar el método\n",
    "raiz, iteraciones = newton_raphson(f, df, x0, tol, max_iter)\n",
    "print(f\"Raíz aproximada: {raiz}, encontrada en {iteraciones} iteraciones.\")"
   ]
  },
  {
   "cell_type": "markdown",
   "metadata": {},
   "source": [
    "#### EJERCICIO CINCO\n",
    "La función 𝑓(𝑥) = tan 𝜋 𝑥 − 6 tiene cero en (1/𝜋) arcotangente 6 ≈ 0.447431543. Sea 𝑝0 = 0 y 𝑝1 = 0.48 y use 10 iteraciones en cada uno de los siguientes métodos para aproximar esta raíz. ¿Cuál método es más eficaz y por qué?"
   ]
  },
  {
   "cell_type": "markdown",
   "metadata": {},
   "source": [
    "a. Método de bisección"
   ]
  },
  {
   "cell_type": "code",
   "execution_count": 64,
   "metadata": {},
   "outputs": [
    {
     "ename": "TypeError",
     "evalue": "unsupported operand type(s) for *: 'builtin_function_or_method' and 'float'",
     "output_type": "error",
     "traceback": [
      "\u001b[1;31m---------------------------------------------------------------------------\u001b[0m",
      "\u001b[1;31mTypeError\u001b[0m                                 Traceback (most recent call last)",
      "Cell \u001b[1;32mIn[64], line 14\u001b[0m\n\u001b[0;32m     11\u001b[0m max_iter\u001b[38;5;241m=\u001b[39m\u001b[38;5;241m100\u001b[39m\n\u001b[0;32m     13\u001b[0m \u001b[38;5;66;03m# Ejecutar el método\u001b[39;00m\n\u001b[1;32m---> 14\u001b[0m raiz, iteraciones \u001b[38;5;241m=\u001b[39m \u001b[43mbiseccion\u001b[49m\u001b[43m(\u001b[49m\u001b[43mf\u001b[49m\u001b[43m,\u001b[49m\u001b[43m \u001b[49m\u001b[43ma\u001b[49m\u001b[43m,\u001b[49m\u001b[43m \u001b[49m\u001b[43mb\u001b[49m\u001b[43m)\u001b[49m\n\u001b[0;32m     15\u001b[0m \u001b[38;5;28mprint\u001b[39m(\u001b[38;5;124mf\u001b[39m\u001b[38;5;124m\"\u001b[39m\u001b[38;5;124mRaíz aproximada: \u001b[39m\u001b[38;5;132;01m{\u001b[39;00mraiz\u001b[38;5;132;01m}\u001b[39;00m\u001b[38;5;124m, encontrada en \u001b[39m\u001b[38;5;132;01m{\u001b[39;00miteraciones\u001b[38;5;132;01m}\u001b[39;00m\u001b[38;5;124m iteraciones.\u001b[39m\u001b[38;5;124m\"\u001b[39m)\n",
      "Cell \u001b[1;32mIn[3], line 15\u001b[0m, in \u001b[0;36mbiseccion\u001b[1;34m(f, a, b, tol, max_iter)\u001b[0m\n\u001b[0;32m      1\u001b[0m \u001b[38;5;28;01mdef\u001b[39;00m \u001b[38;5;21mbiseccion\u001b[39m(f, a, b, tol\u001b[38;5;241m=\u001b[39m\u001b[38;5;241m1e-6\u001b[39m, max_iter\u001b[38;5;241m=\u001b[39m\u001b[38;5;241m100\u001b[39m):\n\u001b[0;32m      2\u001b[0m \u001b[38;5;250m    \u001b[39m\u001b[38;5;124;03m\"\"\"\u001b[39;00m\n\u001b[0;32m      3\u001b[0m \u001b[38;5;124;03m    Método de la bisección para encontrar la raíz de una función.\u001b[39;00m\n\u001b[0;32m      4\u001b[0m \u001b[38;5;124;03m    \u001b[39;00m\n\u001b[1;32m   (...)\u001b[0m\n\u001b[0;32m     13\u001b[0m \u001b[38;5;124;03m    - Número de iteraciones realizadas.\u001b[39;00m\n\u001b[0;32m     14\u001b[0m \u001b[38;5;124;03m    \"\"\"\u001b[39;00m\n\u001b[1;32m---> 15\u001b[0m     \u001b[38;5;28;01mif\u001b[39;00m \u001b[43mf\u001b[49m\u001b[43m(\u001b[49m\u001b[43ma\u001b[49m\u001b[43m)\u001b[49m \u001b[38;5;241m*\u001b[39m f(b) \u001b[38;5;241m>\u001b[39m\u001b[38;5;241m=\u001b[39m \u001b[38;5;241m0\u001b[39m:\n\u001b[0;32m     16\u001b[0m         \u001b[38;5;28mprint\u001b[39m(\u001b[38;5;124m\"\u001b[39m\u001b[38;5;124mEl intervalo inicial no es válido. Asegúrate de que f(a) * f(b) < 0.\u001b[39m\u001b[38;5;124m\"\u001b[39m)\n\u001b[0;32m     17\u001b[0m         \u001b[38;5;28;01mreturn\u001b[39;00m \u001b[38;5;28;01mNone\u001b[39;00m, \u001b[38;5;241m0\u001b[39m\n",
      "Cell \u001b[1;32mIn[64], line 5\u001b[0m, in \u001b[0;36mf\u001b[1;34m(x)\u001b[0m\n\u001b[0;32m      4\u001b[0m \u001b[38;5;28;01mdef\u001b[39;00m \u001b[38;5;21mf\u001b[39m(x):\n\u001b[1;32m----> 5\u001b[0m     \u001b[38;5;28;01mreturn\u001b[39;00m \u001b[43mmath\u001b[49m\u001b[38;5;241;43m.\u001b[39;49m\u001b[43mtan\u001b[49m\u001b[38;5;241;43m*\u001b[39;49m\u001b[43mmath\u001b[49m\u001b[38;5;241;43m.\u001b[39;49m\u001b[43mpi\u001b[49m\u001b[38;5;241m*\u001b[39mx\u001b[38;5;241m-\u001b[39m\u001b[38;5;241m6\u001b[39m\n",
      "\u001b[1;31mTypeError\u001b[0m: unsupported operand type(s) for *: 'builtin_function_or_method' and 'float'"
     ]
    }
   ],
   "source": [
    "# METODO DE LA BISECCION\n",
    "import math\n",
    "# Definir la función\n",
    "def f(x):\n",
    "    return math.tan*math.pi*x-6\n",
    "\n",
    "# Intervalo inicial\n",
    "a = 0\n",
    "b = 0.48\n",
    "tol=1e-6\n",
    "max_iter=100\n",
    "\n",
    "# Ejecutar el método\n",
    "raiz, iteraciones = biseccion(f, a, b)\n",
    "print(f\"Raíz aproximada: {raiz}, encontrada en {iteraciones} iteraciones.\")\n"
   ]
  },
  {
   "cell_type": "markdown",
   "metadata": {},
   "source": [
    "b. método de Newton"
   ]
  },
  {
   "cell_type": "code",
   "execution_count": 3,
   "metadata": {},
   "outputs": [
    {
     "ename": "NameError",
     "evalue": "name 'newton_raphson' is not defined",
     "output_type": "error",
     "traceback": [
      "\u001b[1;31m---------------------------------------------------------------------------\u001b[0m",
      "\u001b[1;31mNameError\u001b[0m                                 Traceback (most recent call last)",
      "Cell \u001b[1;32mIn[3], line 13\u001b[0m\n\u001b[0;32m     11\u001b[0m max_iter\u001b[38;5;241m=\u001b[39m\u001b[38;5;241m10\u001b[39m\n\u001b[0;32m     12\u001b[0m \u001b[38;5;66;03m# Ejecutar el método\u001b[39;00m\n\u001b[1;32m---> 13\u001b[0m raiz, iteraciones \u001b[38;5;241m=\u001b[39m \u001b[43mnewton_raphson\u001b[49m(f, df, x0, tol, max_iter)\n\u001b[0;32m     14\u001b[0m \u001b[38;5;28mprint\u001b[39m(\u001b[38;5;124mf\u001b[39m\u001b[38;5;124m\"\u001b[39m\u001b[38;5;124mRaíz aproximada: \u001b[39m\u001b[38;5;132;01m{\u001b[39;00mraiz\u001b[38;5;132;01m}\u001b[39;00m\u001b[38;5;124m, encontrada en \u001b[39m\u001b[38;5;132;01m{\u001b[39;00miteraciones\u001b[38;5;132;01m}\u001b[39;00m\u001b[38;5;124m iteraciones.\u001b[39m\u001b[38;5;124m\"\u001b[39m)\n",
      "\u001b[1;31mNameError\u001b[0m: name 'newton_raphson' is not defined"
     ]
    }
   ],
   "source": [
    "# METODO DE NEWTON\n",
    "def f(x):\n",
    "    return math.tan*math.pi*x-6\n",
    "\n",
    "def df(x):\n",
    "    return math.pi * (1 / math.cos(math.pi * x))**2\n",
    "\n",
    "# Aproximación inicial\n",
    "x0 = 0.2\n",
    "tol=1e-6\n",
    "max_iter=10\n",
    "# Ejecutar el método\n",
    "raiz, iteraciones = newton_raphson(f, df, x0, tol, max_iter)\n",
    "print(f\"Raíz aproximada: {raiz}, encontrada en {iteraciones} iteraciones.\")"
   ]
  },
  {
   "cell_type": "markdown",
   "metadata": {},
   "source": [
    "c. método de la secante"
   ]
  },
  {
   "cell_type": "code",
   "execution_count": 65,
   "metadata": {},
   "outputs": [
    {
     "ename": "TypeError",
     "evalue": "unsupported operand type(s) for *: 'builtin_function_or_method' and 'float'",
     "output_type": "error",
     "traceback": [
      "\u001b[1;31m---------------------------------------------------------------------------\u001b[0m",
      "\u001b[1;31mTypeError\u001b[0m                                 Traceback (most recent call last)",
      "Cell \u001b[1;32mIn[65], line 11\u001b[0m\n\u001b[0;32m      9\u001b[0m max_iter\u001b[38;5;241m=\u001b[39m\u001b[38;5;241m100\u001b[39m\n\u001b[0;32m     10\u001b[0m \u001b[38;5;66;03m# Ejecutar el método\u001b[39;00m\n\u001b[1;32m---> 11\u001b[0m raiz, iteraciones \u001b[38;5;241m=\u001b[39m \u001b[43mmetodo_secante\u001b[49m\u001b[43m(\u001b[49m\u001b[43mf\u001b[49m\u001b[43m,\u001b[49m\u001b[43m \u001b[49m\u001b[43mx0\u001b[49m\u001b[43m,\u001b[49m\u001b[43m \u001b[49m\u001b[43mx1\u001b[49m\u001b[43m,\u001b[49m\u001b[43m \u001b[49m\u001b[43mtol\u001b[49m\u001b[43m,\u001b[49m\u001b[43m \u001b[49m\u001b[43mmax_iter\u001b[49m\u001b[43m)\u001b[49m\n\u001b[0;32m     12\u001b[0m \u001b[38;5;28mprint\u001b[39m(\u001b[38;5;124mf\u001b[39m\u001b[38;5;124m\"\u001b[39m\u001b[38;5;124mRaíz aproximada: \u001b[39m\u001b[38;5;132;01m{\u001b[39;00mraiz\u001b[38;5;132;01m}\u001b[39;00m\u001b[38;5;124m, encontrada en \u001b[39m\u001b[38;5;132;01m{\u001b[39;00miteraciones\u001b[38;5;132;01m}\u001b[39;00m\u001b[38;5;124m iteraciones.\u001b[39m\u001b[38;5;124m\"\u001b[39m)\n",
      "Cell \u001b[1;32mIn[14], line 16\u001b[0m, in \u001b[0;36mmetodo_secante\u001b[1;34m(f, x0, x1, tol, max_iter)\u001b[0m\n\u001b[0;32m      2\u001b[0m \u001b[38;5;250m\u001b[39m\u001b[38;5;124;03m\"\"\"\u001b[39;00m\n\u001b[0;32m      3\u001b[0m \u001b[38;5;124;03mMétodo de la secante para encontrar la raíz de una función.\u001b[39;00m\n\u001b[0;32m      4\u001b[0m \u001b[38;5;124;03m\u001b[39;00m\n\u001b[1;32m   (...)\u001b[0m\n\u001b[0;32m     13\u001b[0m \u001b[38;5;124;03m- Número de iteraciones realizadas.\u001b[39;00m\n\u001b[0;32m     14\u001b[0m \u001b[38;5;124;03m\"\"\"\u001b[39;00m\n\u001b[0;32m     15\u001b[0m \u001b[38;5;28;01mfor\u001b[39;00m n \u001b[38;5;129;01min\u001b[39;00m \u001b[38;5;28mrange\u001b[39m(max_iter):\n\u001b[1;32m---> 16\u001b[0m     fx0 \u001b[38;5;241m=\u001b[39m \u001b[43mf\u001b[49m\u001b[43m(\u001b[49m\u001b[43mx0\u001b[49m\u001b[43m)\u001b[49m\n\u001b[0;32m     17\u001b[0m     fx1 \u001b[38;5;241m=\u001b[39m f(x1)\n\u001b[0;32m     19\u001b[0m     \u001b[38;5;28;01mif\u001b[39;00m \u001b[38;5;28mabs\u001b[39m(fx1) \u001b[38;5;241m<\u001b[39m tol:  \u001b[38;5;66;03m# La raíz es suficientemente precisa\u001b[39;00m\n",
      "Cell \u001b[1;32mIn[65], line 3\u001b[0m, in \u001b[0;36mf\u001b[1;34m(x)\u001b[0m\n\u001b[0;32m      2\u001b[0m \u001b[38;5;28;01mdef\u001b[39;00m \u001b[38;5;21mf\u001b[39m(x):\n\u001b[1;32m----> 3\u001b[0m     \u001b[38;5;28;01mreturn\u001b[39;00m \u001b[43mmath\u001b[49m\u001b[38;5;241;43m.\u001b[39;49m\u001b[43mtan\u001b[49m\u001b[38;5;241;43m*\u001b[39;49m\u001b[43mmath\u001b[49m\u001b[38;5;241;43m.\u001b[39;49m\u001b[43mpi\u001b[49m\u001b[38;5;241m*\u001b[39mx\u001b[38;5;241m-\u001b[39m\u001b[38;5;241m6\u001b[39m\n",
      "\u001b[1;31mTypeError\u001b[0m: unsupported operand type(s) for *: 'builtin_function_or_method' and 'float'"
     ]
    }
   ],
   "source": [
    "# METODO DE LA SECANTE\n",
    "def f(x):\n",
    "    return math.tan*math.pi*x-6\n",
    "\n",
    "# Valores iniciales\n",
    "x0 = 0.1\n",
    "x1 = 0.48\n",
    "tol=1e-6\n",
    "max_iter=100\n",
    "# Ejecutar el método\n",
    "raiz, iteraciones = metodo_secante(f, x0, x1, tol, max_iter)\n",
    "print(f\"Raíz aproximada: {raiz}, encontrada en {iteraciones} iteraciones.\")"
   ]
  },
  {
   "cell_type": "code",
   "execution_count": null,
   "metadata": {},
   "outputs": [],
   "source": []
  }
 ],
 "metadata": {
  "kernelspec": {
   "display_name": "Python 3",
   "language": "python",
   "name": "python3"
  },
  "language_info": {
   "codemirror_mode": {
    "name": "ipython",
    "version": 3
   },
   "file_extension": ".py",
   "mimetype": "text/x-python",
   "name": "python",
   "nbconvert_exporter": "python",
   "pygments_lexer": "ipython3",
   "version": "3.13.0"
  }
 },
 "nbformat": 4,
 "nbformat_minor": 2
}
