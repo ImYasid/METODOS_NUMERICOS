{
 "cells": [
  {
   "cell_type": "markdown",
   "metadata": {},
   "source": [
    "# [Tarea 09] Ejercicios Unidad 04-A-B | Eliminación gaussiana vs Gauss-Jordan"
   ]
  },
  {
   "cell_type": "markdown",
   "metadata": {},
   "source": [
    "-----------------\n",
    "### EJERCICIO UNO\n",
    "Para cada uno de los siguientes sistemas lineales, obtenga, de ser posible, una solución con métodos gráficos.\n",
    "Explique los resultados desde un punto de vista geométrico.\n",
    "### RESOLUCIÓN"
   ]
  },
  {
   "cell_type": "code",
   "execution_count": 3,
   "metadata": {},
   "outputs": [
    {
     "name": "stdout",
     "output_type": "stream",
     "text": [
      "[01-10 21:04:55][INFO] 2025-01-10 21:04:55.140642\n",
      "[01-10 21:04:55][INFO] 2025-01-10 21:04:55.141881\n",
      "[01-10 21:04:55][INFO] 2025-01-10 21:04:55.143524\n"
     ]
    }
   ],
   "source": [
    "%load_ext autoreload\n",
    "import numpy as np\n",
    "from src import eliminacion_gaussiana_redondeo,eliminacion_gaussiana, multiplicar_matriz_vector\n",
    "from src import gauss_jordan"
   ]
  },
  {
   "cell_type": "markdown",
   "metadata": {},
   "source": [
    "#### SISTEMA DE ECUACIONES A\n",
    "$$ x_1 + 2x_2 = 0 $$  \n",
    "$$ x_1 - x_2 = 0 $$"
   ]
  },
  {
   "cell_type": "code",
   "execution_count": 9,
   "metadata": {},
   "outputs": [
    {
     "name": "stdout",
     "output_type": "stream",
     "text": [
      "[01-10 21:20:00][INFO] \n",
      "[[ 1.  2.  0.]\n",
      " [ 0. -3.  0.]]\n",
      "La solución es: [ 0. -0.]\n"
     ]
    }
   ],
   "source": [
    "%autoreload 2\n",
    "A = [[1,2,0],[1,-1,0]]\n",
    "sol_a = eliminacion_gaussiana_redondeo(A)\n",
    "print(\"La solución es:\",sol_a)"
   ]
  },
  {
   "cell_type": "markdown",
   "metadata": {},
   "source": [
    "#### SISTEMA DE ECUACIONES B\n",
    "$$ x_1 + 2x_2 = 3 $$  \n",
    "$$ -2x_1 - 4x_2 = 6 $$"
   ]
  },
  {
   "cell_type": "code",
   "execution_count": 11,
   "metadata": {},
   "outputs": [
    {
     "name": "stdout",
     "output_type": "stream",
     "text": [
      "[01-10 21:20:42][INFO] \n",
      "[[-2. -4.  6.]\n",
      " [ 0.  0.  6.]]\n",
      "\n",
      "No existe solución.\n",
      "La solución es: None\n"
     ]
    }
   ],
   "source": [
    "%autoreload 2\n",
    "A = [[1,2,3],[-2,-4,6]]\n",
    "sol_a = eliminacion_gaussiana_redondeo(A)\n",
    "print(\"La solución es:\",sol_a)"
   ]
  },
  {
   "cell_type": "markdown",
   "metadata": {},
   "source": [
    "#### SISTEMA DE ECUACIONES C\n",
    "$$ 2x_1 + x_2 = -1 $$  \n",
    "$$ x_1 + x_2 = 2 $$  \n",
    "$$ x_1 - 3x_2 = 5 $$"
   ]
  },
  {
   "cell_type": "code",
   "execution_count": 12,
   "metadata": {},
   "outputs": [
    {
     "ename": "AssertionError",
     "evalue": "La matriz A debe ser de tamaño n-by-(n+1).",
     "output_type": "error",
     "traceback": [
      "\u001b[1;31m---------------------------------------------------------------------------\u001b[0m",
      "\u001b[1;31mAssertionError\u001b[0m                            Traceback (most recent call last)",
      "Cell \u001b[1;32mIn[12], line 3\u001b[0m\n\u001b[0;32m      1\u001b[0m get_ipython()\u001b[38;5;241m.\u001b[39mrun_line_magic(\u001b[38;5;124m'\u001b[39m\u001b[38;5;124mautoreload\u001b[39m\u001b[38;5;124m'\u001b[39m, \u001b[38;5;124m'\u001b[39m\u001b[38;5;124m2\u001b[39m\u001b[38;5;124m'\u001b[39m)\n\u001b[0;32m      2\u001b[0m A \u001b[38;5;241m=\u001b[39m [[\u001b[38;5;241m2\u001b[39m,\u001b[38;5;241m1\u001b[39m,\u001b[38;5;241m-\u001b[39m\u001b[38;5;241m1\u001b[39m],[\u001b[38;5;241m1\u001b[39m,\u001b[38;5;241m1\u001b[39m,\u001b[38;5;241m2\u001b[39m],[\u001b[38;5;241m1\u001b[39m,\u001b[38;5;241m-\u001b[39m\u001b[38;5;241m3\u001b[39m,\u001b[38;5;241m5\u001b[39m]]\n\u001b[1;32m----> 3\u001b[0m sol_a \u001b[38;5;241m=\u001b[39m \u001b[43meliminacion_gaussiana_redondeo\u001b[49m\u001b[43m(\u001b[49m\u001b[43mA\u001b[49m\u001b[43m)\u001b[49m\n\u001b[0;32m      4\u001b[0m \u001b[38;5;28mprint\u001b[39m(\u001b[38;5;124m\"\u001b[39m\u001b[38;5;124mLa solución es:\u001b[39m\u001b[38;5;124m\"\u001b[39m,sol_a)\n",
      "File \u001b[1;32mc:\\Users\\User\\Desktop\\EPN\\4. CUARTO SEMESTRE\\1. METODOS NUMERICOS\\2. TAREAS\\METODOS_NUMERICOS\\[TAREAS]\\[TAREA 09]\\src\\gaussian_elimination_round.py:43\u001b[0m, in \u001b[0;36meliminacion_gaussiana_redondeo\u001b[1;34m(A)\u001b[0m\n\u001b[0;32m     41\u001b[0m     logging\u001b[38;5;241m.\u001b[39mdebug(\u001b[38;5;124m\"\u001b[39m\u001b[38;5;124mConvirtiendo A a numpy array.\u001b[39m\u001b[38;5;124m\"\u001b[39m)\n\u001b[0;32m     42\u001b[0m     A \u001b[38;5;241m=\u001b[39m np\u001b[38;5;241m.\u001b[39marray(A, dtype\u001b[38;5;241m=\u001b[39mnp\u001b[38;5;241m.\u001b[39mfloat32)\n\u001b[1;32m---> 43\u001b[0m \u001b[38;5;28;01massert\u001b[39;00m A\u001b[38;5;241m.\u001b[39mshape[\u001b[38;5;241m0\u001b[39m] \u001b[38;5;241m==\u001b[39m A\u001b[38;5;241m.\u001b[39mshape[\u001b[38;5;241m1\u001b[39m] \u001b[38;5;241m-\u001b[39m \u001b[38;5;241m1\u001b[39m, \u001b[38;5;124m\"\u001b[39m\u001b[38;5;124mLa matriz A debe ser de tamaño n-by-(n+1).\u001b[39m\u001b[38;5;124m\"\u001b[39m\n\u001b[0;32m     44\u001b[0m n \u001b[38;5;241m=\u001b[39m A\u001b[38;5;241m.\u001b[39mshape[\u001b[38;5;241m0\u001b[39m]\n\u001b[0;32m     46\u001b[0m \u001b[38;5;28;01mfor\u001b[39;00m i \u001b[38;5;129;01min\u001b[39;00m \u001b[38;5;28mrange\u001b[39m(n \u001b[38;5;241m-\u001b[39m \u001b[38;5;241m1\u001b[39m):  \u001b[38;5;66;03m# loop por columna\u001b[39;00m\n\u001b[0;32m     47\u001b[0m \n\u001b[0;32m     48\u001b[0m     \u001b[38;5;66;03m# --- encontrar pivote\u001b[39;00m\n",
      "\u001b[1;31mAssertionError\u001b[0m: La matriz A debe ser de tamaño n-by-(n+1)."
     ]
    }
   ],
   "source": [
    "%autoreload 2\n",
    "A = [[2,1,-1],[1,1,2],[1,-3,5]]\n",
    "sol_a = eliminacion_gaussiana_redondeo(A)\n",
    "print(\"La solución es:\",sol_a)"
   ]
  },
  {
   "cell_type": "markdown",
   "metadata": {},
   "source": [
    "#### SISTEMA DE ECUACIONES D\n",
    "$$ 2x_1 + x_2 + x_3 = 1 $$  \n",
    "$$ 2x_1 + 4x_2 - x_3 = -1 $$"
   ]
  },
  {
   "cell_type": "code",
   "execution_count": 13,
   "metadata": {},
   "outputs": [
    {
     "ename": "AssertionError",
     "evalue": "La matriz A debe ser de tamaño n-by-(n+1).",
     "output_type": "error",
     "traceback": [
      "\u001b[1;31m---------------------------------------------------------------------------\u001b[0m",
      "\u001b[1;31mAssertionError\u001b[0m                            Traceback (most recent call last)",
      "Cell \u001b[1;32mIn[13], line 3\u001b[0m\n\u001b[0;32m      1\u001b[0m get_ipython()\u001b[38;5;241m.\u001b[39mrun_line_magic(\u001b[38;5;124m'\u001b[39m\u001b[38;5;124mautoreload\u001b[39m\u001b[38;5;124m'\u001b[39m, \u001b[38;5;124m'\u001b[39m\u001b[38;5;124m2\u001b[39m\u001b[38;5;124m'\u001b[39m)\n\u001b[0;32m      2\u001b[0m A \u001b[38;5;241m=\u001b[39m [[\u001b[38;5;241m2\u001b[39m,\u001b[38;5;241m1\u001b[39m,\u001b[38;5;241m1\u001b[39m,\u001b[38;5;241m1\u001b[39m],[\u001b[38;5;241m2\u001b[39m,\u001b[38;5;241m4\u001b[39m,\u001b[38;5;241m-\u001b[39m\u001b[38;5;241m1\u001b[39m,\u001b[38;5;241m-\u001b[39m\u001b[38;5;241m1\u001b[39m]]\n\u001b[1;32m----> 3\u001b[0m sol_a \u001b[38;5;241m=\u001b[39m \u001b[43meliminacion_gaussiana_redondeo\u001b[49m\u001b[43m(\u001b[49m\u001b[43mA\u001b[49m\u001b[43m)\u001b[49m\n\u001b[0;32m      4\u001b[0m \u001b[38;5;28mprint\u001b[39m(\u001b[38;5;124m\"\u001b[39m\u001b[38;5;124mLa solución es:\u001b[39m\u001b[38;5;124m\"\u001b[39m,sol_a)\n",
      "File \u001b[1;32mc:\\Users\\User\\Desktop\\EPN\\4. CUARTO SEMESTRE\\1. METODOS NUMERICOS\\2. TAREAS\\METODOS_NUMERICOS\\[TAREAS]\\[TAREA 09]\\src\\gaussian_elimination_round.py:43\u001b[0m, in \u001b[0;36meliminacion_gaussiana_redondeo\u001b[1;34m(A)\u001b[0m\n\u001b[0;32m     41\u001b[0m     logging\u001b[38;5;241m.\u001b[39mdebug(\u001b[38;5;124m\"\u001b[39m\u001b[38;5;124mConvirtiendo A a numpy array.\u001b[39m\u001b[38;5;124m\"\u001b[39m)\n\u001b[0;32m     42\u001b[0m     A \u001b[38;5;241m=\u001b[39m np\u001b[38;5;241m.\u001b[39marray(A, dtype\u001b[38;5;241m=\u001b[39mnp\u001b[38;5;241m.\u001b[39mfloat32)\n\u001b[1;32m---> 43\u001b[0m \u001b[38;5;28;01massert\u001b[39;00m A\u001b[38;5;241m.\u001b[39mshape[\u001b[38;5;241m0\u001b[39m] \u001b[38;5;241m==\u001b[39m A\u001b[38;5;241m.\u001b[39mshape[\u001b[38;5;241m1\u001b[39m] \u001b[38;5;241m-\u001b[39m \u001b[38;5;241m1\u001b[39m, \u001b[38;5;124m\"\u001b[39m\u001b[38;5;124mLa matriz A debe ser de tamaño n-by-(n+1).\u001b[39m\u001b[38;5;124m\"\u001b[39m\n\u001b[0;32m     44\u001b[0m n \u001b[38;5;241m=\u001b[39m A\u001b[38;5;241m.\u001b[39mshape[\u001b[38;5;241m0\u001b[39m]\n\u001b[0;32m     46\u001b[0m \u001b[38;5;28;01mfor\u001b[39;00m i \u001b[38;5;129;01min\u001b[39;00m \u001b[38;5;28mrange\u001b[39m(n \u001b[38;5;241m-\u001b[39m \u001b[38;5;241m1\u001b[39m):  \u001b[38;5;66;03m# loop por columna\u001b[39;00m\n\u001b[0;32m     47\u001b[0m \n\u001b[0;32m     48\u001b[0m     \u001b[38;5;66;03m# --- encontrar pivote\u001b[39;00m\n",
      "\u001b[1;31mAssertionError\u001b[0m: La matriz A debe ser de tamaño n-by-(n+1)."
     ]
    }
   ],
   "source": [
    "%autoreload 2\n",
    "A = [[2,1,1,1],[2,4,-1,-1]]\n",
    "sol_a = eliminacion_gaussiana_redondeo(A)\n",
    "print(\"La solución es:\",sol_a)"
   ]
  },
  {
   "cell_type": "markdown",
   "metadata": {},
   "source": [
    "_________________\n",
    "### EJERCICIO DOS\n",
    "Utilice la eliminación gaussiana con sustitución hacia atrás y aritmética de redondeo de dos dígitos para resolver los siguientes sistemas lineales. No reordene las ecuaciones. (La solución exacta para cada sistema es $x_1 = -1$, $x_2 = 2$, $x_3 = 3$.\n",
    "#### SISTEMA DE ECUACIONES A\n",
    "$$-x_1 + 4x_2 + x_3 = 8$$\n",
    "\n",
    "$$\\dfrac{5}{3}x_1 + \\dfrac{2}{3}x_2 + \\dfrac{2}{3}x_3 = 1$$\n",
    "\n",
    "$$2x_1 + x_2 + 4x_3 = 11$$\n"
   ]
  },
  {
   "cell_type": "code",
   "execution_count": 6,
   "metadata": {},
   "outputs": [
    {
     "name": "stdout",
     "output_type": "stream",
     "text": [
      "[01-10 21:18:21][INFO] \n",
      "[[ 2.00e+00  1.00e+00  4.00e+00  1.10e+01]\n",
      " [ 1.00e-02 -1.60e-01 -2.65e+00 -8.13e+00]\n",
      " [ 0.00e+00  4.50e+00  3.00e+00  1.35e+01]]\n",
      "[01-10 21:18:21][INFO] \n",
      "[[ 2.00e+00  1.00e+00  4.00e+00  1.10e+01]\n",
      " [ 0.00e+00  4.50e+00  3.00e+00  1.35e+01]\n",
      " [ 1.00e-02  2.00e-02 -2.53e+00 -7.59e+00]]\n",
      "La solución es: [-1.  1.  3.]\n"
     ]
    }
   ],
   "source": [
    "%autoreload 2\n",
    "A = [[-1.0,4.0,1.0,8.0],[5/3,2/3,2/3,1.0],[2.0,1.0,4.0,11.0]]\n",
    "sol_a = eliminacion_gaussiana_redondeo(A)\n",
    "print(\"La solución es:\",sol_a)"
   ]
  },
  {
   "cell_type": "markdown",
   "metadata": {},
   "source": [
    "#### SISTEMA DE ECUACIONES B\n",
    "\n",
    " $$4x_1+2x_2-x_3 = -5$$\n",
    "\n",
    " $$\\dfrac{1}{9}x_1+\\dfrac{1}{9}x_2-\\dfrac{1}{3}x_3 = -1$$\n",
    " \n",
    " $$x_1+4x_2+2x_3=9$$"
   ]
  },
  {
   "cell_type": "code",
   "execution_count": 5,
   "metadata": {},
   "outputs": [
    {
     "name": "stdout",
     "output_type": "stream",
     "text": [
      "[01-10 21:04:55][INFO] \n",
      "[[ 4.000e+00  2.000e+00 -1.000e+00 -5.000e+00]\n",
      " [-1.000e-02  5.000e-02 -3.000e-01 -8.500e-01]\n",
      " [ 0.000e+00  3.500e+00  2.250e+00  1.025e+01]]\n",
      "[01-10 21:04:55][INFO] \n",
      "[[ 4.000e+00  2.000e+00 -1.000e+00 -5.000e+00]\n",
      " [ 0.000e+00  3.500e+00  2.250e+00  1.025e+01]\n",
      " [-1.000e-02  1.000e-02 -3.200e-01 -9.500e-01]]\n",
      "La solución es: [-1.02     1.02     2.96875]\n"
     ]
    }
   ],
   "source": [
    "B = [[4,2,-1,-5],[1/9,1/9,-1/3,-1],[1,4,2,9]]\n",
    "sol_b = eliminacion_gaussiana_redondeo(B)\n",
    "print(\"La solución es:\",sol_b)"
   ]
  },
  {
   "cell_type": "markdown",
   "metadata": {},
   "source": [
    "-------------------------\n",
    "### EJERCICIO TRES\n",
    "Utilice el algoritmo de eliminación gaussiana para resolver, de ser posible, los siguientes sistemas lineales, y\n",
    "determine si se necesitan intercambios de fila:\n",
    "\n",
    "#### SISTEMA DE ECUACIONES A\n",
    "$$ x_1 - x_2 + 3x_3 = 2 $$  \n",
    "$$ 3x_1 - 3x_2 + x_3 = -1, $$\n",
    "$$ x_1 + x_2 = 3, $$  \n"
   ]
  },
  {
   "cell_type": "code",
   "execution_count": 14,
   "metadata": {},
   "outputs": [
    {
     "name": "stdout",
     "output_type": "stream",
     "text": [
      "[01-10 21:24:52][INFO] \n",
      "[[ 3.         -3.          1.         -1.        ]\n",
      " [ 0.          0.          2.6666667   2.3333333 ]\n",
      " [ 0.          2.         -0.33333334  3.3333333 ]]\n",
      "[01-10 21:24:52][INFO] \n",
      "[[ 3.         -3.          1.         -1.        ]\n",
      " [ 0.          2.         -0.33333334  3.3333333 ]\n",
      " [ 0.          0.          2.6666667   2.3333333 ]]\n",
      "\n",
      "La solución es: [1.1875     1.8125     0.87499994]\n"
     ]
    }
   ],
   "source": [
    "A = [[1,-1,3,2],[3,-3,1,-1],[1,1,0,3]]\n",
    "sol_a = eliminacion_gaussiana(A)\n",
    "print(\"\\nLa solución es:\",sol_a)"
   ]
  },
  {
   "cell_type": "markdown",
   "metadata": {},
   "source": [
    "#### SISTEMA DE ECUACIONES B\n",
    "$$ 2x_1 - 1.5x_2 + 3x_3 = 1, $$  \n",
    "$$ -x_1 + 2x_3 = 3, $$  \n",
    "$$ 4x_1 - 4.5x_2 + 5x_3 = 1, $$"
   ]
  },
  {
   "cell_type": "code",
   "execution_count": 15,
   "metadata": {},
   "outputs": [
    {
     "name": "stdout",
     "output_type": "stream",
     "text": [
      "[01-10 21:25:17][INFO] \n",
      "[[ 4.    -4.5    5.     1.   ]\n",
      " [ 0.    -1.125  3.25   3.25 ]\n",
      " [ 0.     0.75   0.5    0.5  ]]\n",
      "[01-10 21:25:17][INFO] \n",
      "[[ 4.        -4.5        5.         1.       ]\n",
      " [ 0.        -1.125      3.25       3.25     ]\n",
      " [ 0.         0.         2.6666667  2.6666667]]\n",
      "\n",
      "La solución es: [-1. -0.  1.]\n"
     ]
    }
   ],
   "source": [
    "B = [[2,-1.5,3,1],[-1,0,2,3],[4,-4.5,5,1]]\n",
    "sol_b = eliminacion_gaussiana(B)\n",
    "print(\"\\nLa solución es:\",sol_b)"
   ]
  },
  {
   "cell_type": "markdown",
   "metadata": {},
   "source": [
    "#### SISTEMA DE ECUACIONES C\n",
    "$$ 2x_1 = 3$$\n",
    "$$ x_1 + 1.5x_2 = 4.5, $$  \n",
    "$$ -3x_2 + 0.5x_3 = -6.6, $$  \n",
    "$$ 2x_1 - 2x_2 + x_3 + x_4 = 0.8, $$ "
   ]
  },
  {
   "cell_type": "code",
   "execution_count": 16,
   "metadata": {},
   "outputs": [
    {
     "name": "stdout",
     "output_type": "stream",
     "text": [
      "[01-10 21:25:24][INFO] \n",
      "[[ 2.   0.   0.   0.   3. ]\n",
      " [ 0.   1.5  0.   0.   3. ]\n",
      " [ 0.  -3.   0.5  0.  -6.6]\n",
      " [ 0.  -2.   1.   1.  -2.2]]\n",
      "[01-10 21:25:24][INFO] \n",
      "[[ 2.          0.          0.          0.          3.        ]\n",
      " [ 0.         -3.          0.5         0.         -6.6       ]\n",
      " [ 0.          0.          0.25        0.         -0.29999995]\n",
      " [ 0.          0.          0.6666666   1.          2.2       ]]\n",
      "[01-10 21:25:24][INFO] \n",
      "[[ 2.          0.          0.          0.          3.        ]\n",
      " [ 0.         -3.          0.5         0.         -6.6       ]\n",
      " [ 0.          0.          0.6666666   1.          2.2       ]\n",
      " [ 0.          0.          0.         -0.37500003 -1.125     ]]\n",
      "\n",
      "La solución es: [ 1.5        2.        -1.1999997  2.9999998]\n"
     ]
    }
   ],
   "source": [
    "C = [[2,0,0,0,3],[1,1.5,0,0,4.5],[0,-3,0.5,0,-6.6],[2,-2,1,1,0.8]]\n",
    "sol_c = eliminacion_gaussiana(C)\n",
    "print(\"\\nLa solución es:\",sol_c)"
   ]
  },
  {
   "cell_type": "markdown",
   "metadata": {},
   "source": [
    "#### SISTEMA DE ECUACIONES D\n",
    "$$ x_1 + x_2 + x_4 = 2, $$  \n",
    "$$ 2x_1 + x_2 - x_3 + x_4 = 1, $$  \n",
    "$$ 4x_1 - x_2 - 2x_3 + 2x_4 = 0, $$  \n",
    "$$ 3x_1 - x_2 - x_3 + 2x_4 = -3. $$"
   ]
  },
  {
   "cell_type": "code",
   "execution_count": 17,
   "metadata": {},
   "outputs": [
    {
     "name": "stdout",
     "output_type": "stream",
     "text": [
      "[01-10 21:25:32][INFO] \n",
      "[[ 4.   -1.   -2.    2.    0.  ]\n",
      " [ 0.    1.5   0.    0.    1.  ]\n",
      " [ 0.    1.25  0.5   0.5   2.  ]\n",
      " [ 0.   -0.25  0.5   0.5  -3.  ]]\n",
      "[01-10 21:25:32][INFO] \n",
      "[[ 4.        -1.        -2.         2.         0.       ]\n",
      " [ 0.         1.5        0.         0.         1.       ]\n",
      " [ 0.         0.         0.5        0.5        1.1666667]\n",
      " [ 0.         0.         0.5        0.5       -2.8333333]]\n",
      "[01-10 21:25:32][INFO] \n",
      "[[ 4.        -1.        -2.         2.         0.       ]\n",
      " [ 0.         1.5        0.         0.         1.       ]\n",
      " [ 0.         0.         0.5        0.5        1.1666667]\n",
      " [ 0.         0.         0.         0.        -4.       ]]\n",
      "\n",
      "No existe solución.\n"
     ]
    }
   ],
   "source": [
    "D = [[1,1,0,1,2],[2,1,-1,1,1],[4,-1,-2,2,0],[3,-1,-1,2,-3]]\n",
    "sol_d = eliminacion_gaussiana(D)"
   ]
  },
  {
   "cell_type": "markdown",
   "metadata": {},
   "source": [
    "-------------------------\n",
    "### EJERCICIO CUATRO\n",
    "Use el algoritmo de eliminación gaussiana y la aritmética computacional de precisión de 32 bits para resolver los\n",
    "siguientes sistemas lineales.\n",
    "\n",
    "#### SISTEMA DE ECUACIONES A\n",
    "$$ \\dfrac{1}{4}x_1 + \\dfrac{1}{5}x_2 + \\dfrac{1}{6}x_3 = 9,$$\n",
    "$$ \\dfrac{1}{3}x_1 + \\dfrac{1}{4}x_2 + \\dfrac{1}{5}x_3 = 8, $$  \n",
    "$$ \\dfrac{1}{2}x_1 + x_2 + 2x_3 = 8. $$  "
   ]
  },
  {
   "cell_type": "code",
   "execution_count": 18,
   "metadata": {},
   "outputs": [
    {
     "name": "stdout",
     "output_type": "stream",
     "text": [
      "[01-10 21:26:34][INFO] \n",
      "[[ 0.5        1.         2.         8.       ]\n",
      " [ 0.        -0.4166667 -1.1333333  2.6666665]\n",
      " [ 0.        -0.3       -0.8333333  5.       ]]\n",
      "[01-10 21:26:34][INFO] \n",
      "[[ 0.5         1.          2.          8.        ]\n",
      " [ 0.         -0.4166667  -1.1333333   2.6666665 ]\n",
      " [ 0.          0.         -0.01733333  3.0800002 ]]\n",
      "\n",
      "La solución es: [-227.07697  476.92322 -177.69237]\n"
     ]
    }
   ],
   "source": [
    "A = [[1/4,1/5,1/6,9],[1/3,1/4,1/5,8],[1/2,1,2,8]]\n",
    "sol_a = eliminacion_gaussiana(A)\n",
    "print(\"\\nLa solución es:\",sol_a)"
   ]
  },
  {
   "cell_type": "markdown",
   "metadata": {},
   "source": [
    "#### SISTEMA DE ECUACIONES B\n",
    "$$ 3.333x_1 + 15920x_2 - 10.333x_3 = 15913, $$  \n",
    "$$ 2.222x_1 + 16.71x_2 + 9.612x_3 = 28.544, $$  \n",
    "$$ 1.5611x_1 + 5.1791x_2 + 1.6852x_3 = 8.4254. $$  "
   ]
  },
  {
   "cell_type": "code",
   "execution_count": 19,
   "metadata": {},
   "outputs": [
    {
     "name": "stdout",
     "output_type": "stream",
     "text": [
      "[01-10 21:26:42][INFO] \n",
      "[[ 3.3329999e+00  1.5920000e+04 -1.0333000e+01  1.5913000e+04]\n",
      " [ 0.0000000e+00 -1.0596623e+04  1.6500668e+01 -1.0580122e+04]\n",
      " [ 0.0000000e+00 -7.4513804e+03  6.5249376e+00 -7.4448555e+03]]\n",
      "[01-10 21:26:42][INFO] \n",
      "[[ 3.3329999e+00  1.5920000e+04 -1.0333000e+01  1.5913000e+04]\n",
      " [ 0.0000000e+00 -1.0596623e+04  1.6500668e+01 -1.0580122e+04]\n",
      " [ 0.0000000e+00  0.0000000e+00 -5.0780745e+00 -5.0786133e+00]]\n",
      "\n",
      "La solución es: [0.99970937 1.0000001  1.0001061 ]\n"
     ]
    }
   ],
   "source": [
    "B = [[3.333,15920,-10.333,15913],[2.222,16.71,9.612,28.544],[1.5611,5.1791,1.6852,8.4254]]\n",
    "sol_b = eliminacion_gaussiana(B)\n",
    "print(\"\\nLa solución es:\",sol_b)\n"
   ]
  },
  {
   "cell_type": "markdown",
   "metadata": {},
   "source": [
    "#### SISTEMA DE ECUACIONES C\n",
    "$$ x_1 + \\dfrac{1}{2}x_2 + \\dfrac{1}{3}x_3 + \\dfrac{1}{4}x_4 = \\dfrac{1}{6},$$\n",
    "$$ \\dfrac{1}{2}x_1 + \\dfrac{1}{3}x_2 + \\dfrac{1}{4}x_3 + \\dfrac{1}{5}x_4 = \\dfrac{1}{7}, $$\n",
    "$$ \\dfrac{1}{3}x_1 + \\dfrac{1}{4}x_2 + \\dfrac{1}{5}x_3 + \\dfrac{1}{6}x_4 = \\dfrac{1}{8}, $$  \n",
    "$$ \\dfrac{1}{4}x_1 + \\dfrac{1}{5}x_2 + \\dfrac{1}{6}x_3 + \\dfrac{1}{7}x_4 = \\dfrac{1}{9}. $$  \n"
   ]
  },
  {
   "cell_type": "code",
   "execution_count": 20,
   "metadata": {},
   "outputs": [
    {
     "name": "stdout",
     "output_type": "stream",
     "text": [
      "[01-10 21:26:50][INFO] \n",
      "[[1.         0.5        0.33333334 0.25       0.16666667]\n",
      " [0.         0.08333334 0.08333333 0.075      0.05952381]\n",
      " [0.         0.08333333 0.08888888 0.08333334 0.06944444]\n",
      " [0.         0.075      0.08333334 0.08035715 0.06944445]]\n",
      "[01-10 21:26:50][INFO] \n",
      "[[1.         0.5        0.33333334 0.25       0.16666667]\n",
      " [0.         0.08333334 0.08333333 0.075      0.05952381]\n",
      " [0.         0.         0.00555557 0.00833335 0.00992064]\n",
      " [0.         0.         0.00833335 0.01285715 0.01587302]]\n",
      "[01-10 21:26:50][INFO] \n",
      "[[ 1.0000000e+00  5.0000000e-01  3.3333334e-01  2.5000000e-01\n",
      "   1.6666667e-01]\n",
      " [ 0.0000000e+00  8.3333343e-02  8.3333328e-02  7.5000003e-02\n",
      "   5.9523813e-02]\n",
      " [ 0.0000000e+00  0.0000000e+00  8.3333477e-03  1.2857154e-02\n",
      "   1.5873022e-02]\n",
      " [ 0.0000000e+00  0.0000000e+00  0.0000000e+00 -2.3809634e-04\n",
      "  -6.6138618e-04]]\n",
      "\n",
      "La solución es: [-0.03174745  0.59525675 -2.3809996   2.7778091 ]\n"
     ]
    }
   ],
   "source": [
    "C = [[1,1/2,1/3,1/4,1/6],[1/2,1/3,1/4,1/5,1/7],[1/3,1/4,1/5,1/6,1/8],[1/4,1/5,1/6,1/7,1/9]]\n",
    "sol_c = eliminacion_gaussiana(C)\n",
    "print(\"\\nLa solución es:\",sol_c)"
   ]
  },
  {
   "cell_type": "markdown",
   "metadata": {},
   "source": [
    "#### SISTEMA DE ECUACIONES D\n",
    "$$ 2x_1 + x_2 - x_3 + x_4 - 3x_5 = 7,$$ \n",
    "$$ x_1 + 2x_3 - x_4 + x_5 = 2, $$  \n",
    "$$ -2x_2 - x_3 + x_4 - x_5 = -5, $$  \n",
    "$$ 3x_1 + x_2 - 4x_3 + 5x_5 = 6, $$  \n",
    "$$ x_1 - x_2 - x_3 - x_4 + x_5 = -3.$$  "
   ]
  },
  {
   "cell_type": "code",
   "execution_count": 21,
   "metadata": {},
   "outputs": [
    {
     "name": "stdout",
     "output_type": "stream",
     "text": [
      "[01-10 21:26:57][INFO] \n",
      "[[ 3.          1.         -4.          0.          5.          6.        ]\n",
      " [ 0.         -0.33333334  3.3333335  -1.         -0.66666675  0.        ]\n",
      " [ 0.         -2.         -1.          1.         -1.         -5.        ]\n",
      " [ 0.          0.3333333   1.6666667   1.         -6.3333335   3.        ]\n",
      " [ 0.         -1.3333334   0.33333337 -1.         -0.66666675 -5.        ]]\n",
      "[01-10 21:26:57][INFO] \n",
      "[[ 3.0000000e+00  1.0000000e+00 -4.0000000e+00  0.0000000e+00\n",
      "   5.0000000e+00  6.0000000e+00]\n",
      " [ 0.0000000e+00 -2.0000000e+00 -1.0000000e+00  1.0000000e+00\n",
      "  -1.0000000e+00 -5.0000000e+00]\n",
      " [ 0.0000000e+00  0.0000000e+00  3.5000002e+00 -1.1666666e+00\n",
      "  -5.0000006e-01  8.3333337e-01]\n",
      " [ 0.0000000e+00  0.0000000e+00  1.5000001e+00  1.1666666e+00\n",
      "  -6.5000000e+00  2.1666667e+00]\n",
      " [ 0.0000000e+00  0.0000000e+00  1.0000000e+00 -1.6666667e+00\n",
      "  -5.9604645e-08 -1.6666665e+00]]\n",
      "[01-10 21:26:57][INFO] \n",
      "[[ 3.          1.         -4.          0.          5.          6.        ]\n",
      " [ 0.         -2.         -1.          1.         -1.         -5.        ]\n",
      " [ 0.          0.          3.5000002  -1.1666666  -0.50000006  0.8333334 ]\n",
      " [ 0.          0.          0.          1.6666666  -6.285714    1.8095238 ]\n",
      " [ 0.          0.          0.         -1.3333335   0.14285709 -1.9047618 ]]\n",
      "[01-10 21:26:57][INFO] \n",
      "[[ 3.          1.         -4.          0.          5.          6.        ]\n",
      " [ 0.         -2.         -1.          1.         -1.         -5.        ]\n",
      " [ 0.          0.          3.5000002  -1.1666666  -0.50000006  0.8333334 ]\n",
      " [ 0.          0.          0.          1.6666666  -6.285714    1.8095238 ]\n",
      " [ 0.          0.          0.          0.         -4.885715   -0.45714247]]\n",
      "\n",
      "La solución es: [1.8830409  2.8070176  0.730994   1.4385961  0.09356716]\n"
     ]
    }
   ],
   "source": [
    "D = [[2,1,-1,1,-3,7],[1,0,2,-1,1,2],[0,-2,-1,1,-1,-5],[3,1,-4,0,5,6],[1,-1,-1,-1,1,-3]]\n",
    "sol_d = eliminacion_gaussiana(D)\n",
    "print(\"\\nLa solución es:\",sol_d)"
   ]
  },
  {
   "cell_type": "markdown",
   "metadata": {},
   "source": [
    "-------------------------\n",
    "### EJERCICIO CINCO\n",
    "\n",
    "Dado el sistema lineal:\n",
    "\n",
    "$$x_1 - x_2 + \\alpha x_3 = -2$$\n",
    "\n",
    "$$-x_1 + 2x_2 - \\alpha x_3 = 3$$\n",
    "\n",
    "$$\\alpha x_1 + x_2 + x_3 = 2$$\n",
    "\n",
    "a. Encuentre el valor(es) de $\\alpha$ para los que el sistema no tiene soluciones.\n",
    "\n",
    "b. Encuentre el valor(es) de $\\alpha$ para los que el sistema tiene un número infinito de soluciones.\n",
    "\n",
    "c. Suponga que existe una única solución para un valor determinado de $\\alpha$, encuentre la solución.\n",
    "\n"
   ]
  },
  {
   "cell_type": "code",
   "execution_count": 27,
   "metadata": {},
   "outputs": [
    {
     "name": "stdout",
     "output_type": "stream",
     "text": [
      "Para α = -1, la solución es: No tiene solución o tiene infinitas soluciones\n",
      "Para α = 0, la solución es: [-1.  1.  1.]\n",
      "Para α = 1, la solución es: No tiene solución o tiene infinitas soluciones\n"
     ]
    }
   ],
   "source": [
    "def analyze_system(alpha):\n",
    "    matrix = [\n",
    "        [1, -1, alpha],\n",
    "        [-1, 2, -alpha],\n",
    "        [alpha, 1, 1]\n",
    "    ]\n",
    "    vector = [-2, 3, 2]\n",
    "\n",
    "    try:\n",
    "        # Convertir a matrices numpy\n",
    "        matrix = np.array(matrix, dtype=float)\n",
    "        vector = np.array(vector, dtype=float)\n",
    "\n",
    "        # Intentar resolver el sistema\n",
    "        solution = np.linalg.solve(matrix, vector)\n",
    "        return solution\n",
    "    except np.linalg.LinAlgError:\n",
    "        return \"No tiene solución o tiene infinitas soluciones\"\n",
    "\n",
    "alphas = [-1, 0, 1]\n",
    "for alpha in alphas:\n",
    "    result = analyze_system(alpha)\n",
    "    print(f\"Para α = {alpha}, la solución es: {result}\")"
   ]
  },
  {
   "cell_type": "markdown",
   "metadata": {},
   "source": [
    "\n",
    "---\n",
    "### EJERCICIO SEIS\n",
    "Suponga que en un sistema biológico existen $n$ especies de animales y $m$ fuentes de alimento. Si $x_j$ representa la población de la $j$-ésima especie, para cada $j = 1, \\ldots, n$; $b_i$ representa el suministro diario disponible del $i$-ésimo alimento y $a_{ij}$ representa la cantidad del $i$-ésimo alimento consumida por la $j$-ésima especie.\n",
    "\n",
    "$$a_{11}x_1 + a_{12}x_2 + \\cdots + a_{1n}x_n = b_1,$$  \n",
    "$$a_{21}x_1 + a_{22}x_2 + \\cdots + a_{2n}x_n = b_2,$$  \n",
    "$$\\vdots \\hspace{1.5cm} \\vdots \\hspace{2.2cm} \\vdots \\hspace{1cm} \\vdots  $$\n",
    "$$a_{m1}x_1 + a_{m2}x_2 + \\cdots + a_{mn}x_n = b_m,$$  \n",
    "\n",
    "Esto representa un equilibrio donde existe un suministro diario de alimento para cumplir con precisión con el promedio diario de consumo de cada especie.\n",
    "\n",
    "a. Si  \n",
    "\n",
    "\\begin{equation*}\n",
    "    A = [a_{ij}] =\n",
    "    \\begin{bmatrix}\n",
    "        1 & 2 & 0 & 3 \\\\\n",
    "        1 & 0 & 2 & 2 \\\\\n",
    "        0 & 0 & 1 & 1\n",
    "    \\end{bmatrix}\n",
    "\\end{equation*}\n",
    "\n",
    "$ \\textbf{x} = (x_j)=[1000, 500, 350, 400],$ y $\\textbf{b}= (b_i) = [3500, 2700, 900]$. ¿Existe suficiente alimento para satisfacer el consumo promedio diario? \n",
    "\n",
    "¿Existe suficiente alimento para satisfacer el consumo promedio diario?"
   ]
  },
  {
   "cell_type": "code",
   "execution_count": 23,
   "metadata": {},
   "outputs": [
    {
     "name": "stdout",
     "output_type": "stream",
     "text": [
      "El vector de consumo promedio diario es de: [3200. 2500.  750.]\n"
     ]
    }
   ],
   "source": [
    "A = np.array([[1,2,0,3],[1,0,2,2],[0,0,1,1]])\n",
    "x = np.array([1000,500,350,400])\n",
    "\n",
    "b_obtenido =  multiplicar_matriz_vector(A,x)\n",
    "print(\"El vector de consumo promedio diario es de:\",b_obtenido)"
   ]
  },
  {
   "cell_type": "markdown",
   "metadata": {},
   "source": [
    "**b.** ¿Cuál es el número máximo de animales de cada especie que se podría agregar de forma individual al sistema con el suministro de alimento que cumpla con el consumo?"
   ]
  },
  {
   "cell_type": "code",
   "execution_count": 24,
   "metadata": {},
   "outputs": [
    {
     "name": "stdout",
     "output_type": "stream",
     "text": [
      "El vector de consumo promedio diario es de: [3500. 2697.  846.]\n"
     ]
    }
   ],
   "source": [
    "A = np.array([[1,2,0,3],[1,0,2,2],[0,0,1,1]])\n",
    "x = np.array([1005,511,355,491])\n",
    "\n",
    "b_obtenido =  multiplicar_matriz_vector(A,x)\n",
    "print(\"El vector de consumo promedio diario es de:\",b_obtenido)"
   ]
  },
  {
   "cell_type": "markdown",
   "metadata": {},
   "source": [
    "**c.** Si la especie 1 se extingue, ¿qué cantidad de incremento individual de las especies restantes se podría soportar?"
   ]
  },
  {
   "cell_type": "code",
   "execution_count": 25,
   "metadata": {},
   "outputs": [
    {
     "name": "stdout",
     "output_type": "stream",
     "text": [
      "El vector de consumo promedio diario es de: [3500. 1800.  900.]\n"
     ]
    }
   ],
   "source": [
    "A = np.array([[1,2,0,3],[1,0,2,2],[0,0,1,1]])\n",
    "x = np.array([0,1000,400,500])\n",
    "\n",
    "b_obtenido =  multiplicar_matriz_vector(A,x)\n",
    "print(\"El vector de consumo promedio diario es de:\",b_obtenido)"
   ]
  },
  {
   "cell_type": "markdown",
   "metadata": {},
   "source": [
    "**d.** Si la especie 2 se extingue, ¿qué cantidad de incremento individual de las especies restantes se podría soportar?"
   ]
  },
  {
   "cell_type": "code",
   "execution_count": 26,
   "metadata": {},
   "outputs": [
    {
     "name": "stdout",
     "output_type": "stream",
     "text": [
      "El vector de consumo promedio diario es de: [2370. 2700.  810.]\n"
     ]
    }
   ],
   "source": [
    "A = np.array([[1,2,0,3],[1,0,2,2],[0,0,1,1]])\n",
    "x = np.array([1080,0,380,430])\n",
    "\n",
    "b_obtenido =  multiplicar_matriz_vector(A,x)\n",
    "print(\"El vector de consumo promedio diario es de:\",b_obtenido)"
   ]
  },
  {
   "cell_type": "markdown",
   "metadata": {},
   "source": [
    "En el caso de que la especie 2 se extinga, las poblaciones de las demás especies se verían beneficiadas con los siguientes aumentos:\n",
    "\n",
    "- Especie 1: Un incremento significativo de 80, lo cual indica una mayor capacidad de aprovechar los recursos disponibles.\n",
    "- Especie 3: Un aumento de 30, demostrando una adaptación moderada frente a la ausencia de la especie 2.\n",
    "- Especie 4: También un incremento de 30, evidenciando un equilibrio en el uso de los recursos compartidos."
   ]
  }
 ],
 "metadata": {
  "kernelspec": {
   "display_name": "Python 3",
   "language": "python",
   "name": "python3"
  },
  "language_info": {
   "codemirror_mode": {
    "name": "ipython",
    "version": 3
   },
   "file_extension": ".py",
   "mimetype": "text/x-python",
   "name": "python",
   "nbconvert_exporter": "python",
   "pygments_lexer": "ipython3",
   "version": "3.13.0"
  }
 },
 "nbformat": 4,
 "nbformat_minor": 2
}
