{
 "cells": [
  {
   "cell_type": "markdown",
   "metadata": {},
   "source": [
    "# [TAREA 05] Ejercicios unidad 2-B\n",
    "Dentro de este notebook se podrá encontrar ejercicios relacionados a:\n",
    "- Método de la Bisección\n",
    "- Método de Newton\n",
    "- Método de la Secante\n",
    "\n",
    "Para ello, primero se partirá con la generación de código que permitirá realizar el deber planteado."
   ]
  },
  {
   "cell_type": "markdown",
   "metadata": {},
   "source": [
    "### MÉTODO DE LA BISECCIÓN"
   ]
  },
  {
   "cell_type": "code",
   "execution_count": null,
   "metadata": {},
   "outputs": [],
   "source": [
    "def biseccion(f, a, b, tol, max_iter):\n",
    "    if f(a) * f(b) >= 0:\n",
    "        print(\"El intervalo inicial no es válido. Asegúrate de que f(a) * f(b) < 0.\")\n",
    "        return None, 0\n",
    "\n",
    "    for n in range(max_iter):\n",
    "        c = (a + b) / 2  # Punto medio\n",
    "        fc = f(c)\n",
    "\n",
    "        if abs(fc) < tol or (b - a) / 2 < tol:  # Criterio de parada\n",
    "            print(f\"Raíz encontrada en x = {c} después de {n} iteraciones.\")\n",
    "            return c, n\n",
    "\n",
    "        # Elegir el subintervalo que contiene la raíz\n",
    "        if f(a) * fc < 0:\n",
    "            b = c\n",
    "        else:\n",
    "            a = c\n",
    "\n",
    "    print(\"Se alcanzó el número máximo de iteraciones.\")\n",
    "    return (a + b) / 2, max_iter\n"
   ]
  },
  {
   "cell_type": "markdown",
   "metadata": {},
   "source": [
    "### MÉTODO DE NEWTON-RAPHSON\n",
    "Es un método iterativo el cual fue creado para encontrar las raices de una funcion $F(x)$. Que en otras palabras, son los valores de $x$ donde $F(x)=0$\n"
   ]
  },
  {
   "cell_type": "code",
   "execution_count": null,
   "metadata": {},
   "outputs": [],
   "source": [
    "import math\n",
    "\n",
    "def newton_raphson(f, df, x0, tol, max_iter):\n",
    "    xn = x0\n",
    "    for n in range(max_iter):\n",
    "        fxn = f(xn)\n",
    "        dfxn = df(xn)\n",
    "        \n",
    "        if abs(fxn) < tol:  # La raíz es suficientemente precisa\n",
    "            print(f\"Raíz encontrada en x = {xn} después de {n} iteraciones.\")\n",
    "            return xn, n\n",
    "        \n",
    "        # Si la derivada es muy pequeña, no podemos continuar con el método de Newton\n",
    "        if abs(dfxn) < 1e-10:\n",
    "            print(f\"Derivada muy pequeña en x = {xn}. No se puede continuar.\")\n",
    "            return None, n\n",
    "        \n",
    "        # Actualizar el valor de xn usando la fórmula de Newton\n",
    "        xn = xn - fxn / dfxn\n",
    "    \n",
    "    # Si se alcanzó el número máximo de iteraciones sin converger\n",
    "    print(\"Se alcanzó el número máximo de iteraciones.\")\n",
    "    return xn, max_iter"
   ]
  },
  {
   "cell_type": "markdown",
   "metadata": {},
   "source": [
    "### MÉTODO DE LA SECANTE"
   ]
  },
  {
   "cell_type": "code",
   "execution_count": null,
   "metadata": {},
   "outputs": [],
   "source": [
    "import numpy as np\n",
    "\n",
    "def metodo_secante(f, x0, x1, tol, max_iter):\n",
    "    for n in range(max_iter):\n",
    "        fx0 = f(x0)\n",
    "        fx1 = f(x1)\n",
    "\n",
    "        if abs(fx1) < tol:  # La raíz es suficientemente precisa\n",
    "            print(f\"Raíz encontrada en x = {x1} después de {n} iteraciones.\")\n",
    "            return x1, n\n",
    "\n",
    "        # Evitar división por cero\n",
    "        if fx1 - fx0 == 0:\n",
    "            print(\"Error: División por cero en el método de la secante.\")\n",
    "            return None, n\n",
    "\n",
    "        # Calcular el siguiente punto\n",
    "        x2 = x1 - fx1 * (x1 - x0) / (fx1 - fx0)\n",
    "\n",
    "        # Verificar avance\n",
    "        if abs(x2 - x1) < tol:\n",
    "            print(f\"Convergencia alcanzada en x = {x2} después de {n} iteraciones.\")\n",
    "            return x2, n\n",
    "\n",
    "        # Actualizar valores\n",
    "        x0, x1 = x1, x2\n",
    "\n",
    "    print(\"Se alcanzó el número máximo de iteraciones sin convergencia.\")\n",
    "    return x1, max_iter\n",
    "\n"
   ]
  },
  {
   "cell_type": "markdown",
   "metadata": {},
   "source": [
    "### CONJUNTO DE EJERCICIOS"
   ]
  },
  {
   "cell_type": "markdown",
   "metadata": {},
   "source": [
    "#### EJERCICIO UNO\n",
    "Sea $𝑓(𝑥) = −𝑥^3 − cos(𝑥)$ y $𝑝_0 = −1$. Use el método de Newton y de la Secante para encontrar $𝑝_2$. ¿Se podría usar $𝑝_0 = 0$?\n"
   ]
  },
  {
   "cell_type": "code",
   "execution_count": 79,
   "metadata": {},
   "outputs": [
    {
     "name": "stdout",
     "output_type": "stream",
     "text": [
      "Raíz encontrada en x = -0.865474075952977 después de 3 iteraciones.\n",
      "Raíz aproximada: -0.865474, encontrada en 3 iteraciones.\n"
     ]
    }
   ],
   "source": [
    "import math\n",
    "\n",
    "# Definir la función y su derivada\n",
    "def f(x):\n",
    "    return -x**3 - math.cos(x)\n",
    "\n",
    "def df(x):\n",
    "    return -3 * x**2 + math.sin(x)\n",
    "\n",
    "# Parámetros iniciales\n",
    "x0 = -1  # Aproximación inicial\n",
    "tol = 1e-6  # Tolerancia\n",
    "max_iter = 100  # Número máximo de iteraciones\n",
    "\n",
    "# Llamar al método de Newton-Raphson\n",
    "raiz, iteraciones = newton_raphson(f, df, x0, tol, max_iter)\n",
    "\n",
    "# Mostrar resultados\n",
    "if raiz is not None:\n",
    "    print(f\"Raíz aproximada: {raiz:.6f}, encontrada en {iteraciones} iteraciones.\")\n",
    "else:\n",
    "    print(\"El método de Newton-Raphson no pudo encontrar una raíz.\")\n"
   ]
  },
  {
   "cell_type": "code",
   "execution_count": 38,
   "metadata": {},
   "outputs": [
    {
     "name": "stdout",
     "output_type": "stream",
     "text": [
      "Raíz encontrada en x = -0.8654743032026917 después de 8 iteraciones.\n",
      "Raíz aproximada: -0.865474, encontrada en 8 iteraciones.\n"
     ]
    }
   ],
   "source": [
    "# METODO DE LA SECANTE\n",
    "def f(x):\n",
    "    return -x**3-math.cos(x)\n",
    "\n",
    "# Valores iniciales\n",
    "x0 = -1\n",
    "x1 = 1\n",
    "tol=1e-6\n",
    "max_iter=100\n",
    "# Ejecutar el método\n",
    "raiz, iteraciones = metodo_secante(f, x0, x1, tol, max_iter)\n",
    "# Mostrar resultados\n",
    "if raiz is not None:\n",
    "    print(f\"Raíz aproximada: {raiz:.6f}, encontrada en {iteraciones} iteraciones.\")\n",
    "else:\n",
    "    print(\"El método de la secante no pudo encontrar una raíz.\")\n",
    "\n"
   ]
  },
  {
   "cell_type": "markdown",
   "metadata": {},
   "source": [
    "#### EJERCICIO DOS\n",
    "Encuentre soluciones precisas dentro de 10-4 para los siguientes problemas:"
   ]
  },
  {
   "cell_type": "markdown",
   "metadata": {},
   "source": [
    "a. $x^3-2x^2-5=0$ para $[1,4]$"
   ]
  },
  {
   "cell_type": "code",
   "execution_count": 40,
   "metadata": {},
   "outputs": [
    {
     "name": "stdout",
     "output_type": "stream",
     "text": [
      "Raíz encontrada en x = 2.6906484961992585 después de 9 iteraciones.\n",
      "Raíz aproximada: 2.690648, encontrada en 9 iteraciones.\n"
     ]
    }
   ],
   "source": [
    "# METODO DE LA SECANTE\n",
    "def f(x):\n",
    "    return x**3-2*x**2-5\n",
    "\n",
    "# Valores iniciales\n",
    "x0 = 1\n",
    "x1 = 4\n",
    "tol=1e-4\n",
    "max_iter=100\n",
    "# Ejecutar el método\n",
    "raiz, iteraciones = metodo_secante(f, x0, x1, tol, max_iter)\n",
    "# Mostrar resultados\n",
    "if raiz is not None:\n",
    "    print(f\"Raíz aproximada: {raiz:.6f}, encontrada en {iteraciones} iteraciones.\")\n",
    "else:\n",
    "    print(\"El método de la secante no pudo encontrar una raíz.\")\n"
   ]
  },
  {
   "cell_type": "markdown",
   "metadata": {},
   "source": [
    "b. $x^3+3x^2-1=0$ para $[-3,-2]$"
   ]
  },
  {
   "cell_type": "code",
   "execution_count": 39,
   "metadata": {},
   "outputs": [
    {
     "name": "stdout",
     "output_type": "stream",
     "text": [
      "Convergencia alcanzada en x = -2.879385194736809 después de 5 iteraciones.\n",
      "Raíz aproximada: -2.879385, encontrada en 5 iteraciones.\n"
     ]
    }
   ],
   "source": [
    "# METODO DE LA SECANTE\n",
    "def f(x):\n",
    "    return x**3+3*x**2-1\n",
    "\n",
    "# Valores iniciales\n",
    "x0 = -3\n",
    "x1 = -2\n",
    "tol=1e-4\n",
    "max_iter=100\n",
    "# Ejecutar el método\n",
    "raiz, iteraciones = metodo_secante(f, x0, x1, tol, max_iter)\n",
    "# Mostrar resultados\n",
    "if raiz is not None:\n",
    "    print(f\"Raíz aproximada: {raiz:.6f}, encontrada en {iteraciones} iteraciones.\")\n",
    "else:\n",
    "    print(\"El método de la secante no pudo encontrar una raíz.\")\n"
   ]
  },
  {
   "cell_type": "markdown",
   "metadata": {},
   "source": [
    "c. $x-cos(x)=0$ para $[0,pi/2]$"
   ]
  },
  {
   "cell_type": "code",
   "execution_count": 41,
   "metadata": {},
   "outputs": [
    {
     "name": "stdout",
     "output_type": "stream",
     "text": [
      "Raíz encontrada en x = 0.7390834365030763 después de 4 iteraciones.\n",
      "Raíz aproximada: 0.739083, encontrada en 4 iteraciones.\n"
     ]
    }
   ],
   "source": [
    "# METODO DE LA SECANTE\n",
    "def f(x):\n",
    "    return x-math.cos(x)\n",
    "\n",
    "# Valores iniciales\n",
    "x0 = 0\n",
    "x1 = math.pi/2\n",
    "tol=1e-4\n",
    "max_iter=100\n",
    "# Ejecutar el método\n",
    "raiz, iteraciones = metodo_secante(f, x0, x1, tol, max_iter)\n",
    "# Mostrar resultados\n",
    "if raiz is not None:\n",
    "    print(f\"Raíz aproximada: {raiz:.6f}, encontrada en {iteraciones} iteraciones.\")\n",
    "else:\n",
    "    print(\"El método de la secante no pudo encontrar una raíz.\")\n"
   ]
  },
  {
   "cell_type": "markdown",
   "metadata": {},
   "source": [
    "d. $x-0.8-0.2sen(x)=0$ para $[0,pi/2]$"
   ]
  },
  {
   "cell_type": "code",
   "execution_count": 42,
   "metadata": {},
   "outputs": [
    {
     "name": "stdout",
     "output_type": "stream",
     "text": [
      "Raíz encontrada en x = 0.6750222077032085 después de 3 iteraciones.\n",
      "Raíz aproximada: 0.675022, encontrada en 3 iteraciones.\n"
     ]
    }
   ],
   "source": [
    "# METODO DE LA SECANTE\n",
    "def f(x):\n",
    "    return x-0.8+0.2*math.sin(x)\n",
    "\n",
    "# Valores iniciales\n",
    "x0 = 0\n",
    "x1 = math.pi/2\n",
    "tol=1e-4\n",
    "max_iter=100\n",
    "# Ejecutar el método\n",
    "raiz, iteraciones = metodo_secante(f, x0, x1, tol, max_iter)\n",
    "# Mostrar resultados\n",
    "if raiz is not None:\n",
    "    print(f\"Raíz aproximada: {raiz:.6f}, encontrada en {iteraciones} iteraciones.\")\n",
    "else:\n",
    "    print(\"El método de la secante no pudo encontrar una raíz.\")\n"
   ]
  },
  {
   "cell_type": "markdown",
   "metadata": {},
   "source": [
    "#### EJERCICIO TRES\n",
    "Use los 2 métodos en esta sección para encontrar las soluciones dentro de 10−5 para los siguientes problemas."
   ]
  },
  {
   "cell_type": "markdown",
   "metadata": {},
   "source": [
    "a. $3x-e^x=0$ para $1<=x<=2$"
   ]
  },
  {
   "cell_type": "code",
   "execution_count": 49,
   "metadata": {},
   "outputs": [
    {
     "name": "stdout",
     "output_type": "stream",
     "text": [
      "Raíz encontrada en x = 1.5121346254271246 después de 2 iteraciones.\n",
      "Raíz aproximada: 1.5121346254271246, encontrada en 2 iteraciones.\n"
     ]
    }
   ],
   "source": [
    "# METODO DE NEWTON\n",
    "def f(x):\n",
    "    return 3*x-math.e**x\n",
    "\n",
    "def df(x):\n",
    "    return 3-math.e**x\n",
    "\n",
    "# Aproximación inicial\n",
    "x0 = 1.5\n",
    "tol=1e-5\n",
    "max_iter=100\n",
    "# Ejecutar el método\n",
    "raiz, iteraciones = newton_raphson(f, df, x0, tol, max_iter)\n",
    "print(f\"Raíz aproximada: {raiz}, encontrada en {iteraciones} iteraciones.\")"
   ]
  },
  {
   "cell_type": "code",
   "execution_count": 43,
   "metadata": {},
   "outputs": [
    {
     "name": "stdout",
     "output_type": "stream",
     "text": [
      "Raíz encontrada en x = 1.5121339760022818 después de 8 iteraciones.\n",
      "Raíz aproximada: 1.512134, encontrada en 8 iteraciones.\n"
     ]
    }
   ],
   "source": [
    "# METODO DE LA SECANTE\n",
    "def f(x):\n",
    "    return 3*x-math.e**x\n",
    "\n",
    "# Valores iniciales\n",
    "x0 = 1\n",
    "x1 = 2\n",
    "tol=1e-5\n",
    "max_iter=100\n",
    "# Ejecutar el método\n",
    "raiz, iteraciones = metodo_secante(f, x0, x1, tol, max_iter)\n",
    "# Mostrar resultados\n",
    "if raiz is not None:\n",
    "    print(f\"Raíz aproximada: {raiz:.6f}, encontrada en {iteraciones} iteraciones.\")\n",
    "else:\n",
    "    print(\"El método de la secante no pudo encontrar una raíz.\")\n"
   ]
  },
  {
   "cell_type": "markdown",
   "metadata": {},
   "source": [
    "b. $2x-3cos(x)-e^x=0$ para $1<=x<=2$"
   ]
  },
  {
   "cell_type": "code",
   "execution_count": null,
   "metadata": {},
   "outputs": [
    {
     "name": "stdout",
     "output_type": "stream",
     "text": [
      "Se alcanzó el número máximo de iteraciones.\n",
      "Raíz aproximada: 7.032900, encontrada en 100 iteraciones.\n"
     ]
    }
   ],
   "source": [
    "# METODO DE NEWTON\n",
    "# Definir la función f(x) y su derivada df(x)\n",
    "def f(x):\n",
    "    return 2*x - 3*math.cos(x) - math.e**x\n",
    "\n",
    "def df(x):\n",
    "    return 2 + 3*math.sin(x) - math.e**x\n",
    "\n",
    "# Aproximación inicial\n",
    "x0 = 0 \n",
    "tol = 1e-5\n",
    "max_iter = 100\n",
    "\n",
    "# Ejecutar el método de Newton-Raphson\n",
    "raiz, iteraciones = newton_raphson(f, df, x0, tol, max_iter)\n",
    "\n",
    "# Mostrar resultados\n",
    "if raiz is not None:\n",
    "    print(f\"Raíz aproximada: {raiz:.6f}, encontrada en {iteraciones} iteraciones.\")\n",
    "else:\n",
    "    print(\"El método de Newton-Raphson no pudo encontrar una raíz.\")"
   ]
  },
  {
   "cell_type": "code",
   "execution_count": 63,
   "metadata": {},
   "outputs": [
    {
     "name": "stdout",
     "output_type": "stream",
     "text": [
      "Convergencia alcanzada en x = 2.2461216611195 después de 64 iteraciones.\n",
      "Raíz aproximada: 2.246122, encontrada en 64 iteraciones.\n"
     ]
    }
   ],
   "source": [
    "# METODO DE LA SECANTE\n",
    "def f(x):\n",
    "    return 2*x-3*math.cos(x)-math.e**x\n",
    "\n",
    "# Valores iniciales\n",
    "x0 = 1\n",
    "x1 = 2\n",
    "tol=1e-5\n",
    "max_iter=100\n",
    "# Ejecutar el método\n",
    "raiz, iteraciones = metodo_secante(f, x0, x1, tol, max_iter)\n",
    "# Mostrar resultados\n",
    "if raiz is not None:\n",
    "    print(f\"Raíz aproximada: {raiz:.6f}, encontrada en {iteraciones} iteraciones.\")\n",
    "else:\n",
    "    print(\"El método de la secante no pudo encontrar una raíz.\")\n"
   ]
  },
  {
   "cell_type": "markdown",
   "metadata": {},
   "source": [
    "#### EJERCICIO CUATRO\n",
    "El polinomio de cuarto grado<br>\n",
    "$f(x)=230x^4+18x^3+9x^2-221x-9$<br>\n",
    "tiene dos ceros reales, uno en [−1,0] y el otro en [0,1]. Intente aproximar estos ceros dentro de 10−6 con:\n",
    "\n"
   ]
  },
  {
   "cell_type": "markdown",
   "metadata": {},
   "source": [
    "a. El método de la secante (use los extremos como las estimaciones iniciales)"
   ]
  },
  {
   "cell_type": "code",
   "execution_count": 74,
   "metadata": {},
   "outputs": [
    {
     "name": "stdout",
     "output_type": "stream",
     "text": [
      "Convergencia alcanzada en x = -0.040659288315725135 después de 3 iteraciones.\n",
      "Raíz aproximada: -0.040659, encontrada en 3 iteraciones.\n"
     ]
    }
   ],
   "source": [
    "# METODO DE LA SECANTE\n",
    "def f(x):\n",
    "    return 230*x**4+18*x**3+9*x**2-221*x-9\n",
    "\n",
    "# Valores iniciales\n",
    "x0 = -1\n",
    "x1 = 0\n",
    "tol=1e-6\n",
    "max_iter=100\n",
    "# Ejecutar el método\n",
    "raiz, iteraciones = metodo_secante(f, x0, x1, tol, max_iter)\n",
    "# Mostrar resultados\n",
    "if raiz is not None:\n",
    "    print(f\"Raíz aproximada: {raiz:.6f}, encontrada en {iteraciones} iteraciones.\")\n",
    "else:\n",
    "    print(\"El método de la secante no pudo encontrar una raíz.\")"
   ]
  },
  {
   "cell_type": "code",
   "execution_count": 75,
   "metadata": {},
   "outputs": [
    {
     "name": "stdout",
     "output_type": "stream",
     "text": [
      "Convergencia alcanzada en x = -0.04065928831557162 después de 10 iteraciones.\n",
      "Raíz aproximada: -0.040659, encontrada en 10 iteraciones.\n"
     ]
    }
   ],
   "source": [
    "# METODO DE LA SECANTE\n",
    "def f(x):\n",
    "    return 230*x**4+18*x**3+9*x**2-221*x-9\n",
    "\n",
    "# Valores iniciales\n",
    "x0 = 0\n",
    "x1 = 1\n",
    "tol=1e-6\n",
    "max_iter=100\n",
    "# Ejecutar el método\n",
    "raiz, iteraciones = metodo_secante(f, x0, x1, tol, max_iter)\n",
    "# Mostrar resultados\n",
    "if raiz is not None:\n",
    "    print(f\"Raíz aproximada: {raiz:.6f}, encontrada en {iteraciones} iteraciones.\")\n",
    "else:\n",
    "    print(\"El método de la secante no pudo encontrar una raíz.\")"
   ]
  },
  {
   "cell_type": "markdown",
   "metadata": {},
   "source": [
    "b. El método de Newton (use el punto medio como estimación inicial)"
   ]
  },
  {
   "cell_type": "code",
   "execution_count": 55,
   "metadata": {},
   "outputs": [
    {
     "name": "stdout",
     "output_type": "stream",
     "text": [
      "Raíz encontrada en x = -0.04065928833207324 después de 5 iteraciones.\n",
      "Raíz aproximada: -0.04065928833207324, encontrada en 5 iteraciones.\n"
     ]
    }
   ],
   "source": [
    "# METODO DE NEWTON\n",
    "def f(x):\n",
    "    return 230*x**4+18*x**3+9*x**2-221*x-9\n",
    "\n",
    "def df(x):\n",
    "    return 930*x**3+54*x**2+18*x**2-221\n",
    "\n",
    "# Aproximación inicial\n",
    "x0 = -0.5\n",
    "tol=1e-6\n",
    "max_iter=100\n",
    "# Ejecutar el método\n",
    "raiz, iteraciones = newton_raphson(f, df, x0, tol, max_iter)\n",
    "print(f\"Raíz aproximada: {raiz}, encontrada en {iteraciones} iteraciones.\")"
   ]
  },
  {
   "cell_type": "code",
   "execution_count": 56,
   "metadata": {},
   "outputs": [
    {
     "name": "stdout",
     "output_type": "stream",
     "text": [
      "Raíz encontrada en x = -0.040659288048739924 después de 6 iteraciones.\n",
      "Raíz aproximada: -0.040659288048739924, encontrada en 6 iteraciones.\n"
     ]
    }
   ],
   "source": [
    "# METODO DE NEWTON\n",
    "def f(x):\n",
    "    return 230*x**4+18*x**3+9*x**2-221*x-9\n",
    "\n",
    "def df(x):\n",
    "    return 930*x**3+54*x**2+18*x**2-221\n",
    "\n",
    "# Aproximación inicial\n",
    "x0 = 0.5\n",
    "tol=1e-6\n",
    "max_iter=100\n",
    "# Ejecutar el método\n",
    "raiz, iteraciones = newton_raphson(f, df, x0, tol, max_iter)\n",
    "print(f\"Raíz aproximada: {raiz}, encontrada en {iteraciones} iteraciones.\")"
   ]
  },
  {
   "cell_type": "markdown",
   "metadata": {},
   "source": [
    "#### EJERCICIO CINCO\n",
    "La función 𝑓(𝑥) = tan 𝜋 𝑥 − 6 tiene cero en (1/𝜋) arcotangente 6 ≈ 0.447431543. Sea 𝑝0 = 0 y 𝑝1 = 0.48 y use 10 iteraciones en cada uno de los siguientes métodos para aproximar esta raíz. ¿Cuál método es más eficaz y por qué?"
   ]
  },
  {
   "cell_type": "markdown",
   "metadata": {},
   "source": [
    "a. Método de bisección"
   ]
  },
  {
   "cell_type": "code",
   "execution_count": 72,
   "metadata": {},
   "outputs": [
    {
     "name": "stdout",
     "output_type": "stream",
     "text": [
      "Raíz encontrada en x = 0.4474319458007812 después de 18 iteraciones.\n",
      "Raíz aproximada: 0.4474319458007812, encontrada en 18 iteraciones.\n"
     ]
    }
   ],
   "source": [
    "# METODO DE LA BISECCION\n",
    "import math\n",
    "# Definir la función\n",
    "def f(x):\n",
    "    return math.tan(math.pi * x) - 6\n",
    "\n",
    "# Intervalo inicial\n",
    "a = 0\n",
    "b = 0.48\n",
    "tol=1e-6\n",
    "max_iter=100\n",
    "\n",
    "# Ejecutar el método\n",
    "raiz, iteraciones = biseccion(f, a, b, tol, max_iter)\n",
    "print(f\"Raíz aproximada: {raiz}, encontrada en {iteraciones} iteraciones.\")\n"
   ]
  },
  {
   "cell_type": "markdown",
   "metadata": {},
   "source": [
    "b. método de Newton"
   ]
  },
  {
   "cell_type": "code",
   "execution_count": 70,
   "metadata": {},
   "outputs": [
    {
     "name": "stdout",
     "output_type": "stream",
     "text": [
      "Raíz encontrada en x = 5.4474315432924465 después de 10 iteraciones.\n",
      "Raíz aproximada: 5.447432, encontrada en 10 iteraciones.\n"
     ]
    }
   ],
   "source": [
    "# METODO DE NEWTON\n",
    "def f(x):\n",
    "    return math.tan(math.pi * x) - 6\n",
    "\n",
    "def df(x):\n",
    "    return math.pi * (1 / math.cos(math.pi * x))**2\n",
    "\n",
    "# Aproximación inicial\n",
    "x0 = 0.2\n",
    "tol=1e-6\n",
    "max_iter=100\n",
    "# Ejecutar el método de Newton-Raphson\n",
    "raiz, iteraciones = newton_raphson(f, df, x0, tol, max_iter)\n",
    "\n",
    "# Mostrar resultados\n",
    "if raiz is not None:\n",
    "    print(f\"Raíz aproximada: {raiz:.6f}, encontrada en {iteraciones} iteraciones.\")\n",
    "else:\n",
    "    print(\"El método de Newton-Raphson no pudo encontrar una raíz.\")"
   ]
  },
  {
   "cell_type": "markdown",
   "metadata": {},
   "source": [
    "c. método de la secante"
   ]
  },
  {
   "cell_type": "code",
   "execution_count": 78,
   "metadata": {},
   "outputs": [
    {
     "name": "stdout",
     "output_type": "stream",
     "text": [
      "Se alcanzó el número máximo de iteraciones sin convergencia.\n",
      "Raíz aproximada: -132122781871731033105904421106444579184312320.000000, encontrada en 100 iteraciones.\n"
     ]
    }
   ],
   "source": [
    "# METODO DE LA SECANTE\n",
    "def f(x):\n",
    "    return math.tan(math.pi * x) - 6\n",
    "\n",
    "# Valores iniciales\n",
    "x0 = 0.1\n",
    "x1 = 0.48\n",
    "tol=1e-6\n",
    "max_iter=100\n",
    "# Ejecutar el método\n",
    "raiz, iteraciones = metodo_secante(f, x0, x1, tol, max_iter)\n",
    "# Mostrar resultados\n",
    "if raiz is not None:\n",
    "    print(f\"Raíz aproximada: {raiz:.6f}, encontrada en {iteraciones} iteraciones.\")\n",
    "else:\n",
    "    print(\"El método de la secante no pudo encontrar una raíz.\")"
   ]
  },
  {
   "cell_type": "markdown",
   "metadata": {},
   "source": [
    "#### EJERCICO SEIS\n",
    "La función descrita por $f(x) = \\ln(x^2 + 1) - e^{0.4x} \\cos(\\pi)$ tiene un número infinito de ceros."
   ]
  },
  {
   "cell_type": "markdown",
   "metadata": {},
   "source": [
    "a. Determine, dentro de 10−6, el único cero negativo."
   ]
  },
  {
   "cell_type": "code",
   "execution_count": 10,
   "metadata": {},
   "outputs": [
    {
     "data": {
      "image/png": "[encoded data removed]",
      "text/plain": [
       "<Figure size 640x480 with 1 Axes>"
      ]
     },
     "metadata": {},
     "output_type": "display_data"
    }
   ],
   "source": [
    "import numpy as np\n",
    "import matplotlib.pyplot as plt\n",
    "\n",
    "# Definir la función\n",
    "def f(x):\n",
    "    return np.log(x**2 + 1) - np.exp(0.4 * x) * np.cos(np.pi * x)\n",
    "\n",
    "# Crear valores de x en el rango [-3, 0]\n",
    "x = np.linspace(-3, 0, 500)\n",
    "y = f(x)\n",
    "\n",
    "# Graficar\n",
    "plt.axhline(0, color='red', linestyle='--')  # Línea horizontal en y=0\n",
    "plt.plot(x, y, label=\"f(x)\")\n",
    "plt.xlabel(\"x\")\n",
    "plt.ylabel(\"f(x)\")\n",
    "plt.title(\"Gráfica de f(x) = ln(x^2 + 1) - e^(0.4x)cos(πx)\")\n",
    "plt.legend()\n",
    "plt.grid()\n",
    "plt.show()\n"
   ]
  },
  {
   "cell_type": "code",
   "execution_count": 11,
   "metadata": {},
   "outputs": [
    {
     "name": "stdout",
     "output_type": "stream",
     "text": [
      "Raíz encontrada en x = -0.4341430585731075 después de 2 iteraciones.\n",
      "Raíz aproximada: -0.4341430585731075, encontrada en 2 iteraciones.\n"
     ]
    }
   ],
   "source": [
    "# METODO DE NEWTON\n",
    "def f(x):\n",
    "    return np.log(x**2 + 1) - np.exp(0.4 * x) * np.cos(np.pi * x)\n",
    "\n",
    "def df(x):\n",
    "    return (2 * x / (x**2 + 1)) - (0.4 * np.exp(0.4 * x) * np.cos(np.pi * x)) + (np.pi * np.exp(0.4 * x) * np.sin(np.pi * x))\n",
    "\n",
    "# Aproximación inicial\n",
    "x0 =-0.5\n",
    "tol=1e-6\n",
    "max_iter=10\n",
    "# Ejecutar el método\n",
    "raiz, iteraciones = newton_raphson(f, df, x0, tol, max_iter)\n",
    "print(f\"Raíz aproximada: {raiz}, encontrada en {iteraciones} iteraciones.\")"
   ]
  },
  {
   "cell_type": "markdown",
   "metadata": {},
   "source": [
    "b. Determine, dentro de 10−6, los cuatro ceros positivos más pequeños."
   ]
  },
  {
   "cell_type": "markdown",
   "metadata": {},
   "source": [
    "c. Determine una aproximación inicial razonable para encontrar el enésimo cero positivo más pequeño de 𝑓."
   ]
  },
  {
   "cell_type": "markdown",
   "metadata": {},
   "source": [
    "d. Use la parte c) para determinar, dentro de 10−6\n",
    ", el vigesimoquinto cero positivo más pequeño de 𝑓."
   ]
  },
  {
   "cell_type": "markdown",
   "metadata": {},
   "source": [
    "#### EJERCICIO SIETE"
   ]
  },
  {
   "cell_type": "markdown",
   "metadata": {},
   "source": [
    "La función $f(x) = x^{1/3}$ tiene raíz en $x = 0$. Usando el punto de inicio $x = 1$ y $p_0 = 5$, $p_1 = 0.5$ para el método de la secante, compare los resultados de los métodos de la secante y de Newton.\n"
   ]
  },
  {
   "cell_type": "code",
   "execution_count": 82,
   "metadata": {},
   "outputs": [
    {
     "name": "stdout",
     "output_type": "stream",
     "text": [
      "Derivada muy pequeña en x = (281474976710639.3-0.6783456561375787j). No se puede continuar.\n",
      "Raíz aproximada: None, encontrada en 48 iteraciones.\n"
     ]
    }
   ],
   "source": [
    "# METODO DE NEWTON\n",
    "def f(x):\n",
    "    return x**(1/3)\n",
    "def df(x):\n",
    "    if abs(x) < 1e-6:  \n",
    "        return 1e6 \n",
    "    return (1 / 3) * x**(-2 / 3)\n",
    "\n",
    "# Aproximación inicial\n",
    "x0 =1\n",
    "tol=1e-6\n",
    "max_iter=100\n",
    "# Ejecutar el método\n",
    "raiz, iteraciones = newton_raphson(f, df, x0, tol, max_iter)\n",
    "print(f\"Raíz aproximada: {raiz}, encontrada en {iteraciones} iteraciones.\")"
   ]
  },
  {
   "cell_type": "code",
   "execution_count": null,
   "metadata": {},
   "outputs": [
    {
     "name": "stdout",
     "output_type": "stream",
     "text": [
      "Se alcanzó el número máximo de iteraciones sin convergencia.\n",
      "Raíz aproximada: -0.003025, encontrada en 100 iteraciones.\n"
     ]
    }
   ],
   "source": [
    "#METODO DE LA SECANTE\n",
    "def f(x):\n",
    "    return np.cbrt(x)  # x^(1/3)\n",
    "\n",
    "# Valores iniciales\n",
    "x0 = 0.01\n",
    "x1 = 0.1\n",
    "tol = 1e-6\n",
    "max_iter = 100\n",
    "\n",
    "# Ejecutar el método\n",
    "raiz, iteraciones = metodo_secante(f, x0, x1, tol, max_iter)\n",
    "\n",
    "# Mostrar resultados\n",
    "if raiz is not None:\n",
    "    print(f\"Raíz aproximada: {raiz:.6f}, encontrada en {iteraciones} iteraciones.\")\n",
    "else:\n",
    "    print(\"El método de la secante no pudo encontrar una raíz.\")\n"
   ]
  }
 ],
 "metadata": {
  "kernelspec": {
   "display_name": "Python 3",
   "language": "python",
   "name": "python3"
  },
  "language_info": {
   "codemirror_mode": {
    "name": "ipython",
    "version": 3
   },
   "file_extension": ".py",
   "mimetype": "text/x-python",
   "name": "python",
   "nbconvert_exporter": "python",
   "pygments_lexer": "ipython3",
   "version": "3.13.0"
  }
 },
 "nbformat": 4,
 "nbformat_minor": 2
}
