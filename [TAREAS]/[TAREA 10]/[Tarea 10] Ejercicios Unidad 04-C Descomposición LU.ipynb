{
 "cells": [
  {
   "cell_type": "markdown",
   "metadata": {},
   "source": [
    "# [Tarea 10] Ejercicios Unidad 04-C Descomposición LU"
   ]
  },
  {
   "cell_type": "code",
   "execution_count": 1,
   "metadata": {},
   "outputs": [],
   "source": [
    "%load_ext autoreload\n",
    "import numpy as np\n",
    "from src import multiplicar_matrices, descomposicion_LU, resolver_LU\n",
    "from src import eliminacion_gaussiana_L,eliminacion_gaussiana_U, determinante, inversa"
   ]
  },
  {
   "cell_type": "markdown",
   "metadata": {},
   "source": [
    "___\n",
    "\n",
    "## EJERCICIO UNO\n",
    "Realice las siguientes multiplicaciones matriz-matriz:\n",
    "\n",
    "### PARTE A\n",
    "\n",
    "\\begin{equation*}\n",
    "    \\begin{bmatrix}\n",
    "    2 & -3 \\\\\n",
    "    3 & -1 \n",
    "    \\end{bmatrix}\n",
    "    \\begin{bmatrix}\n",
    "    1 & 5 \\\\\n",
    "    2 & 0 \n",
    "    \\end{bmatrix}\n",
    "\\end{equation*}"
   ]
  },
  {
   "cell_type": "code",
   "execution_count": 2,
   "metadata": {},
   "outputs": [
    {
     "name": "stdout",
     "output_type": "stream",
     "text": [
      "El resultado de la multiplicación es: \n",
      " [[-4 10]\n",
      " [ 1 15]]\n"
     ]
    }
   ],
   "source": [
    "A = np.array([[2,-3],[3,-1]])\n",
    "B = np.array([[1,5],[2,0]])\n",
    "C = multiplicar_matrices(A,B)\n",
    "print(\"El resultado de la multiplicación es: \\n\",C)"
   ]
  },
  {
   "cell_type": "markdown",
   "metadata": {},
   "source": [
    "### PARTE B\n",
    "\n",
    "\\begin{equation*}\n",
    "    \\begin{bmatrix}\n",
    "    2 & -3 \\\\\n",
    "    3 & -1 \n",
    "    \\end{bmatrix}\n",
    "    \\begin{bmatrix}\n",
    "    1 & 5 & -4\\\\\n",
    "    -3 & 2 & 0\n",
    "    \\end{bmatrix}\n",
    "\\end{equation*}"
   ]
  },
  {
   "cell_type": "code",
   "execution_count": 3,
   "metadata": {},
   "outputs": [
    {
     "name": "stdout",
     "output_type": "stream",
     "text": [
      "El resultado de la multiplicación es: \n",
      " [[ 11   4  -8]\n",
      " [  6  13 -12]]\n"
     ]
    }
   ],
   "source": [
    "A = np.array([[2,-3],[3,-1]])\n",
    "B = np.array([[1,5,-4],[-3,2,0]])\n",
    "C = multiplicar_matrices(A,B)\n",
    "print(\"El resultado de la multiplicación es: \\n\",C)"
   ]
  },
  {
   "cell_type": "markdown",
   "metadata": {},
   "source": [
    "### PARTE C\n",
    "\n",
    "\\begin{equation*}\n",
    "    \\begin{bmatrix}\n",
    "    2 & -3 & 1\\\\\n",
    "    4 & 3 & 0\\\\\n",
    "    5 & 2 & -4\n",
    "    \\end{bmatrix}\n",
    "    \\begin{bmatrix}\n",
    "    0 & 1 & -2\\\\\n",
    "    1 & 0 & -1\\\\\n",
    "    2 & 3 & -2\n",
    "    \\end{bmatrix}\n",
    "\\end{equation*}"
   ]
  },
  {
   "cell_type": "code",
   "execution_count": 4,
   "metadata": {},
   "outputs": [
    {
     "name": "stdout",
     "output_type": "stream",
     "text": [
      "El resultado de la multiplicación es: \n",
      " [[ -1   5  -3]\n",
      " [  3   4 -11]\n",
      " [ -6  -7  -4]]\n"
     ]
    }
   ],
   "source": [
    "A = np.array([[2,-3,1],[4,3,0],[5,2,-4]])\n",
    "B = np.array([[0,1,-2],[1,0,-1],[2,3,-2]])\n",
    "C = multiplicar_matrices(A,B)\n",
    "print(\"El resultado de la multiplicación es: \\n\",C)"
   ]
  },
  {
   "cell_type": "markdown",
   "metadata": {},
   "source": [
    "### PARTE D\n",
    "\n",
    "\\begin{equation*}\n",
    "    \\begin{bmatrix}\n",
    "    2 & 1 & 2\\\\\n",
    "    -2 & 3 & 0\\\\\n",
    "    2 & -1 & 3\n",
    "    \\end{bmatrix}\n",
    "    \\begin{bmatrix}\n",
    "    1 & -2 \\\\\n",
    "    -4 & 1 \\\\\n",
    "    0 & 2\n",
    "    \\end{bmatrix}\n",
    "\\end{equation*}"
   ]
  },
  {
   "cell_type": "code",
   "execution_count": 5,
   "metadata": {},
   "outputs": [
    {
     "name": "stdout",
     "output_type": "stream",
     "text": [
      "El resultado de la multiplicación es: \n",
      " [[ -2   1]\n",
      " [-14   7]\n",
      " [  6   1]]\n"
     ]
    }
   ],
   "source": [
    "A = np.array([[2,1,2],[-2,3,0],[2,-1,3]])\n",
    "B = np.array([[1,-2],[-4,1],[0,2]])\n",
    "C = multiplicar_matrices(A,B)\n",
    "print(\"El resultado de la multiplicación es: \\n\",C)"
   ]
  },
  {
   "cell_type": "markdown",
   "metadata": {},
   "source": [
    "___\n",
    "## EJERCICIO DOS\n",
    "Determine cuáles de las siguientes matrices son no singulares y calcule la inversa de esas matrices:\n",
    "\n",
    "### PARTE A\n",
    "\n",
    "\\begin{equation*}\n",
    "    \\begin{bmatrix}\n",
    "    4 & 2 & 6\\\\\n",
    "    3 & 0 & 7\\\\\n",
    "    -2 & -1 & -3\n",
    "    \\end{bmatrix}\n",
    "\\end{equation*}\n"
   ]
  },
  {
   "cell_type": "code",
   "execution_count": 6,
   "metadata": {},
   "outputs": [
    {
     "name": "stdout",
     "output_type": "stream",
     "text": [
      "El determinante es: 0 \n",
      "Por tanto, la matriz es singular y no posee inversa\n"
     ]
    }
   ],
   "source": [
    "A = np.array([[4,2,6],[3,0,7],[-2,-1,-3]])\n",
    "det = determinante(A)\n",
    "if(det==0):\n",
    "    print(\"El determinante es:\",det, \"\\nPor tanto, la matriz es singular y no posee inversa\")\n",
    "else:\n",
    "    inv = inversa(A)\n",
    "    print(\"El determinante es:\",det, \"\\nSu matriz inversa es la siguiente:\", inv)"
   ]
  },
  {
   "cell_type": "markdown",
   "metadata": {},
   "source": [
    "### PARTE B\n",
    "\n",
    "\\begin{equation*}\n",
    "    \\begin{bmatrix}\n",
    "    1 & 2 & 0\\\\\n",
    "    2 & 1 & -1\\\\\n",
    "    3 & 1 & 1\n",
    "    \\end{bmatrix}\n",
    "\\end{equation*}"
   ]
  },
  {
   "cell_type": "code",
   "execution_count": 7,
   "metadata": {},
   "outputs": [
    {
     "name": "stdout",
     "output_type": "stream",
     "text": [
      "El determinante es: -7.999999999999999 \n",
      "Su matriz inversa es la siguiente:\n",
      " [[-0.25   0.25   0.25 ]\n",
      " [ 0.625 -0.125 -0.125]\n",
      " [ 0.125 -0.625  0.375]]\n"
     ]
    }
   ],
   "source": [
    "A = np.array([[1,2,0],[2,1,-1],[3,1,1]])\n",
    "det = determinante(A)\n",
    "if(det==0):\n",
    "    print(\"El determinante es:\",det, \"\\nPor tanto, la matriz es singular y no posee inversa\")\n",
    "else:\n",
    "    inv = inversa(A)\n",
    "    print(\"El determinante es:\",det, \"\\nSu matriz inversa es la siguiente:\\n\", inv)"
   ]
  },
  {
   "cell_type": "markdown",
   "metadata": {},
   "source": [
    "### PARTE C\n",
    "\n",
    "\\begin{equation*}\n",
    "    \\begin{bmatrix}\n",
    "    1 & 1 & -1 & 1\\\\\n",
    "    1 & 2 & -4 & -2\\\\\n",
    "    2 & 1 & 1 & 5 \\\\\n",
    "    -1 & 0 & -2 & -4\n",
    "    \\end{bmatrix}\n",
    "\\end{equation*}"
   ]
  },
  {
   "cell_type": "code",
   "execution_count": 8,
   "metadata": {},
   "outputs": [
    {
     "name": "stdout",
     "output_type": "stream",
     "text": [
      "El determinante es: 0 \n",
      "Por tanto, la matriz es singular y no posee inversa\n"
     ]
    }
   ],
   "source": [
    "%autoreload 2\n",
    "A = np.array([[1,1,-1,1],[1,2,-4,-2],[2,1,1,5],[-1,0,-2,-4]])\n",
    "det = determinante(A)\n",
    "if(det==0):\n",
    "    print(\"El determinante es:\",det, \"\\nPor tanto, la matriz es singular y no posee inversa\")\n",
    "else:\n",
    "    inv = inversa(A)\n",
    "    print(\"El determinante es:\",det, \"\\nSu matriz inversa es la siguiente:\", inv)"
   ]
  },
  {
   "cell_type": "markdown",
   "metadata": {},
   "source": [
    "### PARTE D\n",
    "\n",
    "\\begin{equation*}\n",
    "    \\begin{bmatrix}\n",
    "    4 & 0 & 0 & 0\\\\\n",
    "    6 & 7 & 0 & 0\\\\\n",
    "    9 & 11 & 1 & 0\\\\\n",
    "    5 & 4 & 1 & 1\n",
    "    \\end{bmatrix}\n",
    "\\end{equation*}"
   ]
  },
  {
   "cell_type": "code",
   "execution_count": 9,
   "metadata": {},
   "outputs": [
    {
     "name": "stdout",
     "output_type": "stream",
     "text": [
      "El determinante es: 27.999999999999993 \n",
      "Su matriz inversa es la siguiente:\n",
      " [[ 0.25        0.          0.          0.        ]\n",
      " [-0.21428571  0.14285714  0.          0.        ]\n",
      " [ 0.10714286 -1.57142857  1.          0.        ]\n",
      " [-0.5         1.         -1.          1.        ]]\n"
     ]
    }
   ],
   "source": [
    "A = np.array([[4,0,0,0],[6,7,0,0],[9,11,1,0],[5,4,1,1]])\n",
    "det = determinante(A)\n",
    "if(det==0):\n",
    "    print(\"El determinante es:\",det, \"\\nPor tanto, la matriz es singular y no posee inversa\")\n",
    "else:\n",
    "    inv = inversa(A)\n",
    "    print(\"El determinante es:\",det, \"\\nSu matriz inversa es la siguiente:\\n\", inv)"
   ]
  },
  {
   "cell_type": "markdown",
   "metadata": {},
   "source": [
    "___\n",
    "## EJERCICIO TRES\n",
    "Resuelva los sistemas lineales 4 x 4 que tienen la misma matriz de coeficientes:\n",
    "\n",
    "### PARTE A\n",
    "\n",
    "$$\n",
    "\\begin{aligned}\n",
    "x_1 - x_2 + 2x_3 - x_4 &= 6 \\\\\n",
    "x_1 \\phantom{-x_2} - x_3 + x_4 &= 4 \\\\\n",
    "2x_1 + x_2 + 3x_3 - 4x_4 &= -2 \\\\\n",
    "\\phantom{2x_1} - x_2 + x_3 - x_4 &= 5\n",
    "\\end{aligned}\n",
    "\\qquad \\qquad % Espacio horizontal\n",
    "\\begin{aligned}\n",
    "x_1 - x_2 + 2x_3 - x_4 &= 1 \\\\\n",
    "x_1 \\phantom{-x_2} - x_3 + x_4 &= 1 \\\\\n",
    "2x_1 + x_2 + 3x_3 - 4x_4 &= 2 \\\\\n",
    "\\phantom{2x_1} - x_2 + x_3 - x_4 &= -1\n",
    "\\end{aligned}\n",
    "$$\n",
    "\n",
    "Como ambos sistemas de ecuaciones poseen la misma matriz de coeficientes, se utilizara la descomposicion LU para resolver, donde:\n",
    "\n",
    "\\begin{equation*}\n",
    "    A =\n",
    "    \\begin{bmatrix}\n",
    "    1 & -1 & 2 & -1\\\\\n",
    "    1 & 0 & -1 & 1\\\\\n",
    "    2 & 1 & 3 &-4\\\\\n",
    "    0 & -1 & 1 & -1\n",
    "    \\end{bmatrix}\n",
    "\\end{equation*}\n"
   ]
  },
  {
   "cell_type": "code",
   "execution_count": 10,
   "metadata": {},
   "outputs": [
    {
     "name": "stdout",
     "output_type": "stream",
     "text": [
      "Matriz L:\n",
      " [[ 1.    0.    0.    0.  ]\n",
      " [ 1.    1.    0.    0.  ]\n",
      " [ 2.    3.    1.    0.  ]\n",
      " [ 0.   -1.   -0.25  1.  ]]\n",
      "Matriz U:\n",
      " [[ 1. -1.  2. -1.]\n",
      " [ 0.  1. -3.  2.]\n",
      " [ 0.  0.  8. -8.]\n",
      " [ 0.  0.  0. -1.]]\n"
     ]
    }
   ],
   "source": [
    "A = [[1,-1,2,-1],[1,0,-1,1],[2,1,3,-4],[0,-1,1,-1]]\n",
    "L,U = descomposicion_LU(A)\n",
    "print(\"Matriz L:\\n\",L)\n",
    "print(\"Matriz U:\\n\",U)"
   ]
  },
  {
   "cell_type": "code",
   "execution_count": 12,
   "metadata": {},
   "outputs": [
    {
     "name": "stdout",
     "output_type": "stream",
     "text": [
      "Calculando y\n",
      "y\n",
      "[ 6. -2. -8.  1.]\n",
      "Verificación Ly=b:\n",
      "[ 6.  4. -2.  5.]\n",
      "Calculando x\n",
      "x\n",
      "[ 3. -6. -2. -1.]\n",
      "Verificación Ux=y:\n",
      "[ 6. -2. -8.  1.]\n"
     ]
    }
   ],
   "source": [
    "%autoreload 2\n",
    "b_1 = [6,4,-2,5]\n",
    "sol_1 = resolver_LU(L,U,b_1)"
   ]
  },
  {
   "cell_type": "code",
   "execution_count": 13,
   "metadata": {},
   "outputs": [
    {
     "name": "stdout",
     "output_type": "stream",
     "text": [
      "Calculando y\n",
      "y\n",
      "[ 1.  0.  0. -1.]\n",
      "Verificación Ly=b:\n",
      "[ 1.  1.  2. -1.]\n",
      "Calculando x\n",
      "x\n",
      "[1. 1. 1. 1.]\n",
      "Verificación Ux=y:\n",
      "[ 1.  0.  0. -1.]\n"
     ]
    }
   ],
   "source": [
    "%autoreload 2\n",
    "b_2 = [1,1,2,-1]\n",
    "sol_2 = resolver_LU(L,U,b_2)"
   ]
  },
  {
   "cell_type": "markdown",
   "metadata": {},
   "source": [
    "Para finalizar, se obtuvo que $sol_1 = [3,-6,-2,-1]$ y $sol_2 = [1,1,1,1]$"
   ]
  },
  {
   "cell_type": "markdown",
   "metadata": {},
   "source": [
    "___\n",
    "## EJERCICIO CUATRO\n",
    "Encuentre los valores de A que hacen que la siguiente matriz sea singular\n",
    "\n",
    "$$\n",
    "A = \\begin{bmatrix}\n",
    "1 & -1 & \\alpha \\\\\n",
    "2 & 2 & 1 \\\\\n",
    "0 & \\alpha & -\\frac{3}{2}\n",
    "\\end{bmatrix}\n",
    "$$\n",
    "\n",
    "Primero se debe encontrar el determinante de la matriz, donde:\n",
    "\n",
    "$$\n",
    "\\begin{vmatrix}\n",
    "1 & -1 & a \\\\\n",
    "2 & 2 & 1 \\\\\n",
    "0 & a & -\\frac{3}{2}\n",
    "\\end{vmatrix} = 2a^2 - a - 6\n",
    "$$\n",
    "\n",
    "Para que sea una matriz singular, igualamos al determinante a cero, donde:\n",
    "\n",
    "Para encontrar los valores de *a* que hacen que el determinante sea cero, resolvemos la ecuación cuadrática:\n",
    "\n",
    "$$\n",
    "2a^2 - a - 6 = 0\n",
    "$$\n",
    "\n",
    "Usando la fórmula cuadrática:\n",
    "\n",
    "$$\n",
    "a = \\frac{-B \\pm \\sqrt{B^2 - 4AC}}{2A}\n",
    "$$\n",
    "\n",
    "Con *A = 2*, *B = -1* y *C = -6*:\n",
    "\n",
    "$$\n",
    "a = \\frac{1 \\pm \\sqrt{1 + 48}}{4} = \\frac{1 \\pm \\sqrt{49}}{4} = \\frac{1 \\pm 7}{4}\n",
    "$$\n",
    "\n",
    "Las dos soluciones son:\n",
    "\n",
    "$$\n",
    "a_1 = \\frac{1 + 7}{4} = 2\n",
    "$$\n",
    "\n",
    "$$\n",
    "a_2 = \\frac{1 - 7}{4} = -\\frac{3}{2}\n",
    "$$"
   ]
  },
  {
   "cell_type": "markdown",
   "metadata": {},
   "source": [
    "___\n",
    "## EJERCICIO CINCO\n",
    "Resuelva los siguientes sistemas lineales:\n",
    "\n",
    "### PARTE A\n",
    "$$\n",
    "\\begin{bmatrix}\n",
    "1 & 0 & 0 \\\\\n",
    "2 & 1 & 0 \\\\\n",
    "-1 & 0 & 1\n",
    "\\end{bmatrix}\n",
    "\\begin{bmatrix}\n",
    "2 & 3 & -1 \\\\\n",
    "0 & -2 & 1 \\\\\n",
    "0 & 0 & 3\n",
    "\\end{bmatrix}\n",
    "\\begin{bmatrix}\n",
    "x_1 \\\\\n",
    "x_2 \\\\\n",
    "x_3\n",
    "\\end{bmatrix} =\n",
    "\\begin{bmatrix}\n",
    "2 \\\\\n",
    "-1 \\\\\n",
    "1\n",
    "\\end{bmatrix}\n",
    "$$\n",
    "\n",
    "Usando LU, se tiene:\n"
   ]
  },
  {
   "cell_type": "code",
   "execution_count": 14,
   "metadata": {},
   "outputs": [
    {
     "name": "stdout",
     "output_type": "stream",
     "text": [
      "Calculando y\n",
      "y\n",
      "[ 2. -5.  3.]\n",
      "Verificación Ly=b:\n",
      "[ 2. -1.  1.]\n",
      "Calculando x\n",
      "x\n",
      "[-3.  3.  1.]\n",
      "Verificación Ux=y:\n",
      "[ 2. -5.  3.]\n"
     ]
    }
   ],
   "source": [
    "L = np.array([[1,0,0],[2,1,0],[-1,0,1]])\n",
    "U = np.array([[2,3,-1],[0,-2,1],[0,0,3]])\n",
    "b = [2,-1,1]\n",
    "resolver_LU(L,U,b)"
   ]
  },
  {
   "cell_type": "markdown",
   "metadata": {},
   "source": [
    "Su solucion es: \n",
    "\n",
    "\\begin{bmatrix}\n",
    "        -3 \\\\\n",
    "        3 \\\\\n",
    "        1 \n",
    "    \\end{bmatrix}\n",
    "\n",
    "### PARTE B\n",
    "\n",
    "\\begin{equation*}\n",
    "    \\begin{bmatrix}\n",
    "        2 & 0 & 0 \\\\\n",
    "        -1 & 1 & 0\\\\\n",
    "        3 & 2 & -1\n",
    "    \\end{bmatrix}\n",
    "    \\begin{bmatrix}\n",
    "        1 & 1 & 1\\\\\n",
    "        0 & 1 & 2\\\\\n",
    "        0 & 0 & 1\n",
    "    \\end{bmatrix}\n",
    "    \\begin{bmatrix}\n",
    "        x_1 \\\\\n",
    "        x_2 \\\\\n",
    "        x_3 \n",
    "    \\end{bmatrix} =\n",
    "    \\begin{bmatrix}\n",
    "        -1 \\\\\n",
    "        3 \\\\\n",
    "        0 \n",
    "    \\end{bmatrix}\n",
    "\\end{equation*}"
   ]
  },
  {
   "cell_type": "code",
   "execution_count": 15,
   "metadata": {},
   "outputs": [
    {
     "name": "stdout",
     "output_type": "stream",
     "text": [
      "Calculando y\n",
      "y\n",
      "[-0.5  2.5  3.5]\n",
      "Verificación Ly=b:\n",
      "[-1.  3.  0.]\n",
      "Calculando x\n",
      "x\n",
      "[ 0.5 -4.5  3.5]\n",
      "Verificación Ux=y:\n",
      "[-0.5  2.5  3.5]\n"
     ]
    }
   ],
   "source": [
    "L = np.array([[2,0,0],[-1,1,0],[3,2,-1]])\n",
    "U = np.array([[1,1,1],[0,1,2],[0,0,1]])\n",
    "b = [-1,3,0]\n",
    "resolver_LU(L,U,b)"
   ]
  },
  {
   "cell_type": "markdown",
   "metadata": {},
   "source": [
    "Su solucion es: \n",
    "\n",
    "   \\begin{bmatrix}\n",
    "        0.5 \\\\\n",
    "        -4.5 \\\\\n",
    "        3.5 \n",
    "    \\end{bmatrix}"
   ]
  },
  {
   "cell_type": "markdown",
   "metadata": {},
   "source": [
    "___\n",
    "## EJERCICIO SEIS\n",
    "Factorice las siguientes matrices en la descomposición LU mediante el algoritmo de factorización LU\n",
    "con lii = 1 para todas las i.\n",
    "## PARTE A\n",
    "\n",
    "\\begin{equation*}\n",
    "    \\begin{bmatrix}\n",
    "    2 & -1 & 1\\\\\n",
    "    3 & 3 & 9\\\\\n",
    "    3 & 3 & 5\n",
    "    \\end{bmatrix}\n",
    "\\end{equation*}"
   ]
  },
  {
   "cell_type": "code",
   "execution_count": 16,
   "metadata": {},
   "outputs": [
    {
     "name": "stdout",
     "output_type": "stream",
     "text": [
      "Matriz L:\n",
      " [[1.  0.  0. ]\n",
      " [1.5 1.  0. ]\n",
      " [1.5 1.  1. ]]\n",
      "Matriz U:\n",
      " [[ 2.  -1.   1. ]\n",
      " [ 0.   4.5  7.5]\n",
      " [ 0.   0.  -4. ]]\n"
     ]
    }
   ],
   "source": [
    "A = [[2,-1,1],[3,3,9],[3,3,5]]\n",
    "L,U = descomposicion_LU(A)\n",
    "print(\"Matriz L:\\n\",L)\n",
    "print(\"Matriz U:\\n\",U)"
   ]
  },
  {
   "cell_type": "markdown",
   "metadata": {},
   "source": [
    "### PARTE B\n",
    "\n",
    "\\begin{equation*}\n",
    "    \\begin{bmatrix}\n",
    "    1.012 & -2.132 & 3.104\\\\\n",
    "    -2.132 & 4.096 & -7.013\\\\\n",
    "    3.104 & -7.013 & 0.014\n",
    "    \\end{bmatrix}\n",
    "\\end{equation*}"
   ]
  },
  {
   "cell_type": "code",
   "execution_count": 17,
   "metadata": {},
   "outputs": [
    {
     "name": "stdout",
     "output_type": "stream",
     "text": [
      "Matriz L:\n",
      " [[ 1.          0.          0.        ]\n",
      " [-2.10671937  1.          0.        ]\n",
      " [ 3.06719368  1.19775553  1.        ]]\n",
      "Matriz U:\n",
      " [[ 1.012      -2.132       3.104     ]\n",
      " [ 0.         -0.39552569 -0.47374308]\n",
      " [ 0.          0.         -8.93914077]]\n"
     ]
    }
   ],
   "source": [
    "B = [[1.012,-2.132,3.104],[-2.132,4.096,-7.013],[3.104,-7.013,0.014]]\n",
    "L,U = descomposicion_LU(B)\n",
    "print(\"Matriz L:\\n\",L)\n",
    "print(\"Matriz U:\\n\",U)"
   ]
  },
  {
   "cell_type": "markdown",
   "metadata": {},
   "source": [
    "### PARTE C\n",
    "\n",
    "\\begin{equation*}\n",
    "    \\begin{bmatrix}\n",
    "    2 & 0 & 0 & 0\\\\\n",
    "    1 & 1.5 & 0 & 0\\\\\n",
    "    0 & -3 & 0.5 & 0\\\\\n",
    "    2 & -2 & 1 & 1\n",
    "    \\end{bmatrix}\n",
    "\\end{equation*}"
   ]
  },
  {
   "cell_type": "code",
   "execution_count": 18,
   "metadata": {},
   "outputs": [
    {
     "name": "stdout",
     "output_type": "stream",
     "text": [
      "Matriz L:\n",
      " [[ 1.          0.          0.          0.        ]\n",
      " [ 0.5         1.          0.          0.        ]\n",
      " [ 0.         -2.          1.          0.        ]\n",
      " [ 1.         -1.33333333  2.          1.        ]]\n",
      "Matriz U:\n",
      " [[2.  0.  0.  0. ]\n",
      " [0.  1.5 0.  0. ]\n",
      " [0.  0.  0.5 0. ]\n",
      " [0.  0.  0.  1. ]]\n"
     ]
    }
   ],
   "source": [
    "C = [[2,0,0,0],[1,1.5,0,0],[0,-3,0.5,0],[2,-2,1,1]]\n",
    "L,U = descomposicion_LU(C)\n",
    "print(\"Matriz L:\\n\",L)\n",
    "print(\"Matriz U:\\n\",U)"
   ]
  },
  {
   "cell_type": "markdown",
   "metadata": {},
   "source": [
    "## PARTE D\n",
    "\n",
    "\\begin{equation*}\n",
    "    \\begin{bmatrix}\n",
    "    2.1756 & 4.0231 & -2.1732 & 5.1967\\\\\n",
    "    -4.0231 & 6.0000 & 0 & 1.1973\\\\\n",
    "    -1.0000 & -5.2107 & 1.1111 & 0\\\\\n",
    "    6.0235 & 7.0000 & 0 & -4.1561\n",
    "    \\end{bmatrix}\n",
    "\\end{equation*}"
   ]
  },
  {
   "cell_type": "code",
   "execution_count": 19,
   "metadata": {},
   "outputs": [
    {
     "name": "stdout",
     "output_type": "stream",
     "text": [
      "Matriz L:\n",
      " [[ 1.          0.          0.          0.        ]\n",
      " [-1.84919103  1.          0.          0.        ]\n",
      " [-0.45964332 -0.25012194  1.          0.        ]\n",
      " [ 2.76866152 -0.30794361 -5.35228302  1.        ]]\n",
      "Matriz U:\n",
      " [[ 2.17560000e+00  4.02310000e+00 -2.17320000e+00  5.19670000e+00]\n",
      " [ 0.00000000e+00  1.34394804e+01 -4.01866194e+00  1.08069910e+01]\n",
      " [ 0.00000000e+00  4.44089210e-16 -8.92952394e-01  5.09169403e+00]\n",
      " [ 0.00000000e+00  0.00000000e+00  0.00000000e+00  1.20361280e+01]]\n"
     ]
    }
   ],
   "source": [
    "D = [[2.1756,4.0231,-2.1732,5.1967],[-4.0231,6.0000,0,1.1973],\n",
    "     [-1.0000,-5.2107,1.1111,0],[6.0235,7.0000,0,-4.1561]]\n",
    "L,U = descomposicion_LU(D)\n",
    "print(\"Matriz L:\\n\",L)\n",
    "print(\"Matriz U:\\n\",U)"
   ]
  },
  {
   "cell_type": "markdown",
   "metadata": {},
   "source": [
    "___\n",
    "## EJERCICIO SIETE\n",
    "Modifique el algoritmo de eliminación gaussiana de tal forma que se pueda utilizar para resolver un sistema\n",
    "lineal usando la descomposición LU y, a continuación, resuelva los siguientes sistemas lineales.\n",
    "### PARTE A\n",
    "\n",
    "$$\n",
    "\\begin{aligned}\n",
    "2x_1 - x_2 + x_3 &= -1 \\\\\n",
    "3x_1 + 3x_2 + 9x_3 &= 0 \\\\\n",
    "3x_1 + 3x_2 + 5x_3 &= 4\n",
    "\\end{aligned}\n",
    "$$"
   ]
  },
  {
   "cell_type": "code",
   "execution_count": 20,
   "metadata": {},
   "outputs": [
    {
     "name": "stdout",
     "output_type": "stream",
     "text": [
      "\n",
      "Matriz L:\n",
      " [[1.  0.  0. ]\n",
      " [1.5 1.  0. ]\n",
      " [1.5 1.  1. ]]\n",
      "\n",
      "Matriz U:\n",
      " [[ 2.  -1.   1. ]\n",
      " [ 0.   4.5  7.5]\n",
      " [ 0.   0.  -4. ]]\n",
      "\n",
      "[[ 1.   0.   0.   1. ]\n",
      " [ 0.   1.   0.  -1.5]\n",
      " [ 1.5  1.   1.   4. ]]\n",
      "\n",
      "[[ 1.   0.   0.   1. ]\n",
      " [ 0.   1.   0.  -1.5]\n",
      " [ 0.   1.   1.   2.5]]\n",
      "\n",
      "[[ 1.   0.   0.   1. ]\n",
      " [ 0.   1.   0.  -1.5]\n",
      " [ 0.   0.   1.   4. ]]\n",
      "\n",
      "Valor de y: [ 1.  -1.5  4. ] \n",
      "\n",
      "[[ 2.  -1.   1.   1. ]\n",
      " [ 0.   4.5  7.5 -1.5]\n",
      " [ 0.   0.  -4.   4. ]]\n",
      "\n",
      "[[ 2.  -1.   1.   1. ]\n",
      " [ 0.   4.5  0.   6. ]\n",
      " [ 0.   0.  -4.   4. ]]\n",
      "\n",
      "[[ 2.  -1.   0.   2. ]\n",
      " [ 0.   4.5  0.   6. ]\n",
      " [ 0.   0.  -4.   4. ]]\n",
      "\n",
      "[[ 2.          0.          0.          3.33333333]\n",
      " [ 0.          4.5         0.          6.        ]\n",
      " [ 0.          0.         -4.          4.        ]]\n",
      "\n",
      "Valor de la solución x: [ 1.6666666  1.3333334 -1.       ]\n"
     ]
    }
   ],
   "source": [
    "A = [[2,-1,1],[3,3,9],[3,3,5]]\n",
    "b = [1,0,4]\n",
    "L,U = descomposicion_LU(A)\n",
    "print(\"\\nMatriz L:\\n\",L)\n",
    "print(\"\\nMatriz U:\\n\",U)\n",
    "y = eliminacion_gaussiana_L(L,b)\n",
    "print(\"\\nValor de y:\", y,\"\\n\")\n",
    "x = eliminacion_gaussiana_U(U,y)\n",
    "print(\"\\nValor de la solución x:\", x)"
   ]
  },
  {
   "cell_type": "markdown",
   "metadata": {},
   "source": [
    "### PARTE B\n",
    "$$\n",
    "\\begin{aligned}\n",
    "1.012x_1 - 2.132x_2 + 3.104x_3 &= 1.984 \\\\\n",
    "-2.132x_1 + 4.096x_2 - 7.013x_3 &= -5.049 \\\\\n",
    "3.104x_1 - 7.013x_2 + 0.014x_3 &= -3.895\n",
    "\\end{aligned}\n",
    "$$"
   ]
  },
  {
   "cell_type": "code",
   "execution_count": 21,
   "metadata": {},
   "outputs": [
    {
     "name": "stdout",
     "output_type": "stream",
     "text": [
      "\n",
      "Matriz L:\n",
      " [[ 1.          0.          0.        ]\n",
      " [-2.10671937  1.          0.        ]\n",
      " [ 3.06719368  1.19775553  1.        ]]\n",
      "\n",
      "Matriz U:\n",
      " [[ 1.012      -2.132       3.104     ]\n",
      " [ 0.         -0.39552569 -0.47374308]\n",
      " [ 0.          0.         -8.93914077]]\n",
      "\n",
      "[[ 1.          0.          0.          1.984     ]\n",
      " [ 0.          1.          0.         -0.86926877]\n",
      " [ 3.06719368  1.19775553  1.         -3.895     ]]\n",
      "\n",
      "[[ 1.          0.          0.          1.984     ]\n",
      " [ 0.          1.          0.         -0.86926877]\n",
      " [ 0.          1.19775553  1.         -9.98031225]]\n",
      "\n",
      "[[ 1.          0.          0.          1.984     ]\n",
      " [ 0.          1.          0.         -0.86926877]\n",
      " [ 0.          0.          1.         -8.93914077]]\n",
      "\n",
      "Valor de y: [ 1.984     -0.8692688 -8.93914  ] \n",
      "\n",
      "[[ 1.012      -2.132       3.104       1.98399997]\n",
      " [ 0.         -0.39552569 -0.47374308 -0.86926877]\n",
      " [ 0.          0.         -8.93914077 -8.93914032]]\n",
      "\n",
      "[[ 1.012      -2.132       3.104       1.98399997]\n",
      " [ 0.         -0.39552569  0.         -0.39552572]\n",
      " [ 0.          0.         -8.93914077 -8.93914032]]\n",
      "\n",
      "[[ 1.012      -2.132       0.         -1.11999987]\n",
      " [ 0.         -0.39552569  0.         -0.39552572]\n",
      " [ 0.          0.         -8.93914077 -8.93914032]]\n",
      "\n",
      "[[ 1.012       0.          0.          1.01200026]\n",
      " [ 0.         -0.39552569  0.         -0.39552572]\n",
      " [ 0.          0.         -8.93914077 -8.93914032]]\n",
      "\n",
      "Valor de la solución x: [1.0000002  1.0000001  0.99999994]\n"
     ]
    }
   ],
   "source": [
    "A = [[1.012,-2.132,3.104],[-2.132,4.096,-7.013],[3.104,-7.013,0.014]]\n",
    "b = [1.984,-5.049,-3.895]\n",
    "L,U = descomposicion_LU(A)\n",
    "print(\"\\nMatriz L:\\n\",L)\n",
    "print(\"\\nMatriz U:\\n\",U)\n",
    "y = eliminacion_gaussiana_L(L,b)\n",
    "print(\"\\nValor de y:\", y,\"\\n\")\n",
    "x = eliminacion_gaussiana_U(U,y)\n",
    "print(\"\\nValor de la solución x:\", x)"
   ]
  },
  {
   "cell_type": "markdown",
   "metadata": {},
   "source": [
    "### PARTE C\n",
    "\n",
    "$$\n",
    "\\begin{aligned}\n",
    "2x_1 &= 3 \\\\\n",
    "x_1 + 1.5x_2 &= 4.5 \\\\\n",
    "-3x_2 + 0.5x_3 &= -6.6 \\\\\n",
    "2x_1 - 2x_2 + x_3 + x_4 &= 0.8\n",
    "\\end{aligned}\n",
    "$$"
   ]
  },
  {
   "cell_type": "code",
   "execution_count": 22,
   "metadata": {},
   "outputs": [
    {
     "name": "stdout",
     "output_type": "stream",
     "text": [
      "\n",
      "Matriz L:\n",
      " [[ 1.          0.          0.          0.        ]\n",
      " [ 0.5         1.          0.          0.        ]\n",
      " [ 0.         -2.          1.          0.        ]\n",
      " [ 1.         -1.33333333  2.          1.        ]]\n",
      "\n",
      "Matriz U:\n",
      " [[2.  0.  0.  0. ]\n",
      " [0.  1.5 0.  0. ]\n",
      " [0.  0.  0.5 0. ]\n",
      " [0.  0.  0.  1. ]]\n",
      "\n",
      "[[ 1.          0.          0.          0.          3.        ]\n",
      " [ 0.          1.          0.          0.          3.        ]\n",
      " [ 0.         -2.          1.          0.         -6.6       ]\n",
      " [ 1.         -1.33333333  2.          1.          0.8       ]]\n",
      "\n",
      "[[ 1.          0.          0.          0.          3.        ]\n",
      " [ 0.          1.          0.          0.          3.        ]\n",
      " [ 0.         -2.          1.          0.         -6.6       ]\n",
      " [ 1.         -1.33333333  2.          1.          0.8       ]]\n",
      "\n",
      "[[ 1.          0.          0.          0.          3.        ]\n",
      " [ 0.          1.          0.          0.          3.        ]\n",
      " [ 0.         -2.          1.          0.         -6.6       ]\n",
      " [ 0.         -1.33333333  2.          1.         -2.2       ]]\n",
      "\n",
      "[[ 1.          0.          0.          0.          3.        ]\n",
      " [ 0.          1.          0.          0.          3.        ]\n",
      " [ 0.          0.          1.          0.         -0.6       ]\n",
      " [ 0.         -1.33333333  2.          1.         -2.2       ]]\n",
      "\n",
      "[[ 1.   0.   0.   0.   3. ]\n",
      " [ 0.   1.   0.   0.   3. ]\n",
      " [ 0.   0.   1.   0.  -0.6]\n",
      " [ 0.   0.   2.   1.   1.8]]\n",
      "\n",
      "[[ 1.   0.   0.   0.   3. ]\n",
      " [ 0.   1.   0.   0.   3. ]\n",
      " [ 0.   0.   1.   0.  -0.6]\n",
      " [ 0.   0.   0.   1.   3. ]]\n",
      "\n",
      "Valor de y: [ 3.   3.  -0.6  3. ] \n",
      "\n",
      "[[ 2.          0.          0.          0.          3.        ]\n",
      " [ 0.          1.5         0.          0.          3.        ]\n",
      " [ 0.          0.          0.5         0.         -0.60000002]\n",
      " [ 0.          0.          0.          1.          3.        ]]\n",
      "\n",
      "[[ 2.          0.          0.          0.          3.        ]\n",
      " [ 0.          1.5         0.          0.          3.        ]\n",
      " [ 0.          0.          0.5         0.         -0.60000002]\n",
      " [ 0.          0.          0.          1.          3.        ]]\n",
      "\n",
      "[[ 2.          0.          0.          0.          3.        ]\n",
      " [ 0.          1.5         0.          0.          3.        ]\n",
      " [ 0.          0.          0.5         0.         -0.60000002]\n",
      " [ 0.          0.          0.          1.          3.        ]]\n",
      "\n",
      "[[ 2.          0.          0.          0.          3.        ]\n",
      " [ 0.          1.5         0.          0.          3.        ]\n",
      " [ 0.          0.          0.5         0.         -0.60000002]\n",
      " [ 0.          0.          0.          1.          3.        ]]\n",
      "\n",
      "[[ 2.          0.          0.          0.          3.        ]\n",
      " [ 0.          1.5         0.          0.          3.        ]\n",
      " [ 0.          0.          0.5         0.         -0.60000002]\n",
      " [ 0.          0.          0.          1.          3.        ]]\n",
      "\n",
      "[[ 2.          0.          0.          0.          3.        ]\n",
      " [ 0.          1.5         0.          0.          3.        ]\n",
      " [ 0.          0.          0.5         0.         -0.60000002]\n",
      " [ 0.          0.          0.          1.          3.        ]]\n",
      "\n",
      "[[ 2.          0.          0.          0.          3.        ]\n",
      " [ 0.          1.5         0.          0.          3.        ]\n",
      " [ 0.          0.          0.5         0.         -0.60000002]\n",
      " [ 0.          0.          0.          1.          3.        ]]\n",
      "\n",
      "Valor de la solución x: [ 1.5  2.  -1.2  3. ]\n"
     ]
    }
   ],
   "source": [
    "A = [[2,0,0,0],[1,1.5,0,0],[0,-3,0.5,0],[2,-2,1,1]]\n",
    "b = [3,4.5,-6.6,0.8]\n",
    "L,U = descomposicion_LU(A)\n",
    "print(\"\\nMatriz L:\\n\",L)\n",
    "print(\"\\nMatriz U:\\n\",U)\n",
    "y = eliminacion_gaussiana_L(L,b)\n",
    "print(\"\\nValor de y:\", y,\"\\n\")\n",
    "x = eliminacion_gaussiana_U(U,y)\n",
    "print(\"\\nValor de la solución x:\", x)"
   ]
  },
  {
   "cell_type": "markdown",
   "metadata": {},
   "source": [
    "### PARTE D\n",
    "$$\n",
    "\\begin{aligned}\n",
    "2.1756x_1 + 4.0231x_2 - 2.1732x_3 + 5.1967x_4 &= 17.102 \\\\\n",
    "-4.0231x_1 + 6.0000x_2 + 0x_3 + 1.1973x_4 &= -6.1593 \\\\\n",
    "-1.0000x_1 - 5.2107x_2 + 1.1111x_3 + 0x_4 &= 3.0004 \\\\\n",
    "6.0235x_1 + 7.0000x_2 + 0x_3 - 4.1561x_4 &= 0.0000\n",
    "\\end{aligned}\n",
    "$$"
   ]
  },
  {
   "cell_type": "code",
   "execution_count": 23,
   "metadata": {},
   "outputs": [
    {
     "name": "stdout",
     "output_type": "stream",
     "text": [
      "\n",
      "Matriz L:\n",
      " [[ 1.          0.          0.          0.        ]\n",
      " [-1.84919103  1.          0.          0.        ]\n",
      " [-0.45964332 -0.25012194  1.          0.        ]\n",
      " [ 2.76866152 -0.30794361 -5.35228302  1.        ]]\n",
      "\n",
      "Matriz U:\n",
      " [[ 2.17560000e+00  4.02310000e+00 -2.17320000e+00  5.19670000e+00]\n",
      " [ 0.00000000e+00  1.34394804e+01 -4.01866194e+00  1.08069910e+01]\n",
      " [ 0.00000000e+00  4.44089210e-16 -8.92952394e-01  5.09169403e+00]\n",
      " [ 0.00000000e+00  0.00000000e+00  0.00000000e+00  1.20361280e+01]]\n",
      "\n",
      "[[ 1.          0.          0.          0.         17.102     ]\n",
      " [ 0.          1.          0.          0.         25.46556496]\n",
      " [-0.45964332 -0.25012194  1.          0.          3.0004    ]\n",
      " [ 2.76866152 -0.30794361 -5.35228302  1.          0.        ]]\n",
      "\n",
      "[[ 1.          0.          0.          0.         17.102     ]\n",
      " [ 0.          1.          0.          0.         25.46556496]\n",
      " [ 0.         -0.25012194  1.          0.         10.86122   ]\n",
      " [ 2.76866152 -0.30794361 -5.35228302  1.          0.        ]]\n",
      "\n",
      "[[  1.           0.           0.           0.          17.102     ]\n",
      " [  0.           1.           0.           0.          25.46556496]\n",
      " [  0.          -0.25012194   1.           0.          10.86122   ]\n",
      " [  0.          -0.30794361  -5.35228302   1.         -47.34964929]]\n",
      "\n",
      "[[  1.           0.           0.           0.          17.102     ]\n",
      " [  0.           1.           0.           0.          25.46556496]\n",
      " [  0.           0.           1.           0.          17.23071662]\n",
      " [  0.          -0.30794361  -5.35228302   1.         -47.34964929]]\n",
      "\n",
      "[[  1.           0.           0.           0.          17.102     ]\n",
      " [  0.           1.           0.           0.          25.46556496]\n",
      " [  0.           0.           1.           0.          17.23071662]\n",
      " [  0.           0.          -5.35228302   1.         -39.50769122]]\n",
      "\n",
      "[[ 1.          0.          0.          0.         17.102     ]\n",
      " [ 0.          1.          0.          0.         25.46556496]\n",
      " [ 0.          0.          1.          0.         17.23071662]\n",
      " [ 0.          0.          0.          1.         52.71598078]]\n",
      "\n",
      "Valor de y: [17.102    25.465565 17.230717 52.71598 ] \n",
      "\n",
      "[[ 2.17560000e+00  4.02310000e+00 -2.17320000e+00  5.19670000e+00\n",
      "   1.71019993e+01]\n",
      " [ 0.00000000e+00  1.34394804e+01 -4.01866194e+00  1.08069910e+01\n",
      "   2.54655647e+01]\n",
      " [ 0.00000000e+00  4.44089210e-16 -8.92952394e-01  5.09169403e+00\n",
      "   1.72307167e+01]\n",
      " [ 0.00000000e+00  0.00000000e+00  0.00000000e+00  1.20361280e+01\n",
      "   5.27159805e+01]]\n",
      "\n",
      "[[ 2.17560000e+00  4.02310000e+00 -2.17320000e+00  5.19670000e+00\n",
      "   1.71019993e+01]\n",
      " [ 0.00000000e+00  1.34394804e+01 -4.01866194e+00  1.08069910e+01\n",
      "   2.54655647e+01]\n",
      " [ 0.00000000e+00  4.44089210e-16 -8.92952394e-01  0.00000000e+00\n",
      "  -5.06994697e+00]\n",
      " [ 0.00000000e+00  0.00000000e+00  0.00000000e+00  1.20361280e+01\n",
      "   5.27159805e+01]]\n",
      "\n",
      "[[ 2.17560000e+00  4.02310000e+00 -2.17320000e+00  5.19670000e+00\n",
      "   1.71019993e+01]\n",
      " [ 0.00000000e+00  1.34394804e+01 -4.01866194e+00  0.00000000e+00\n",
      "  -2.18670265e+01]\n",
      " [ 0.00000000e+00  4.44089210e-16 -8.92952394e-01  0.00000000e+00\n",
      "  -5.06994697e+00]\n",
      " [ 0.00000000e+00  0.00000000e+00  0.00000000e+00  1.20361280e+01\n",
      "   5.27159805e+01]]\n",
      "\n",
      "[[ 2.17560000e+00  4.02310000e+00 -2.17320000e+00  0.00000000e+00\n",
      "  -5.65857084e+00]\n",
      " [ 0.00000000e+00  1.34394804e+01 -4.01866194e+00  0.00000000e+00\n",
      "  -2.18670265e+01]\n",
      " [ 0.00000000e+00  4.44089210e-16 -8.92952394e-01  0.00000000e+00\n",
      "  -5.06994697e+00]\n",
      " [ 0.00000000e+00  0.00000000e+00  0.00000000e+00  1.20361280e+01\n",
      "   5.27159805e+01]]\n",
      "\n",
      "[[ 2.17560000e+00  4.02310000e+00 -2.17320000e+00  0.00000000e+00\n",
      "  -5.65857084e+00]\n",
      " [ 0.00000000e+00  1.34394804e+01  0.00000000e+00  0.00000000e+00\n",
      "   9.49870688e-01]\n",
      " [ 0.00000000e+00  4.44089210e-16 -8.92952394e-01  0.00000000e+00\n",
      "  -5.06994697e+00]\n",
      " [ 0.00000000e+00  0.00000000e+00  0.00000000e+00  1.20361280e+01\n",
      "   5.27159805e+01]]\n",
      "\n",
      "[[ 2.17560000e+00  4.02310000e+00  0.00000000e+00  0.00000000e+00\n",
      "   6.68028266e+00]\n",
      " [ 0.00000000e+00  1.34394804e+01  0.00000000e+00  0.00000000e+00\n",
      "   9.49870688e-01]\n",
      " [ 0.00000000e+00  4.44089210e-16 -8.92952394e-01  0.00000000e+00\n",
      "  -5.06994697e+00]\n",
      " [ 0.00000000e+00  0.00000000e+00  0.00000000e+00  1.20361280e+01\n",
      "   5.27159805e+01]]\n",
      "\n",
      "[[ 2.17560000e+00  0.00000000e+00  0.00000000e+00  0.00000000e+00\n",
      "   6.39593946e+00]\n",
      " [ 0.00000000e+00  1.34394804e+01  0.00000000e+00  0.00000000e+00\n",
      "   9.49870688e-01]\n",
      " [ 0.00000000e+00  4.44089210e-16 -8.92952394e-01  0.00000000e+00\n",
      "  -5.06994697e+00]\n",
      " [ 0.00000000e+00  0.00000000e+00  0.00000000e+00  1.20361280e+01\n",
      "   5.27159805e+01]]\n",
      "\n",
      "Valor de la solución x: [2.9398508  0.07067764 5.677735   4.3798122 ]\n"
     ]
    }
   ],
   "source": [
    "A = [[2.1756,4.0231,-2.1732,5.1967],[-4.0231,6.0000,0,1.1973],[-1,-5.2107,1.1111,0],[6.0235,7.0000,0,-4.1561]]\n",
    "b = [17.102,-6.1593,3.0004,0.0000]\n",
    "L,U = descomposicion_LU(A)\n",
    "print(\"\\nMatriz L:\\n\",L)\n",
    "print(\"\\nMatriz U:\\n\",U)\n",
    "y = eliminacion_gaussiana_L(L,b)\n",
    "print(\"\\nValor de y:\", y,\"\\n\")\n",
    "x = eliminacion_gaussiana_U(U,y)\n",
    "print(\"\\nValor de la solución x:\", x)"
   ]
  }
 ],
 "metadata": {
  "kernelspec": {
   "display_name": "Python 3",
   "language": "python",
   "name": "python3"
  },
  "language_info": {
   "codemirror_mode": {
    "name": "ipython",
    "version": 3
   },
   "file_extension": ".py",
   "mimetype": "text/x-python",
   "name": "python",
   "nbconvert_exporter": "python",
   "pygments_lexer": "ipython3",
   "version": "3.13.1"
  }
 },
 "nbformat": 4,
 "nbformat_minor": 2
}
