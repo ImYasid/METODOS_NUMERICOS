{
 "cells": [
  {
   "cell_type": "markdown",
   "metadata": {},
   "source": [
    "# [Tarea 11] Ejercicios Unidad 04-D Gauss-Jacobi y Gauss-Seidel"
   ]
  },
  {
   "cell_type": "code",
   "execution_count": 78,
   "metadata": {},
   "outputs": [
    {
     "name": "stdout",
     "output_type": "stream",
     "text": [
      "The autoreload extension is already loaded. To reload it, use:\n",
      "  %reload_ext autoreload\n"
     ]
    }
   ],
   "source": [
    "%load_ext autoreload\n",
    "import numpy as np\n",
    "from src import gauss_jacobi,gauss_jacobi_iteraciones\n",
    "from src import gauss_seidel, gauss_seidel_iteraciones,es_diagonal_estrictamente_dominante"
   ]
  },
  {
   "cell_type": "markdown",
   "metadata": {},
   "source": [
    "___\n",
    "## EJERCICIO UNO\n",
    "Encuentre las primeras dos iteraciones del método de Jacobi para los siguientes sistemas lineales, por medio de $x^{(0)} = 0$:\n",
    "### PARTE A\n",
    "$$\n",
    "\\begin{aligned}\n",
    "3x_1 - x_2 + x_3 &= 1 \\\\\n",
    "3x_1 + 6x_2 + 2x_3 &= 0 \\\\\n",
    "3x_1 + 3x_2 + 7x_3 &= 4\n",
    "\\end{aligned}\n",
    "$$"
   ]
  },
  {
   "cell_type": "code",
   "execution_count": 79,
   "metadata": {},
   "outputs": [
    {
     "name": "stdout",
     "output_type": "stream",
     "text": [
      "Iteración 1 , solución aproximada: [0.33333333 0.         0.57142857]\n",
      "Iteración 2 , solución aproximada: [0.33333333 0.         0.57142857]\n"
     ]
    }
   ],
   "source": [
    "A = [[3,-1,1],[3,6,2],[3,3,7]]\n",
    "b = np.array([1,0,4],dtype=float)\n",
    "x0=np.zeros(len(b))\n",
    "max_iter = 2\n",
    "tol = 10e-6\n",
    "\n",
    "x = gauss_jacobi_iteraciones(A, b, x0, tol, max_iter)"
   ]
  },
  {
   "cell_type": "markdown",
   "metadata": {},
   "source": [
    "### PARTE B\n",
    "\n",
    "$$\n",
    "\\begin{aligned}\n",
    "10x_1 - x_2 &= 9 \\\\\n",
    "-x_1 + 10x_2 - 2x_3 &= 7 \\\\\n",
    "-2x_2 + 10x_3 &= 6\n",
    "\\end{aligned}\n",
    "$$"
   ]
  },
  {
   "cell_type": "code",
   "execution_count": 80,
   "metadata": {},
   "outputs": [
    {
     "name": "stdout",
     "output_type": "stream",
     "text": [
      "Iteración 1 , solución aproximada: [0.9 0.7 0.6]\n",
      "Iteración 2 , solución aproximada: [0.9 0.7 0.6]\n"
     ]
    }
   ],
   "source": [
    "A = [[10,-1,0],[-1,10,-2],[0,-2,10]]\n",
    "b = np.array([9,7,6],dtype=float)\n",
    "x0=np.zeros(len(b))\n",
    "max_iter = 2\n",
    "tol = 10e-6\n",
    "\n",
    "x = gauss_jacobi_iteraciones(A, b, x0, tol, max_iter)"
   ]
  },
  {
   "cell_type": "markdown",
   "metadata": {},
   "source": [
    "### PARTE C\n",
    "\n",
    "$$\n",
    "\\begin{aligned}\n",
    "10x_1 + 5x_2 &= 6 \\\\\n",
    "5x_1 + 10x_2 - 4x_3 &= 25 \\\\\n",
    "-4x_2 + 8x_3 - x_4 &= -11 \\\\\n",
    "-x_3 + 5x_4 &= -11\n",
    "\\end{aligned}\n",
    "$$"
   ]
  },
  {
   "cell_type": "code",
   "execution_count": 81,
   "metadata": {},
   "outputs": [
    {
     "name": "stdout",
     "output_type": "stream",
     "text": [
      "Iteración 1 , solución aproximada: [ 1.6    2.5   -1.375 -2.2  ]\n",
      "Iteración 2 , solución aproximada: [ 1.6    2.5   -1.375 -2.2  ]\n"
     ]
    }
   ],
   "source": [
    "A = [[10,-5,0,0],[5,10,-4,0],[0,-4,8,-1],[0,0,-1,5]]\n",
    "b = np.array([16,25,-11,-11],dtype=float)\n",
    "x0=np.zeros(len(b))\n",
    "max_iter = 2\n",
    "tol = 10e-6\n",
    "\n",
    "x = gauss_jacobi_iteraciones(A, b, x0, tol, max_iter)"
   ]
  },
  {
   "cell_type": "markdown",
   "metadata": {},
   "source": [
    "### PARTE D\n",
    "$$\n",
    "\\begin{aligned}\n",
    "4x_1 + x_2 + x_3 + x_5 &= 6 \\\\\n",
    "-x_1 - 3x_2 + x_3 + x_4 &= 6 \\\\\n",
    "2x_1 + x_2 + 5x_3 - x_4 - x_5 &= 6 \\\\\n",
    "-x_1 - x_2 - x_3 + 4x_4 &= 6 \\\\\n",
    "2x_2 - x_3 + x_4 + 4x_5 &= 6\n",
    "\\end{aligned}\n",
    "$$"
   ]
  },
  {
   "cell_type": "code",
   "execution_count": 82,
   "metadata": {},
   "outputs": [
    {
     "name": "stdout",
     "output_type": "stream",
     "text": [
      "Iteración 1 , solución aproximada: [ 1.5 -2.   1.2  1.5  1.5]\n",
      "Iteración 2 , solución aproximada: [ 1.5 -2.   1.2  1.5  1.5]\n"
     ]
    }
   ],
   "source": [
    "A = [[4,1,1,0,1],[-1,-3,1,1,0],[2,1,5,-1,-1],[-1,-1,-1,4,0],[0,2,-1,1,4]]\n",
    "b = np.array([6,6,6,6,6],dtype=float)\n",
    "x0=np.zeros(len(b))\n",
    "max_iter = 2\n",
    "tol = 10e-6\n",
    "\n",
    "x = gauss_jacobi_iteraciones(A, b, x0, tol, max_iter)"
   ]
  },
  {
   "cell_type": "markdown",
   "metadata": {},
   "source": [
    "___\n",
    "## EJERCICIO DOS\n",
    "Repita el ejercicio 1 usando el método de Gauss-Siedel.\n",
    "### PARTE A\n",
    "$$\n",
    "\\begin{aligned}\n",
    "3x_1 - x_2 + x_3 &= 1 \\\\\n",
    "3x_1 + 6x_2 + 2x_3 &= 0 \\\\\n",
    "3x_1 + 3x_2 + 7x_3 &= 4\n",
    "\\end{aligned}\n",
    "$$"
   ]
  },
  {
   "cell_type": "code",
   "execution_count": 83,
   "metadata": {},
   "outputs": [
    {
     "name": "stdout",
     "output_type": "stream",
     "text": [
      "Iteración 1 , solución aproximada: [ 0.33333333 -0.16666667  0.5       ]\n",
      "Iteración 2 , solución aproximada: [ 0.33333333 -0.16666667  0.5       ]\n"
     ]
    }
   ],
   "source": [
    "A = [[3,-1,1],[3,6,2],[3,3,7]]\n",
    "b = np.array([1,0,4],dtype=float)\n",
    "x0=np.zeros(len(b))\n",
    "max_iter = 2\n",
    "tol = 10e-6\n",
    "\n",
    "A = np.array(A, dtype=float)\n",
    "\n",
    "gauss_seidel_iteraciones(A,b,x0,tol,max_iter)"
   ]
  },
  {
   "cell_type": "markdown",
   "metadata": {},
   "source": [
    "### PARTE B\n",
    "\n",
    "$$\n",
    "\\begin{aligned}\n",
    "10x_1 - x_2 &= 9 \\\\\n",
    "-x_1 + 10x_2 - 2x_3 &= 7 \\\\\n",
    "-2x_2 + 10x_3 &= 6\n",
    "\\end{aligned}\n",
    "$$"
   ]
  },
  {
   "cell_type": "code",
   "execution_count": 84,
   "metadata": {},
   "outputs": [
    {
     "name": "stdout",
     "output_type": "stream",
     "text": [
      "Iteración 1 , solución aproximada: [0.9   0.79  0.758]\n",
      "Iteración 2 , solución aproximada: [0.9   0.79  0.758]\n"
     ]
    }
   ],
   "source": [
    "A = [[10,-1,0],[-1,10,-2],[0,-2,10]]\n",
    "b = np.array([9,7,6],dtype=float)\n",
    "x0=np.zeros(len(b))\n",
    "max_iter = 2\n",
    "tol = 10e-6\n",
    "\n",
    "A = np.array(A, dtype=float)\n",
    "\n",
    "gauss_seidel_iteraciones(A,b,x0,tol,max_iter)"
   ]
  },
  {
   "cell_type": "markdown",
   "metadata": {},
   "source": [
    "### PARTE C\n",
    "\n",
    "$$\n",
    "\\begin{aligned}\n",
    "10x_1 + 5x_2 &= 6 \\\\\n",
    "5x_1 + 10x_2 - 4x_3 &= 25 \\\\\n",
    "-4x_2 + 8x_3 - x_4 &= -11 \\\\\n",
    "-x_3 + 5x_4 &= -11\n",
    "\\end{aligned}\n",
    "$$"
   ]
  },
  {
   "cell_type": "code",
   "execution_count": 85,
   "metadata": {},
   "outputs": [
    {
     "name": "stdout",
     "output_type": "stream",
     "text": [
      "Iteración 1 , solución aproximada: [ 1.6    1.7   -0.525 -2.305]\n",
      "Iteración 2 , solución aproximada: [ 1.6    1.7   -0.525 -2.305]\n"
     ]
    }
   ],
   "source": [
    "A = [[10,-5,0,0],[5,10,-4,0],[0,-4,8,-1],[0,0,-1,5]]\n",
    "b = np.array([16,25,-11,-11],dtype=float)\n",
    "x0=np.zeros(len(b))\n",
    "max_iter = 2\n",
    "tol = 10e-6\n",
    "\n",
    "A = np.array(A, dtype=float)\n",
    "\n",
    "gauss_seidel_iteraciones(A,b,x0,tol,max_iter)"
   ]
  },
  {
   "cell_type": "markdown",
   "metadata": {},
   "source": [
    "### PARTE D\n",
    "$$\n",
    "\\begin{aligned}\n",
    "4x_1 + x_2 + x_3 + x_5 &= 6 \\\\\n",
    "-x_1 - 3x_2 + x_3 + x_4 &= 6 \\\\\n",
    "2x_1 + x_2 + 5x_3 - x_4 - x_5 &= 6 \\\\\n",
    "-x_1 - x_2 - x_3 + 4x_4 &= 6 \\\\\n",
    "2x_2 - x_3 + x_4 + 4x_5 &= 6\n",
    "\\end{aligned}\n",
    "$$"
   ]
  },
  {
   "cell_type": "code",
   "execution_count": 86,
   "metadata": {},
   "outputs": [
    {
     "name": "stdout",
     "output_type": "stream",
     "text": [
      "Iteración 1 , solución aproximada: [ 1.5     -2.5      1.1      1.525    2.64375]\n",
      "Iteración 2 , solución aproximada: [ 1.5     -2.5      1.1      1.525    2.64375]\n"
     ]
    }
   ],
   "source": [
    "A = [[4,1,1,0,1],[-1,-3,1,1,0],[2,1,5,-1,-1],[-1,-1,-1,4,0],[0,2,-1,1,4]]\n",
    "b = np.array([6,6,6,6,6],dtype=float)\n",
    "x0=np.zeros(len(b))\n",
    "max_iter = 2\n",
    "tol = 10e-6\n",
    "\n",
    "A = np.array(A, dtype=float)\n",
    "\n",
    "gauss_seidel_iteraciones(A,b,x0,tol,max_iter)"
   ]
  },
  {
   "cell_type": "markdown",
   "metadata": {},
   "source": [
    "___\n",
    "## EJERCICIO TRES\n",
    "Utilice el método de Jacobi para resolver los sistemas lineales en el ejercicio 1, con TOL = 10-3\n",
    "### PARTE A\n",
    "$$\n",
    "\\begin{aligned}\n",
    "3x_1 - x_2 + x_3 &= 1 \\\\\n",
    "3x_1 + 6x_2 + 2x_3 &= 0 \\\\\n",
    "3x_1 + 3x_2 + 7x_3 &= 4\n",
    "\\end{aligned}\n",
    "$$"
   ]
  },
  {
   "cell_type": "code",
   "execution_count": 87,
   "metadata": {},
   "outputs": [
    {
     "name": "stdout",
     "output_type": "stream",
     "text": [
      "Se llego a la solución aproximada en el rango deseado con \n",
      "x = [ 0.03490444 -0.23975543  0.6547619 ]\n"
     ]
    }
   ],
   "source": [
    "A = [[3,-1,1],[3,6,2],[3,3,7]]\n",
    "b = np.array([1,0,4],dtype=float)\n",
    "x0=np.zeros(len(b))\n",
    "max_iter = 100\n",
    "tol = 10e-3\n",
    "\n",
    "try:\n",
    "    x = gauss_jacobi(A, b, x0, tol, max_iter)\n",
    "    print(\"Se llego a la solución aproximada en el rango deseado con \\nx =\",x)\n",
    "except ValueError as e:\n",
    "    print(e)"
   ]
  },
  {
   "cell_type": "markdown",
   "metadata": {},
   "source": [
    "### PARTE B\n",
    "\n",
    "$$\n",
    "\\begin{aligned}\n",
    "10x_1 - x_2 &= 9 \\\\\n",
    "-x_1 + 10x_2 - 2x_3 &= 7 \\\\\n",
    "-2x_2 + 10x_3 &= 6\n",
    "\\end{aligned}\n",
    "$$"
   ]
  },
  {
   "cell_type": "code",
   "execution_count": 88,
   "metadata": {},
   "outputs": [
    {
     "name": "stdout",
     "output_type": "stream",
     "text": [
      "Se llego a la solución aproximada en el rango deseado con \n",
      "x = [0.99555 0.95725 0.7911 ]\n"
     ]
    }
   ],
   "source": [
    "A = [[10,-1,0],[-1,10,-2],[0,-2,10]]\n",
    "b = np.array([9,7,6],dtype=float)\n",
    "x0=np.zeros(len(b))\n",
    "max_iter = 100\n",
    "tol = 10e-3\n",
    "\n",
    "try:\n",
    "    x = gauss_jacobi(A, b, x0, tol, max_iter)\n",
    "    print(\"Se llego a la solución aproximada en el rango deseado con \\nx =\",x)\n",
    "except ValueError as e:\n",
    "    print(e)"
   ]
  },
  {
   "cell_type": "markdown",
   "metadata": {},
   "source": [
    "### PARTE C\n",
    "\n",
    "$$\n",
    "\\begin{aligned}\n",
    "10x_1 + 5x_2 &= 6 \\\\\n",
    "5x_1 + 10x_2 - 4x_3 &= 25 \\\\\n",
    "-4x_2 + 8x_3 - x_4 &= -11 \\\\\n",
    "-x_3 + 5x_4 &= -11\n",
    "\\end{aligned}\n",
    "$$"
   ]
  },
  {
   "cell_type": "code",
   "execution_count": 89,
   "metadata": {},
   "outputs": [
    {
     "name": "stdout",
     "output_type": "stream",
     "text": [
      "Se llego a la solución aproximada en el rango deseado con \n",
      "x = [ 2.09023438  0.9784625  -1.18959961 -2.4369875 ]\n"
     ]
    }
   ],
   "source": [
    "A = [[10,-5,0,0],[5,10,-4,0],[0,-4,8,-1],[0,0,-1,5]]\n",
    "b = np.array([16,25,-11,-11],dtype=float)\n",
    "x0=np.zeros(len(b))\n",
    "max_iter = 100\n",
    "tol = 10e-3\n",
    "\n",
    "try:\n",
    "    x = gauss_jacobi(A, b, x0, tol, max_iter)\n",
    "    print(\"Se llego a la solución aproximada en el rango deseado con \\nx =\",x)\n",
    "except ValueError as e:\n",
    "    print(e)"
   ]
  },
  {
   "cell_type": "markdown",
   "metadata": {},
   "source": [
    "### PARTE D\n",
    "$$\n",
    "\\begin{aligned}\n",
    "4x_1 + x_2 + x_3 + x_5 &= 6 \\\\\n",
    "-x_1 - 3x_2 + x_3 + x_4 &= 6 \\\\\n",
    "2x_1 + x_2 + 5x_3 - x_4 - x_5 &= 6 \\\\\n",
    "-x_1 - x_2 - x_3 + 4x_4 &= 6 \\\\\n",
    "2x_2 - x_3 + x_4 + 4x_5 &= 6\n",
    "\\end{aligned}\n",
    "$$"
   ]
  },
  {
   "cell_type": "code",
   "execution_count": 90,
   "metadata": {},
   "outputs": [
    {
     "name": "stdout",
     "output_type": "stream",
     "text": [
      "Se llego a la solución aproximada en el rango deseado con \n",
      "x = [ 0.7850751  -0.99873844  1.8646296   1.91522095  1.98538479]\n"
     ]
    }
   ],
   "source": [
    "A = [[4,1,1,0,1],[-1,-3,1,1,0],[2,1,5,-1,-1],[-1,-1,-1,4,0],[0,2,-1,1,4]]\n",
    "b = np.array([6,6,6,6,6],dtype=float)\n",
    "x0=np.zeros(len(b))\n",
    "max_iter = 100\n",
    "tol = 10e-3\n",
    "\n",
    "try:\n",
    "    x = gauss_jacobi(A, b, x0, tol, max_iter)\n",
    "    print(\"Se llego a la solución aproximada en el rango deseado con \\nx =\",x)\n",
    "except ValueError as e:\n",
    "    print(e)"
   ]
  },
  {
   "cell_type": "markdown",
   "metadata": {},
   "source": [
    "___\n",
    "## EJERCICIO CUATRO\n",
    "Utilice el método de Gauss-Siedel para resolver los sistemas lineales en el ejercicio 1, con TOL = 10-3.\n",
    "### PARTE A\n",
    "$$\n",
    "\\begin{aligned}\n",
    "3x_1 - x_2 + x_3 &= 1 \\\\\n",
    "3x_1 + 6x_2 + 2x_3 &= 0 \\\\\n",
    "3x_1 + 3x_2 + 7x_3 &= 4\n",
    "\\end{aligned}\n",
    "$$"
   ]
  },
  {
   "cell_type": "code",
   "execution_count": 91,
   "metadata": {},
   "outputs": [
    {
     "name": "stdout",
     "output_type": "stream",
     "text": [
      "Se llego a la solución aproximada en el rango deseado con \n",
      "x = [ 0.0361492  -0.23660752  0.65733928]\n"
     ]
    }
   ],
   "source": [
    "A = [[3,-1,1],[3,6,2],[3,3,7]]\n",
    "b = np.array([1,0,4],dtype=float)\n",
    "x0=np.zeros(len(b))\n",
    "max_iter = 100\n",
    "tol = 10e-3\n",
    "\n",
    "A = np.array(A, dtype=float)\n",
    "\n",
    "try:\n",
    "    x = gauss_seidel(A, b, x0, tol, max_iter)\n",
    "    print(\"Se llego a la solución aproximada en el rango deseado con \\nx =\",x)\n",
    "except ValueError as e:\n",
    "    print(e)"
   ]
  },
  {
   "cell_type": "markdown",
   "metadata": {},
   "source": [
    "### PARTE B\n",
    "\n",
    "$$\n",
    "\\begin{aligned}\n",
    "10x_1 - x_2 &= 9 \\\\\n",
    "-x_1 + 10x_2 - 2x_3 &= 7 \\\\\n",
    "-2x_2 + 10x_3 &= 6\n",
    "\\end{aligned}\n",
    "$$"
   ]
  },
  {
   "cell_type": "code",
   "execution_count": 92,
   "metadata": {},
   "outputs": [
    {
     "name": "stdout",
     "output_type": "stream",
     "text": [
      "Se llego a la solución aproximada en el rango deseado con \n",
      "x = [0.9957475  0.95787375 0.79157475]\n"
     ]
    }
   ],
   "source": [
    "A = [[10,-1,0],[-1,10,-2],[0,-2,10]]\n",
    "b = np.array([9,7,6],dtype=float)\n",
    "x0=np.zeros(len(b))\n",
    "max_iter = 100\n",
    "tol = 10e-3\n",
    "\n",
    "A = np.array(A, dtype=float)\n",
    "\n",
    "try:\n",
    "    x = gauss_seidel(A, b, x0, tol, max_iter)\n",
    "    print(\"Se llego a la solución aproximada en el rango deseado con \\nx =\",x)\n",
    "except ValueError as e:\n",
    "    print(e)"
   ]
  },
  {
   "cell_type": "markdown",
   "metadata": {},
   "source": [
    "### PARTE C\n",
    "\n",
    "$$\n",
    "\\begin{aligned}\n",
    "10x_1 + 5x_2 &= 6 \\\\\n",
    "5x_1 + 10x_2 - 4x_3 &= 25 \\\\\n",
    "-4x_2 + 8x_3 - x_4 &= -11 \\\\\n",
    "-x_3 + 5x_4 &= -11\n",
    "\\end{aligned}\n",
    "$$"
   ]
  },
  {
   "cell_type": "code",
   "execution_count": 93,
   "metadata": {},
   "outputs": [
    {
     "name": "stdout",
     "output_type": "stream",
     "text": [
      "Se llego a la solución aproximada en el rango deseado con \n",
      "x = [ 2.08980938  0.97914391 -1.19017501 -2.438035  ]\n"
     ]
    }
   ],
   "source": [
    "A = [[10,-5,0,0],[5,10,-4,0],[0,-4,8,-1],[0,0,-1,5]]\n",
    "b = np.array([16,25,-11,-11],dtype=float)\n",
    "x0=np.zeros(len(b))\n",
    "max_iter = 100\n",
    "tol = 10e-3\n",
    "\n",
    "A = np.array(A, dtype=float)\n",
    "\n",
    "try:\n",
    "    x = gauss_seidel(A, b, x0, tol, max_iter)\n",
    "    print(\"Se llego a la solución aproximada en el rango deseado con \\nx =\",x)\n",
    "except ValueError as e:\n",
    "    print(e)"
   ]
  },
  {
   "cell_type": "markdown",
   "metadata": {},
   "source": [
    "### PARTE D\n",
    "$$\n",
    "\\begin{aligned}\n",
    "4x_1 + x_2 + x_3 + x_5 &= 6 \\\\\n",
    "-x_1 - 3x_2 + x_3 + x_4 &= 6 \\\\\n",
    "2x_1 + x_2 + 5x_3 - x_4 - x_5 &= 6 \\\\\n",
    "-x_1 - x_2 - x_3 + 4x_4 &= 6 \\\\\n",
    "2x_2 - x_3 + x_4 + 4x_5 &= 6\n",
    "\\end{aligned}\n",
    "$$"
   ]
  },
  {
   "cell_type": "code",
   "execution_count": 94,
   "metadata": {},
   "outputs": [
    {
     "name": "stdout",
     "output_type": "stream",
     "text": [
      "Se llego a la solución aproximada en el rango deseado con \n",
      "x = [ 0.78616258 -1.00240703  1.86606999  1.91245638  1.98960692]\n"
     ]
    }
   ],
   "source": [
    "A = [[4,1,1,0,1],[-1,-3,1,1,0],[2,1,5,-1,-1],[-1,-1,-1,4,0],[0,2,-1,1,4]]\n",
    "b = np.array([6,6,6,6,6],dtype=float)\n",
    "x0=np.zeros(len(b))\n",
    "max_iter = 100\n",
    "tol = 10e-3\n",
    "\n",
    "A = np.array(A, dtype=float)\n",
    "\n",
    "try:\n",
    "    x = gauss_seidel(A, b, x0, tol, max_iter)\n",
    "    print(\"Se llego a la solución aproximada en el rango deseado con \\nx =\",x)\n",
    "except ValueError as e:\n",
    "    print(e)"
   ]
  },
  {
   "cell_type": "markdown",
   "metadata": {},
   "source": [
    "___\n",
    "## EJERCICIO CINCO\n",
    "El sistema lineal\n",
    "\n",
    "$$\n",
    "\\begin{aligned}\n",
    "2x_1 - x_2 + x_3 &= -1 \\\\\n",
    "2x_1 + 2x_2 + 2x_3 &= 4 \\\\\n",
    "-x_1 - x_2 + 2x_3 &= -5\n",
    "\\end{aligned}\n",
    "$$\n",
    "\n",
    "tiene la solución (1,2,-1). \n",
    "### PARTE A\n",
    "Muestre que el método de Jacobi con x(0) = 0 falla al proporcionar una buena aproximación después de 25 iteraciones"
   ]
  },
  {
   "cell_type": "code",
   "execution_count": 95,
   "metadata": {},
   "outputs": [
    {
     "name": "stdout",
     "output_type": "stream",
     "text": [
      "La solució obtenida con Gauss-Jacobi es de \n",
      "x = [ 0.5  2.  -2.5]\n"
     ]
    }
   ],
   "source": [
    "A = [[2,-1,1],[2,2,2,],[-1,-1,2]]\n",
    "b = [1,4,-5]\n",
    "x0 = np.zeros(len(b))\n",
    "tol = 3\n",
    "max_iter = 25\n",
    "\n",
    "try:\n",
    "    x = gauss_jacobi(A, b, x0, tol, max_iter)\n",
    "    print(\"La solució obtenida con Gauss-Jacobi es de \\nx =\",x)\n",
    "except ValueError as e:\n",
    "    print(e)"
   ]
  },
  {
   "cell_type": "markdown",
   "metadata": {},
   "source": [
    "### PARTE B\n",
    "Utilice el método de Gauss-Siedel con $x^{(0)}=0$: para aproximar la solución para el sistema lineal dentro de $10^{-5}$."
   ]
  },
  {
   "cell_type": "code",
   "execution_count": 96,
   "metadata": {},
   "outputs": [
    {
     "name": "stdout",
     "output_type": "stream",
     "text": [
      "La solución obtenida con Gauss-Seidel es de \n",
      "x = [ 1.66669655  1.33329964 -1.00000191]\n"
     ]
    }
   ],
   "source": [
    "tol = 10e-5\n",
    "A = np.array(A, dtype=float)\n",
    "\n",
    "try:\n",
    "    x = gauss_seidel(A, b, x0, tol, max_iter)\n",
    "    print(\"La solución obtenida con Gauss-Seidel es de \\nx =\",x)\n",
    "except ValueError as e:\n",
    "    print(e)"
   ]
  },
  {
   "cell_type": "markdown",
   "metadata": {},
   "source": [
    "___\n",
    "## EJERCICIO SEIS\n",
    "El sistema lineal\n",
    "\n",
    "$$\n",
    "\\begin{aligned}\n",
    "x_1 - x_3 &= 0.2 \\\\\n",
    "-\\frac{1}{2}x_1 + x_2 - \\frac{1}{4}x_3 &= -1.425 \\\\\n",
    "x_1 - \\frac{1}{2}x_2 + x_3 &= 2\n",
    "\\end{aligned}\n",
    "$$\n",
    "\n",
    "tiene la solución (0.9, -0.8, 0.7)\n",
    "### PARTE A\n",
    "¿La matriz de coeficientes tiene diagonal estrictamente dominante?\n",
    "\n",
    "$$\n",
    "A = \\begin{bmatrix}\n",
    "1 & 0 & -1 \\\\\n",
    "-\\frac{1}{2} & 1 & -\\frac{1}{4} \\\\\n",
    "1 & -\\frac{1}{2} & 1\n",
    "\\end{bmatrix}\n",
    "$$"
   ]
  },
  {
   "cell_type": "code",
   "execution_count": 97,
   "metadata": {},
   "outputs": [
    {
     "name": "stdout",
     "output_type": "stream",
     "text": [
      "La matriz NO es estrictamente diagonal dominante.\n"
     ]
    }
   ],
   "source": [
    "A = np.array([\n",
    "    [1, 0, -1],\n",
    "    [1/2,1,-1/4],\n",
    "    [1,-1/2,1]\n",
    "], dtype=float)\n",
    "\n",
    "if es_diagonal_estrictamente_dominante(A):\n",
    "    print(\"La matriz es estrictamente diagonal dominante.\")\n",
    "else:\n",
    "    print(\"La matriz NO es estrictamente diagonal dominante.\")"
   ]
  },
  {
   "cell_type": "markdown",
   "metadata": {},
   "source": [
    "### PARTE B\n",
    "Utilice el método iterativo de Gauss-Siedel para aproximar la solución para el sistema lineal con\n",
    "una tolerancia de 1022 y un máximo de 300 iteraciones."
   ]
  },
  {
   "cell_type": "code",
   "execution_count": 98,
   "metadata": {},
   "outputs": [
    {
     "name": "stdout",
     "output_type": "stream",
     "text": [
      "El método de Gauss-Seidel no convergió.\n"
     ]
    }
   ],
   "source": [
    "b = [0.2,-1.425,2]\n",
    "x0 = np.zeros(len(b))\n",
    "tol = 10e-22\n",
    "max_iter = 300\n",
    "\n",
    "try:\n",
    "    x = gauss_seidel(A, b, x0, tol, max_iter)\n",
    "    print(\"La solución obtenida con Gauss-Seidel es de \\nx =\",x)\n",
    "except ValueError as e:\n",
    "    print(e)"
   ]
  },
  {
   "cell_type": "markdown",
   "metadata": {},
   "source": [
    "### PARTE C\n",
    " ¿Qué pasa en la parte b) cuando el sistema cambia por el siguiente?\n",
    " $$\n",
    "\\begin{aligned}\n",
    "x_1 - 2x_3 &= 0.2 \\\\\n",
    "-\\frac{1}{2}x_1 + x_2 - \\frac{1}{4}x_3 &= -1.425 \\\\\n",
    "x_1 - \\frac{1}{2}x_2 + x_3 &= 2\n",
    "\\end{aligned}\n",
    "$$"
   ]
  },
  {
   "cell_type": "code",
   "execution_count": 99,
   "metadata": {},
   "outputs": [
    {
     "name": "stdout",
     "output_type": "stream",
     "text": [
      "El método de Gauss-Seidel no convergió.\n"
     ]
    }
   ],
   "source": [
    "A_mod = np.array([\n",
    "    [1, 0, -2],\n",
    "    [1/2,1,-1/4],\n",
    "    [1,-1/2,1]\n",
    "], dtype=float)\n",
    "\n",
    "try:\n",
    "    x = gauss_seidel(A_mod, b, x0, tol, max_iter)\n",
    "    print(\"La solución obtenida con Gauss-Seidel es de \\nx =\",x)\n",
    "except ValueError as e:\n",
    "    print(e)"
   ]
  },
  {
   "cell_type": "markdown",
   "metadata": {},
   "source": [
    "___\n",
    "## EJERCICIO SIETE\n",
    "Repita el ejercicio 11 usando el método de Jacobi.\n",
    "El sistema lineal\n",
    "\n",
    "$$\n",
    "\\begin{aligned}\n",
    "x_1 - x_3 &= 0.2 \\\\\n",
    "-\\frac{1}{2}x_1 + x_2 - \\frac{1}{4}x_3 &= -1.425 \\\\\n",
    "x_1 - \\frac{1}{2}x_2 + x_3 &= 2\n",
    "\\end{aligned}\n",
    "$$\n",
    "\n",
    "tiene la solución (0.9, -0.8, 0.7)\n",
    "### PARTE B\n",
    "Utilice el método iterativo de Gauss-Siedel para aproximar la solución para el sistema lineal con\n",
    "una tolerancia de 1022 y un máximo de 300 iteraciones."
   ]
  },
  {
   "cell_type": "code",
   "execution_count": 100,
   "metadata": {},
   "outputs": [
    {
     "name": "stdout",
     "output_type": "stream",
     "text": [
      "El método de Gauss-Jacobi no convergió.\n"
     ]
    }
   ],
   "source": [
    "A = np.array([\n",
    "    [1, 0, -1],\n",
    "    [1/2,1,-1/4],\n",
    "    [1,-1/2,1]\n",
    "], dtype=float)\n",
    "b = [0.2,-1.425,2]\n",
    "x0 = np.zeros(len(b))\n",
    "tol = 10e-22\n",
    "max_iter = 300\n",
    "\n",
    "try:\n",
    "    x = gauss_jacobi(A, b, x0, tol, max_iter)\n",
    "    print(\"La solución obtenida con Gauss-Seidel es de \\nx =\",x)\n",
    "except ValueError as e:\n",
    "    print(e)"
   ]
  },
  {
   "cell_type": "markdown",
   "metadata": {},
   "source": [
    "### PARTE C\n",
    " ¿Qué pasa en la parte b) cuando el sistema cambia por el siguiente?\n",
    " $$\n",
    "\\begin{aligned}\n",
    "x_1 - 2x_3 &= 0.2 \\\\\n",
    "-\\frac{1}{2}x_1 + x_2 - \\frac{1}{4}x_3 &= -1.425 \\\\\n",
    "x_1 - \\frac{1}{2}x_2 + x_3 &= 2\n",
    "\\end{aligned}\n",
    "$$"
   ]
  },
  {
   "cell_type": "code",
   "execution_count": 101,
   "metadata": {},
   "outputs": [
    {
     "name": "stdout",
     "output_type": "stream",
     "text": [
      "El método de Gauss-Jacobi no convergió.\n"
     ]
    }
   ],
   "source": [
    "A_mod = np.array([\n",
    "    [1, 0, -2],\n",
    "    [1/2,1,-1/4],\n",
    "    [1,-1/2,1]\n",
    "], dtype=float)\n",
    "\n",
    "try:\n",
    "    x = gauss_jacobi(A_mod, b, x0, tol, max_iter)\n",
    "    print(\"La solución obtenida con Gauss-Seidel es de \\nx =\",x)\n",
    "except ValueError as e:\n",
    "    print(e)"
   ]
  },
  {
   "cell_type": "markdown",
   "metadata": {},
   "source": [
    "___\n",
    "## EJERCICIO OCHO\n",
    "Un cable coaxial está formado por un conductor interno de 0.1 pulgadas cuadradas y un conductor externo\n",
    "de 0.5 pulgadas cuadradas. El potencial en un punto en la sección transversal del cable se describe\n",
    "mediante la ecuación de Laplace.\n",
    "Suponga que el conductor interno se mantiene en 0 volts y el conductor externo se mantiene en 110 volts. Aproximar\n",
    "el potencial entre los dos conductores requiere resolver el siguiente sistema lineal.\n",
    "\n",
    "\n",
    "$$\n",
    "\\begin{bmatrix}\n",
    "4 & -1 & 0 & 0 & -1 & 0 & 0 & 0 & 0 & 0 & 0 & 0 \\\\\n",
    "-1 & 4 & -1 & 0 & 0 & 0 & 0 & 0 & 0 & 0 & 0 & 0 \\\\\n",
    "0 & -1 & 4 & -1 & 0 & 0 & 0 & 0 & 0 & 0 & 0 & 0 \\\\\n",
    "0 & 0 & -1 & 4 & 0 & -1 & 0 & 0 & 0 & 0 & 0 & 0 \\\\\n",
    "-1 & 0 & 0 & 0 & 4 & 0 & -1 & 0 & 0 & 0 & 0 & 0 \\\\\n",
    "0 & 0 & 0 & -1 & 0 & 4 & 0 & -1 & 0 & 0 & 0 & 0 \\\\\n",
    "0 & 0 & 0 & 0 & -1 & 0 & 4 & 0 & -1 & 0 & 0 & 0 \\\\\n",
    "0 & 0 & 0 & 0 & 0 & -1 & 0 & 4 & 0 & 0 & 0 & -1 \\\\\n",
    "0 & 0 & 0 & 0 & 0 & 0 & -1 & 0 & 4 & -1 & 0 & 0 \\\\\n",
    "0 & 0 & 0 & 0 & 0 & 0 & 0 & 0 & -1 & 4 & -1 & 0 \\\\\n",
    "0 & 0 & 0 & 0 & 0 & 0 & 0 & -1 & 0 & -1 & 4 & -1 \\\\\n",
    "0 & 0 & 0 & 0 & 0 & -1 & 0 & 0 & 0 & 0 & -1 & 4\n",
    "\\end{bmatrix}\n",
    "\\begin{bmatrix}\n",
    "w_1 \\\\ w_2 \\\\ w_3 \\\\ w_4 \\\\ w_5 \\\\ w_6 \\\\ w_7 \\\\ w_8 \\\\ w_9 \\\\ w_{10} \\\\ w_{11} \\\\ w_{12}\n",
    "\\end{bmatrix}\n",
    "=\n",
    "\\begin{bmatrix}\n",
    "220 \\\\ 110 \\\\ 110 \\\\ 220 \\\\ 110 \\\\ 110 \\\\ 110 \\\\ 110 \\\\ 220 \\\\ 110 \\\\ 110 \\\\ 220\n",
    "\\end{bmatrix}\n",
    "$$"
   ]
  },
  {
   "cell_type": "code",
   "execution_count": 102,
   "metadata": {},
   "outputs": [],
   "source": [
    "import numpy as np\n",
    "\n",
    "# Matriz de coeficientes A\n",
    "A = np.array([\n",
    "    [4, -1, 0, 0, -1, 0, 0, 0, 0, 0, 0, 0],\n",
    "    [-1, 4, -1, 0, 0, 0, 0, 0, 0, 0, 0, 0],\n",
    "    [0, -1, 4, -1, 0, 0, 0, 0, 0, 0, 0, 0],\n",
    "    [0, 0, -1, 4, 0, -1, 0, 0, 0, 0, 0, 0],\n",
    "    [-1, 0, 0, 0, 4, 0, -1, 0, 0, 0, 0, 0],\n",
    "    [0, 0, 0, -1, 0, 4, 0, -1, 0, 0, 0, 0],\n",
    "    [0, 0, 0, 0, -1, 0, 4, 0, -1, 0, 0, 0],\n",
    "    [0, 0, 0, 0, 0, -1, 0, 4, 0, 0, 0, -1],\n",
    "    [0, 0, 0, 0, 0, 0, -1, 0, 4, -1, 0, 0],\n",
    "    [0, 0, 0, 0, 0, 0, 0, 0, -1, 4, -1, 0],\n",
    "    [0, 0, 0, 0, 0, 0, 0, 0, 0, -1, 4, -1],\n",
    "    [0, 0, 0, 0, 0, -1, 0, 0, 0, 0, -1, 4]\n",
    "], dtype=float)\n",
    "\n",
    "# Vector de términos independientes b\n",
    "b = np.array([220, 110, 110, 220, 110, 110, 110, 110,220, 110, 110, 220], dtype=float)"
   ]
  },
  {
   "cell_type": "markdown",
   "metadata": {},
   "source": [
    "### PARTE A\n",
    "¿La matriz es estrictamente diagonalmente dominante?"
   ]
  },
  {
   "cell_type": "code",
   "execution_count": 103,
   "metadata": {},
   "outputs": [
    {
     "name": "stdout",
     "output_type": "stream",
     "text": [
      "La matriz es estrictamente diagonal dominante.\n"
     ]
    }
   ],
   "source": [
    "if es_diagonal_estrictamente_dominante(A):\n",
    "    print(\"La matriz es estrictamente diagonal dominante.\")\n",
    "else:\n",
    "    print(\"La matriz NO es estrictamente diagonal dominante.\")"
   ]
  },
  {
   "cell_type": "markdown",
   "metadata": {},
   "source": [
    "### PARTE B\n",
    "Resuelva el sistema lineal usando el método de Jacobi con x(0) = 0 y TOL = 10-2."
   ]
  },
  {
   "cell_type": "code",
   "execution_count": 104,
   "metadata": {},
   "outputs": [
    {
     "name": "stdout",
     "output_type": "stream",
     "text": [
      "La solución obtenida con Gauss-Seidel es de \n",
      "x = [87.92837143 65.92839241 65.92839241 87.92837143 65.92839241 65.92839241\n",
      " 65.92839241 65.92839241 87.92837143 65.92839241 65.92839241 87.92837143]\n"
     ]
    }
   ],
   "source": [
    "x0 = np.zeros(len(b))\n",
    "tol = 10e-2\n",
    "max_iter = 300\n",
    "\n",
    "try:\n",
    "    x = gauss_jacobi(A, b, x0, tol, max_iter)\n",
    "    print(\"La solución obtenida con Gauss-Seidel es de \\nx =\",x)\n",
    "except ValueError as e:\n",
    "    print(e)"
   ]
  },
  {
   "cell_type": "markdown",
   "metadata": {},
   "source": [
    "### PARTE C\n",
    "Repita la parte b) mediante el método de Gauss-Siedel."
   ]
  },
  {
   "cell_type": "code",
   "execution_count": 105,
   "metadata": {},
   "outputs": [
    {
     "name": "stdout",
     "output_type": "stream",
     "text": [
      "La solución obtenida con Gauss-Seidel es de \n",
      "x = [87.98217949 65.98985217 65.99375664 87.99604191 65.98985217 65.9974727\n",
      " 65.99375664 65.99838442 87.99604191 65.9974727  65.99838442 87.99896428]\n"
     ]
    }
   ],
   "source": [
    "try:\n",
    "    x = gauss_seidel(A, b, x0, tol, max_iter)\n",
    "    print(\"La solución obtenida con Gauss-Seidel es de \\nx =\",x)\n",
    "except ValueError as e:\n",
    "    print(e)"
   ]
  }
 ],
 "metadata": {
  "kernelspec": {
   "display_name": "Python 3",
   "language": "python",
   "name": "python3"
  },
  "language_info": {
   "codemirror_mode": {
    "name": "ipython",
    "version": 3
   },
   "file_extension": ".py",
   "mimetype": "text/x-python",
   "name": "python",
   "nbconvert_exporter": "python",
   "pygments_lexer": "ipython3",
   "version": "3.13.1"
  }
 },
 "nbformat": 4,
 "nbformat_minor": 2
}
