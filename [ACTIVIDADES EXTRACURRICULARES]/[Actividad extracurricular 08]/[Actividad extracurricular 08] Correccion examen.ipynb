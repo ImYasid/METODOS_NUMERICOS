{
 "cells": [
  {
   "cell_type": "markdown",
   "metadata": {},
   "source": [
    "# [Actividad extracurricular 08] Corrección del examen"
   ]
  },
  {
   "cell_type": "markdown",
   "metadata": {},
   "source": [
    "## PREGUNTA UNO\n",
    "Suponga que dos puntos $(x_0,y_0)$ y $(x_1,y_1)$ se encuentran en línea recta con $y_1≠y_0$. Existen dos fórmulas para encontrar la intersección $x$ de la línea:\n",
    "\n",
    "|      | Fórmula                                                                                 |\n",
    "|-------------|-----------------------------------------------------------------------------------------|\n",
    "| **Método Uno** | $x = \\frac{{(x_0 \\cdot y_1) - (x_1 \\cdot y_0)}}{{y_1 - y_0}}$                         |\n",
    "| **Método Dos** | $x = x_0 - \\frac{{(x_1 - x_0) \\cdot y_0}}{{y_1 - y_0}}$                               |\n",
    "\n",
    "\n",
    "#### VALOR REAL\n",
    "Usando los datos $(x_0,y_0)=(1.31,3.24)$ y $(x_1,y_1)=(1.93,4.76)$, determine el valor real de la intersección $x$ asumiendo redondeo a 6 cifras significativas:\n",
    "\n",
    "$x = \\frac{{(1.31 \\cdot 4.76) - (1.93 \\cdot 3.24)}}{{4.76 - 3.24}}=−0.011579$ \n",
    "\n",
    "Usando aritmética de computador con redondeo a 3 cifras significativas resuelva para ambos métodos.\n"
   ]
  },
  {
   "cell_type": "markdown",
   "metadata": {},
   "source": [
    "#### MÉTODO A\n",
    "$$\n",
    "x = \\frac{{(x_0 \\cdot y_1) - (x_1 \\cdot y_0)}}{{y_1 - y_0}}\n",
    "$$\n",
    "\n",
    "$$\n",
    "x = \\frac{{(1.31 \\cdot 4.76) - (1.93 \\cdot 3.24)}}{{4.76 - 3.24}}\n",
    "$$\n",
    "\n",
    "$$\n",
    "x = \\frac{{(6.24) - (6.25)}}{{1.52}}\n",
    "$$\n",
    "\n",
    "$$\n",
    "x = \\frac{{-0.010}}{{1.52}}\n",
    "$$\n",
    "\n",
    "$$\n",
    "x = -0.00658\n",
    "$$\n",
    "\n",
    "$$\n",
    "x = -0.0066\n",
    "$$\n",
    "\n",
    "$$\n",
    "\\text{Error Relativo} = \\left| \\frac{\\text{Valor Aproximado} - \\text{Valor Verdadero}}{\\text{Valor Verdadero}} \\right| \\times 100\n",
    "$$\n",
    "$$\n",
    "\\text{Error Relativo} = \\left| \\frac{\\text{-0.0066} - \\text{−0.011579}}{\\text{−0.011579}} \\right| \\times 100\n",
    "$$\n",
    "$$\n",
    "\\text{Error Relativo} = 0.4301 \\times 100\n",
    "$$\n",
    "$$\n",
    "\\text{Error Relativo} = 43.01\n",
    "$$"
   ]
  },
  {
   "cell_type": "markdown",
   "metadata": {},
   "source": [
    "##### MÉTODO B\n",
    "$$\n",
    "x = x_0 - \\frac{{(x_1 - x_0) \\cdot y_0}}{{y_1 - y_0}}\n",
    "$$\n",
    "\n",
    "$$\n",
    "x = 1.31 - \\frac{{(1.93 - 1.31) \\cdot 3.24}}{{4.76 - 3.24}}\n",
    "$$\n",
    "\n",
    "$$\n",
    "x = 1.31 - \\frac{{(0.62) \\cdot 3.24}}{{1.52}}\n",
    "$$\n",
    "\n",
    "$$\n",
    "x = 1.31 - \\frac{{2.01}}{{1.52}}\n",
    "$$\n",
    "\n",
    "$$\n",
    "x = 1.31 - 1.32\n",
    "$$\n",
    "\n",
    "$$\n",
    "x = -0.010\n",
    "$$\n",
    "\n",
    "$$\n",
    "\\text{Error Relativo} = \\left| \\frac{\\text{Valor Aproximado} - \\text{Valor Verdadero}}{\\text{Valor Verdadero}} \\right| \\times 100\n",
    "$$\n",
    "$$\n",
    "\\text{Error Relativo} = \\left| \\frac{\\text{-0.010} - \\text{−0.011579}}{\\text{−0.011579}} \\right| \\times 100\n",
    "$$\n",
    "$$\n",
    "\\text{Error Relativo} = 0.136 \\times 100\n",
    "$$\n",
    "$$\n",
    "\\text{Error Relativo} = 13.6\n",
    "$$"
   ]
  },
  {
   "cell_type": "markdown",
   "metadata": {},
   "source": [
    "En conclusión, el mejor método es el método B debido a que su error relativo es más bajo que el método A"
   ]
  },
  {
   "cell_type": "markdown",
   "metadata": {},
   "source": [
    "## PREGUNTA DOS"
   ]
  },
  {
   "cell_type": "markdown",
   "metadata": {},
   "source": [
    "Los primeros tres términos diferentes a cero de la serie de Maclaurin para la función arcotangente son: $x−\\frac{{1}}{{3}}\\cdot x^3+\\frac{{1}}{{5}}\\cdot x^5$. Calcule el error relativo en las siguientes aproximaciones de π mediante el polinomio (en lugar del arcotangente).\n",
    "Asuma que π=3.14159\n",
    "#### FUNCIÓN $4(arc(\\frac{{1}}{{2}})+arctan(\\frac{{1}}{{3}}))$"
   ]
  },
  {
   "cell_type": "markdown",
   "metadata": {},
   "source": [
    "Redondee a 4 cifras significativas únicamente en la respuesta final de sus cálculos."
   ]
  },
  {
   "cell_type": "markdown",
   "metadata": {},
   "source": [
    "$$\n",
    "x = 4\\left(\\arctan\\left(\\frac{1}{2}\\right) + \\arctan\\left(\\frac{1}{3}\\right)\\right)\n",
    "$$\n",
    "\n",
    "$$\n",
    "x = 4\\left(\\frac{1}{2} - \\frac{1}{3} \\cdot \\left(\\frac{1}{2}\\right)^3 + \\frac{1}{5} \\cdot \\left(\\frac{1}{2}\\right)^5 + \\frac{1}{3} - \\frac{1}{3} \\cdot \\left(\\frac{1}{3}\\right)^3 + \\frac{1}{5} \\cdot \\left(\\frac{1}{3}\\right)^5 \\right)\n",
    "$$\n",
    "\n",
    "$$\n",
    "x = 3.146\n",
    "$$\n",
    "\n",
    "\n",
    "$$\n",
    "\\text{Error Relativo} = \\left| \\frac{\\text{Valor Aproximado} - \\text{Valor Verdadero}}{\\text{Valor Verdadero}} \\right| \\times 100\n",
    "$$\n",
    "$$\n",
    "\\text{Error Relativo} = \\left| \\frac{\\text{3.146} - \\text{3.14159}}{\\text{3.14159}} \\right| \\times 100\n",
    "$$\n",
    "$$\n",
    "\\text{Error Relativo} = 0,001269 \\times 100\n",
    "$$\n",
    "$$\n",
    "\\text{Error Relativo} = 0.1269\n",
    "$$\n",
    "#### FUNCIÓN $16\\cdot arctan(\\frac{{1}}{{5}})-4 \\cdot arctan(\\frac{{1}}{{239}})$"
   ]
  },
  {
   "cell_type": "markdown",
   "metadata": {},
   "source": [
    "Redondee a 4 cifras significativas únicamente en la respuesta final de sus cálculos.\n",
    "$$\n",
    "16\\cdot arctan(\\frac{{1}}{{5}})-4 \\cdot arctan(\\frac{{1}}{{239}})\n",
    "$$\n",
    "\n",
    "$$\n",
    "x=16\\cdot (\\frac{{1}}{{5}}−\\frac{{1}}{{3}}\\cdot (\\frac{{1}}{{5}})^3+\\frac{{1}}{{5}}\\cdot (\\frac{{1}}{{5}})^5)-4\\cdot (\\frac{{1}}{{239}}−\\frac{{1}}{{3}}\\cdot (\\frac{{1}}{{239}})^3+\\frac{{1}}{{5}}\\cdot (\\frac{{1}}{{239}})^5)\n",
    "$$\n",
    "\n",
    "$$\n",
    "x=3.142\n",
    "$$\n",
    "\n",
    "$$\n",
    "\\text{Error Relativo} = \\left| \\frac{\\text{Valor Aproximado} - \\text{Valor Verdadero}}{\\text{Valor Verdadero}} \\right| \\times 100\n",
    "$$\n",
    "$$\n",
    "\\text{Error Relativo} = \\left| \\frac{\\text{3.142} - \\text{3.14159}}{\\text{3.14159}} \\right| \\times 100\n",
    "$$\n",
    "$$\n",
    "\\text{Error Relativo} = 0,000009877 \\times 100\n",
    "$$\n",
    "$$\n",
    "\\text{Error Relativo} = 0,009877"
   ]
  },
  {
   "cell_type": "markdown",
   "metadata": {},
   "source": [
    "## PREGUNTA TRES\n",
    "La función $sin(x)$ tiene infinitas soluciones {...,−2π,−π,0,π,2π,...}. ¿A cuál solución converge el método de la Bisección en los siguientes intervalos?\n",
    "\n",
    "Para la resolucion del presente ejercicio, es necesario la creación de la funcion 'Biseccion' la cual se llamará para resolver los enunciados. Para ello se tiene:"
   ]
  },
  {
   "cell_type": "code",
   "execution_count": 35,
   "metadata": {},
   "outputs": [],
   "source": [
    "def biseccion(f, a, b, tol, max_iter):\n",
    "    # Verificar que f(a) y f(b) tengan signos opuestos\n",
    "    if f(a) * f(b) >= 0:\n",
    "        print(\"Error: el intervalo inicial no es válido. Asegúrate de que f(a) * f(b) < 0.\")\n",
    "        print(f\"Error[sin cambio de signo]: f(a) = {f(a)}, f(b) = {f(b)}\")\n",
    "        return None, 0\n",
    "\n",
    "    for n in range(max_iter):\n",
    "        # Verificar si se está dividiendo por cero\n",
    "        try:\n",
    "            c = (a + b) / 2  # Punto medio\n",
    "            fc = f(c)\n",
    "        except ZeroDivisionError:\n",
    "            print(\"Error: División por cero detectada.\")\n",
    "            return None, n\n",
    "\n",
    "        # Criterio de parada\n",
    "        if abs(fc) < tol or (b - a) / 2 < tol:\n",
    "            print(f\"Raíz encontrada en x = {c} después de {n} iteraciones.\")\n",
    "            return c, n\n",
    "\n",
    "        # Verificar si el rango oscila o diverge\n",
    "        if abs(b - a) < tol:  # Rango extremadamente pequeño, posible divergencia\n",
    "            print(\"Error: El rango oscila o diverge.\")\n",
    "            print(f\"Error[el rango oscila o diverge]: a = {a}, b = {b}\")\n",
    "            return None, n\n",
    "\n",
    "        # Elegir el subintervalo que contiene la raíz\n",
    "        if f(a) * fc < 0:\n",
    "            b = c\n",
    "        else:\n",
    "            a = c\n",
    "\n",
    "    # Si se llega al número máximo de iteraciones\n",
    "    print(\"Se alcanzó el número máximo de iteraciones.\")\n",
    "    return (a + b) / 2, max_iter\n"
   ]
  },
  {
   "cell_type": "markdown",
   "metadata": {},
   "source": [
    "#### 1. PARA $a=-2.5$  y  $b=-1$"
   ]
  },
  {
   "cell_type": "code",
   "execution_count": 36,
   "metadata": {},
   "outputs": [
    {
     "name": "stdout",
     "output_type": "stream",
     "text": [
      "Error: el intervalo inicial no es válido. Asegúrate de que f(a) * f(b) < 0.\n",
      "Error[sin cambio de signo]: f(a) = -0.5984721441039564, f(b) = -0.8414709848078965\n",
      "Raíz aproximada: None, encontrada en 0 iteraciones.\n"
     ]
    }
   ],
   "source": [
    "# METODO DE LA BISECCION\n",
    "import math\n",
    "# Definir la función\n",
    "def f(x):\n",
    "    return math.sin(x)\n",
    "\n",
    "# Intervalo inicial\n",
    "a = -2.5\n",
    "b = -1\n",
    "tol=1e-6\n",
    "max_iter=100\n",
    "\n",
    "# Ejecutar el método\n",
    "raiz, iteraciones = biseccion(f, a, b, tol, max_iter)\n",
    "print(f\"Raíz aproximada: {raiz}, encontrada en {iteraciones} iteraciones.\")"
   ]
  },
  {
   "cell_type": "markdown",
   "metadata": {},
   "source": [
    "#### 2. PARA $a=3$  y  $b=5$"
   ]
  },
  {
   "cell_type": "code",
   "execution_count": 37,
   "metadata": {},
   "outputs": [
    {
     "name": "stdout",
     "output_type": "stream",
     "text": [
      "Raíz encontrada en x = 3.141592025756836 después de 19 iteraciones.\n",
      "Raíz aproximada: 3.141592025756836, encontrada en 19 iteraciones.\n"
     ]
    }
   ],
   "source": [
    "# METODO DE LA BISECCION\n",
    "import math\n",
    "# Definir la función\n",
    "def f(x):\n",
    "    return math.sin(x)\n",
    "\n",
    "# Intervalo inicial\n",
    "a = 3\n",
    "b = 5\n",
    "tol=1e-6\n",
    "max_iter=100\n",
    "\n",
    "# Ejecutar el método\n",
    "raiz, iteraciones = biseccion(f, a, b, tol, max_iter)\n",
    "print(f\"Raíz aproximada: {raiz}, encontrada en {iteraciones} iteraciones.\")"
   ]
  },
  {
   "cell_type": "markdown",
   "metadata": {},
   "source": [
    "#### 3. PARA $a=-4$  y  $b=5$"
   ]
  },
  {
   "cell_type": "code",
   "execution_count": 38,
   "metadata": {},
   "outputs": [
    {
     "name": "stdout",
     "output_type": "stream",
     "text": [
      "Raíz encontrada en x = 3.141591787338257 después de 21 iteraciones.\n",
      "Raíz aproximada: 3.141591787338257, encontrada en 21 iteraciones.\n"
     ]
    }
   ],
   "source": [
    "# METODO DE LA BISECCION\n",
    "import math\n",
    "# Definir la función\n",
    "def f(x):\n",
    "    return math.sin(x)\n",
    "\n",
    "# Intervalo inicial\n",
    "a = -4\n",
    "b = 5\n",
    "tol=1e-6\n",
    "max_iter=100\n",
    "\n",
    "# Ejecutar el método\n",
    "raiz, iteraciones = biseccion(f, a, b, tol, max_iter)\n",
    "print(f\"Raíz aproximada: {raiz}, encontrada en {iteraciones} iteraciones.\")"
   ]
  },
  {
   "cell_type": "markdown",
   "metadata": {},
   "source": [
    "#### 4. PARA $a=-1$  y  $b=2$"
   ]
  },
  {
   "cell_type": "code",
   "execution_count": 39,
   "metadata": {},
   "outputs": [
    {
     "name": "stdout",
     "output_type": "stream",
     "text": [
      "Raíz encontrada en x = -9.5367431640625e-07 después de 19 iteraciones.\n",
      "Raíz aproximada: -9.5367431640625e-07, encontrada en 19 iteraciones.\n"
     ]
    }
   ],
   "source": [
    "# METODO DE LA BISECCION\n",
    "import math\n",
    "# Definir la función\n",
    "def f(x):\n",
    "    return math.sin(x)\n",
    "\n",
    "# Intervalo inicial\n",
    "a = -1\n",
    "b = 2\n",
    "tol=1e-6\n",
    "max_iter=100\n",
    "\n",
    "# Ejecutar el método\n",
    "raiz, iteraciones = biseccion(f, a, b, tol, max_iter)\n",
    "print(f\"Raíz aproximada: {raiz}, encontrada en {iteraciones} iteraciones.\")"
   ]
  },
  {
   "cell_type": "markdown",
   "metadata": {},
   "source": [
    "#### 5. PARA $a=-5$  y  $b=4$"
   ]
  },
  {
   "cell_type": "code",
   "execution_count": 40,
   "metadata": {},
   "outputs": [
    {
     "name": "stdout",
     "output_type": "stream",
     "text": [
      "Raíz encontrada en x = -3.141591787338257 después de 21 iteraciones.\n",
      "Raíz aproximada: -3.141591787338257, encontrada en 21 iteraciones.\n"
     ]
    }
   ],
   "source": [
    "# METODO DE LA BISECCION\n",
    "import math\n",
    "# Definir la función\n",
    "def f(x):\n",
    "    return math.sin(x)\n",
    "\n",
    "# Intervalo inicial\n",
    "a = -5\n",
    "b = 4\n",
    "tol=1e-6\n",
    "max_iter=100\n",
    "\n",
    "# Ejecutar el método\n",
    "raiz, iteraciones = biseccion(f, a, b, tol, max_iter)\n",
    "print(f\"Raíz aproximada: {raiz}, encontrada en {iteraciones} iteraciones.\")"
   ]
  },
  {
   "cell_type": "markdown",
   "metadata": {},
   "source": [
    "#### 6. PARA $a=-3.5$  y  $b=3$"
   ]
  },
  {
   "cell_type": "markdown",
   "metadata": {},
   "source": [
    "#### 6. PARA $a=-3.5$  y  $b=3$"
   ]
  },
  {
   "cell_type": "code",
   "execution_count": 41,
   "metadata": {},
   "outputs": [
    {
     "name": "stdout",
     "output_type": "stream",
     "text": [
      "Error: el intervalo inicial no es válido. Asegúrate de que f(a) * f(b) < 0.\n",
      "Error[sin cambio de signo]: f(a) = 0.35078322768961984, f(b) = 0.1411200080598672\n",
      "Raíz aproximada: None, encontrada en 0 iteraciones.\n"
     ]
    }
   ],
   "source": [
    "# METODO DE LA BISECCION\n",
    "import math\n",
    "# Definir la función\n",
    "def f(x):\n",
    "    return math.sin(x)\n",
    "\n",
    "# Intervalo inicial\n",
    "a = -3.5\n",
    "b = 3\n",
    "tol=1e-6\n",
    "max_iter=100\n",
    "\n",
    "# Ejecutar el método\n",
    "raiz, iteraciones = biseccion(f, a, b, tol, max_iter)\n",
    "print(f\"Raíz aproximada: {raiz}, encontrada en {iteraciones} iteraciones.\")"
   ]
  },
  {
   "cell_type": "markdown",
   "metadata": {},
   "source": [
    "## PREGUNTA CUATRO\n",
    "El método de Newton para encontrar raíces se basa en la siguiente ecuación:\n",
    "$$\n",
    "x_{n+1} = x_n - \\frac{f(x_n)}{f'(x_n)}\n",
    "$$\n",
    "Cuál es la raíz de la ecuación:\n",
    "$$\n",
    "x^3 + x = 1 + 3x^2\n",
    "$$\n",
    "$$\n",
    "x_{sol}=2.769292662905941\n",
    "$$\n",
    "\n",
    "\n",
    "Para responder esta pregunta, es necesario crear la funcion 'newton_raphson' la cual nos permitiria evaluar en diferentes valores. Donde:"
   ]
  },
  {
   "cell_type": "code",
   "execution_count": 42,
   "metadata": {},
   "outputs": [],
   "source": [
    "import math\n",
    "\n",
    "def newton_raphson(f, df, x0, tol, max_iter):\n",
    "    xn = x0\n",
    "    for n in range(max_iter):\n",
    "        fxn = f(xn)\n",
    "        dfxn = df(xn)\n",
    "        \n",
    "        if abs(fxn) < tol:  # La raíz es suficientemente precisa\n",
    "            print(f\"Raíz encontrada en x = {xn} después de {n} iteraciones.\")\n",
    "            return xn, n\n",
    "        \n",
    "        # Verificar si la derivada es muy pequeña (casi cero)\n",
    "        if abs(dfxn) < 1e-10:\n",
    "            print(f\"Error: Derivada muy pequeña en x = {xn}. No se puede continuar. (Posible división por cero)\")\n",
    "            return None, n\n",
    "        \n",
    "        # Verificar si el valor de xn está oscilando o divergiendo\n",
    "        if n > 0 and abs(xn - prev_xn) > abs(prev_xn):  # Comparar el valor actual con el anterior\n",
    "            print(f\"Error: La secuencia diverge u oscila en la iteración {n}.\")\n",
    "            return None, n\n",
    "        \n",
    "        # Guardar el valor anterior de xn para la comparación en la próxima iteración\n",
    "        prev_xn = xn\n",
    "        \n",
    "        # Actualizar el valor de xn usando la fórmula de Newton\n",
    "        xn = xn - fxn / dfxn\n",
    "    \n",
    "    # Si se alcanzó el número máximo de iteraciones sin converger\n",
    "    print(\"Se alcanzó el número máximo de iteraciones.\")\n",
    "    return xn, max_iter\n"
   ]
  },
  {
   "cell_type": "markdown",
   "metadata": {},
   "source": [
    "#### 1. PARA $x_0= 3$ "
   ]
  },
  {
   "cell_type": "code",
   "execution_count": 43,
   "metadata": {},
   "outputs": [
    {
     "name": "stdout",
     "output_type": "stream",
     "text": [
      "Raíz encontrada en x = 2.769292662905941 después de 3 iteraciones.\n",
      "Raíz aproximada: 2.769292662905941, encontrada en 3 iteraciones.\n"
     ]
    }
   ],
   "source": [
    "def f(x):\n",
    "    return x**3-3*x**2+x-1\n",
    "\n",
    "def df(x):\n",
    "    return 3*x**2-6*x+1\n",
    "\n",
    "# Aproximación inicial\n",
    "x0 = 3\n",
    "tol=1e-5\n",
    "max_iter=100\n",
    "# Ejecutar el método\n",
    "raiz, iteraciones = newton_raphson(f, df, x0, tol, max_iter)\n",
    "print(f\"Raíz aproximada: {raiz}, encontrada en {iteraciones} iteraciones.\")"
   ]
  },
  {
   "cell_type": "markdown",
   "metadata": {},
   "source": [
    "#### 2. PARA $x_0= 1$ "
   ]
  },
  {
   "cell_type": "code",
   "execution_count": 44,
   "metadata": {},
   "outputs": [
    {
     "name": "stdout",
     "output_type": "stream",
     "text": [
      "Error: La secuencia diverge u oscila en la iteración 2.\n",
      "Raíz aproximada: None, encontrada en 2 iteraciones.\n"
     ]
    }
   ],
   "source": [
    "def f(x):\n",
    "    return x**3-3*x**2+x-1\n",
    "\n",
    "def df(x):\n",
    "    return 3*x**2-6*x+1\n",
    "\n",
    "# Aproximación inicial\n",
    "x0 = 1\n",
    "tol=1e-5\n",
    "max_iter=100\n",
    "# Ejecutar el método\n",
    "raiz, iteraciones = newton_raphson(f, df, x0, tol, max_iter)\n",
    "print(f\"Raíz aproximada: {raiz}, encontrada en {iteraciones} iteraciones.\")"
   ]
  },
  {
   "cell_type": "markdown",
   "metadata": {},
   "source": [
    "#### 3. PARA $x_0= 0$ "
   ]
  },
  {
   "cell_type": "code",
   "execution_count": 45,
   "metadata": {},
   "outputs": [
    {
     "name": "stdout",
     "output_type": "stream",
     "text": [
      "Error: La secuencia diverge u oscila en la iteración 1.\n",
      "Raíz aproximada: None, encontrada en 1 iteraciones.\n"
     ]
    }
   ],
   "source": [
    "def f(x):\n",
    "    return x**3-3*x**2+x-1\n",
    "\n",
    "def df(x):\n",
    "    return 3*x**2-6*x+1\n",
    "\n",
    "# Aproximación inicial\n",
    "x0 = 0\n",
    "tol=1e-5\n",
    "max_iter=100\n",
    "# Ejecutar el método\n",
    "raiz, iteraciones = newton_raphson(f, df, x0, tol, max_iter)\n",
    "print(f\"Raíz aproximada: {raiz}, encontrada en {iteraciones} iteraciones.\")"
   ]
  },
  {
   "cell_type": "markdown",
   "metadata": {},
   "source": [
    "#### 4. PARA $x_0= 1+(\\frac{{6}}{{3}})^{\\frac{{1}}{{2}}}$ "
   ]
  },
  {
   "cell_type": "code",
   "execution_count": null,
   "metadata": {},
   "outputs": [
    {
     "name": "stdout",
     "output_type": "stream",
     "text": [
      "Raíz encontrada en x = 2.7692923647622814 después de 4 iteraciones.\n",
      "Raíz aproximada: 2.7692923647622814, encontrada en 4 iteraciones.\n"
     ]
    }
   ],
   "source": [
    "def f(x):\n",
    "    return x**3 - 3*x**2 + x - 1\n",
    "\n",
    "def df(x):\n",
    "    return 3*x**2 - 6*x + 1\n",
    "\n",
    "# Aproximación inicial\n",
    "x0 = 1 + (6/3)**0.5  # Corregir el uso de ^ a **\n",
    "tol = 1e-5\n",
    "max_iter = 100\n",
    "\n",
    "# Ejecutar el método\n",
    "raiz, iteraciones = newton_raphson(f, df, x0, tol, max_iter)\n",
    "print(f\"Raíz aproximada: {raiz}, encontrada en {iteraciones} iteraciones.\")\n"
   ]
  },
  {
   "cell_type": "markdown",
   "metadata": {},
   "source": [
    "## PREGUNTA CINCO\n",
    "El método de la Secante se basa en la siguiente fórmula: \n",
    "$$\n",
    "x_n = x_{n-1} - \\frac{y_{n-1}(x_{n-1} - x_{n-2})}{y_{n-1} - y_{n-2}}\n",
    "$$\n",
    "En base a esta fórmula, se ha generado el siguiente código. "
   ]
  },
  {
   "cell_type": "code",
   "execution_count": 49,
   "metadata": {},
   "outputs": [],
   "source": [
    "def secant_method(f, x0, x1, tol=1e-6, max_iter=100):\n",
    "    \"\"\"\n",
    "    Secant method for finding the root of a function.\n",
    "\n",
    "    # Parameters\n",
    "    * ``f``: The function for which to find the root.\n",
    "    * ``x0``, x1: Initial guesses for the root.\n",
    "    * ``tol``: Tolerance for convergence (default: 1e-6).\n",
    "    * ``max_iter``: Maximum number of iterations (default: 100).\n",
    "\n",
    "    # Returns\n",
    "    * ``x_curr`` The approximate root of the function.\n",
    "    * ``iter_count`` The number of iterations taken.\n",
    "    \"\"\"\n",
    "    x_prev = x0\n",
    "    x_curr = x1\n",
    "    iter_count = 0\n",
    "\n",
    "    while abs(f(x_curr)) > tol and iter_count < max_iter:\n",
    "        x_next = x_curr - f(x_curr) * (x_curr - x_prev) / (f(x_curr) - f(x_prev))\n",
    "        x_prev = x_curr\n",
    "        x_curr = x_next\n",
    "        iter_count += 1\n",
    "\n",
    "    return x_curr, iter_count"
   ]
  },
  {
   "cell_type": "markdown",
   "metadata": {},
   "source": []
  },
  {
   "cell_type": "markdown",
   "metadata": {},
   "source": [
    "#### EJEMPLO UNO"
   ]
  },
  {
   "cell_type": "code",
   "execution_count": 50,
   "metadata": {},
   "outputs": [
    {
     "name": "stdout",
     "output_type": "stream",
     "text": [
      "Llamada i=1\t x=3.00000\t y=2.00\n",
      "Llamada i=2\t x=3.00000\t y=2.00\n",
      "Llamada i=3\t x=3.00000\t y=2.00\n",
      "Llamada i=4\t x=2.00000\t y=-3.00\n",
      "Llamada i=5\t x=2.60000\t y=-1.10\n",
      "Llamada i=6\t x=2.60000\t y=-1.10\n",
      "Llamada i=7\t x=2.60000\t y=-1.10\n",
      "Llamada i=8\t x=3.00000\t y=2.00\n",
      "Llamada i=9\t x=2.74227\t y=-0.20\n",
      "Llamada i=10\t x=2.74227\t y=-0.20\n",
      "Llamada i=11\t x=2.74227\t y=-0.20\n",
      "Llamada i=12\t x=2.60000\t y=-1.10\n",
      "Llamada i=13\t x=2.77296\t y=0.03\n",
      "Llamada i=14\t x=2.77296\t y=0.03\n",
      "Llamada i=15\t x=2.77296\t y=0.03\n",
      "Llamada i=16\t x=2.74227\t y=-0.20\n",
      "Llamada i=17\t x=2.76922\t y=-0.00\n",
      "Llamada i=18\t x=2.76922\t y=-0.00\n",
      "Llamada i=19\t x=2.76922\t y=-0.00\n",
      "Llamada i=20\t x=2.77296\t y=0.03\n",
      "Llamada i=21\t x=2.76929\t y=-0.00\n",
      "Llamada i=22\t x=2.76929\t y=-0.00\n",
      "Llamada i=23\t x=2.76929\t y=-0.00\n",
      "Llamada i=24\t x=2.76922\t y=-0.00\n",
      "Llamada i=25\t x=2.76929\t y=0.00\n"
     ]
    },
    {
     "data": {
      "text/plain": [
       "(2.7692923542484045, 6)"
      ]
     },
     "execution_count": 50,
     "metadata": {},
     "output_type": "execute_result"
    }
   ],
   "source": [
    "i = 0\n",
    "\n",
    "\n",
    "def func(x):\n",
    "    global i\n",
    "    i += 1\n",
    "    y = x**3 - 3 * x**2 + x - 1\n",
    "    print(f\"Llamada i={i}\\t x={x:.5f}\\t y={y:.2f}\")\n",
    "    return y\n",
    "\n",
    "\n",
    "secant_method(func, x0=2, x1=3)"
   ]
  },
  {
   "cell_type": "markdown",
   "metadata": {},
   "source": [
    "#### EJEMPLO DOS"
   ]
  },
  {
   "cell_type": "code",
   "execution_count": 52,
   "metadata": {},
   "outputs": [
    {
     "name": "stdout",
     "output_type": "stream",
     "text": [
      "Llamada i=1\t x=3.00000\t y=0.64\n",
      "Llamada i=2\t x=3.00000\t y=0.64\n",
      "Llamada i=3\t x=3.00000\t y=0.64\n",
      "Llamada i=4\t x=2.00000\t y=1.41\n",
      "Llamada i=5\t x=3.83460\t y=-0.14\n",
      "Llamada i=6\t x=3.83460\t y=-0.14\n",
      "Llamada i=7\t x=3.83460\t y=-0.14\n",
      "Llamada i=8\t x=3.00000\t y=0.64\n",
      "Llamada i=9\t x=3.68602\t y=-0.02\n",
      "Llamada i=10\t x=3.68602\t y=-0.02\n",
      "Llamada i=11\t x=3.68602\t y=-0.02\n",
      "Llamada i=12\t x=3.83460\t y=-0.14\n",
      "Llamada i=13\t x=3.66399\t y=0.00\n",
      "Llamada i=14\t x=3.66399\t y=0.00\n",
      "Llamada i=15\t x=3.66399\t y=0.00\n",
      "Llamada i=16\t x=3.68602\t y=-0.02\n",
      "Llamada i=17\t x=3.66520\t y=-0.00\n",
      "Llamada i=18\t x=3.66520\t y=-0.00\n",
      "Llamada i=19\t x=3.66520\t y=-0.00\n",
      "Llamada i=20\t x=3.66399\t y=0.00\n",
      "Llamada i=21\t x=3.66519\t y=-0.00\n"
     ]
    },
    {
     "data": {
      "text/plain": [
       "(3.66519143172732, 5)"
      ]
     },
     "execution_count": 52,
     "metadata": {},
     "output_type": "execute_result"
    }
   ],
   "source": [
    "i = 0\n",
    "import math\n",
    "\n",
    "\n",
    "def func(x):\n",
    "    global i\n",
    "    i += 1\n",
    "    y = math.sin(x) + 0.5\n",
    "    print(f\"Llamada i={i}\\t x={x:.5f}\\t y={y:.2f}\")\n",
    "    return y\n",
    "\n",
    "\n",
    "secant_method(func, x0=2, x1=3)"
   ]
  },
  {
   "cell_type": "code",
   "execution_count": null,
   "metadata": {},
   "outputs": [],
   "source": []
  }
 ],
 "metadata": {
  "kernelspec": {
   "display_name": "Python 3",
   "language": "python",
   "name": "python3"
  },
  "language_info": {
   "codemirror_mode": {
    "name": "ipython",
    "version": 3
   },
   "file_extension": ".py",
   "mimetype": "text/x-python",
   "name": "python",
   "nbconvert_exporter": "python",
   "pygments_lexer": "ipython3",
   "version": "3.13.0"
  }
 },
 "nbformat": 4,
 "nbformat_minor": 2
}
