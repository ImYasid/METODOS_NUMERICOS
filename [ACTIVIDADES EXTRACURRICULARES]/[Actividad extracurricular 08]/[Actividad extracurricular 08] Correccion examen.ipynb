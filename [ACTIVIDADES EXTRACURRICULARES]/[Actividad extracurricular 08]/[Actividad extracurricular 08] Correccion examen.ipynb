{
 "cells": [
  {
   "cell_type": "markdown",
   "metadata": {},
   "source": [
    "# [Actividad extracurricular 08] Corrección del examen"
   ]
  },
  {
   "cell_type": "markdown",
   "metadata": {},
   "source": [
    "_____\n",
    "## PREGUNTA UNO\n",
    "______\n",
    "Suponga que dos puntos $(x_0,y_0)$ y $(x_1,y_1)$ se encuentran en línea recta con $y_1≠y_0$. Existen dos fórmulas para encontrar la intersección $x$ de la línea:\n",
    "\n",
    "|      | Fórmula                                                                                 |\n",
    "|-------------|-----------------------------------------------------------------------------------------|\n",
    "| **Método Uno** | $x = \\frac{{(x_0 \\cdot y_1) - (x_1 \\cdot y_0)}}{{y_1 - y_0}}$                         |\n",
    "| **Método Dos** | $x = x_0 - \\frac{{(x_1 - x_0) \\cdot y_0}}{{y_1 - y_0}}$                               |\n",
    "\n",
    "\n",
    "#### VALOR REAL\n",
    "Usando los datos $(x_0,y_0)=(1.31,3.24)$ y $(x_1,y_1)=(1.93,4.76)$, determine el valor real de la intersección $x$ asumiendo redondeo a 6 cifras significativas:\n",
    "\n",
    "$x = \\frac{{(1.31 \\cdot 4.76) - (1.93 \\cdot 3.24)}}{{4.76 - 3.24}}=−0.011579$ \n",
    "\n",
    "Usando aritmética de computador con redondeo a 3 cifras significativas resuelva para ambos métodos.\n"
   ]
  },
  {
   "cell_type": "markdown",
   "metadata": {},
   "source": [
    "#### MÉTODO A\n",
    "$$\n",
    "x = \\frac{{(x_0 \\cdot y_1) - (x_1 \\cdot y_0)}}{{y_1 - y_0}}\n",
    "$$\n",
    "\n",
    "$$\n",
    "x = \\frac{{(1.31 \\cdot 4.76) - (1.93 \\cdot 3.24)}}{{4.76 - 3.24}}\n",
    "$$\n",
    "\n",
    "$$\n",
    "x = \\frac{{(6.24) - (6.25)}}{{1.52}}\n",
    "$$\n",
    "\n",
    "$$\n",
    "x = \\frac{{-0.010}}{{1.52}}\n",
    "$$\n",
    "\n",
    "$$\n",
    "x = -0.00658\n",
    "$$\n",
    "\n",
    "$$\n",
    "x = -0.0066\n",
    "$$\n",
    "\n",
    "$$\n",
    "\\text{Error Relativo} = \\left| \\frac{\\text{Valor Aproximado} - \\text{Valor Verdadero}}{\\text{Valor Verdadero}} \\right| \\times 100\n",
    "$$\n",
    "$$\n",
    "\\text{Error Relativo} = \\left| \\frac{\\text{-0.0066} - \\text{−0.011579}}{\\text{−0.011579}} \\right| \\times 100\n",
    "$$\n",
    "$$\n",
    "\\text{Error Relativo} = 0.4301 \\times 100\n",
    "$$\n",
    "$$\n",
    "\\text{Error Relativo} = 43.01\n",
    "$$"
   ]
  },
  {
   "cell_type": "markdown",
   "metadata": {},
   "source": [
    "##### MÉTODO B\n",
    "$$\n",
    "x = x_0 - \\frac{{(x_1 - x_0) \\cdot y_0}}{{y_1 - y_0}}\n",
    "$$\n",
    "\n",
    "$$\n",
    "x = 1.31 - \\frac{{(1.93 - 1.31) \\cdot 3.24}}{{4.76 - 3.24}}\n",
    "$$\n",
    "\n",
    "$$\n",
    "x = 1.31 - \\frac{{(0.62) \\cdot 3.24}}{{1.52}}\n",
    "$$\n",
    "\n",
    "$$\n",
    "x = 1.31 - \\frac{{2.01}}{{1.52}}\n",
    "$$\n",
    "\n",
    "$$\n",
    "x = 1.31 - 1.32\n",
    "$$\n",
    "\n",
    "$$\n",
    "x = -0.010\n",
    "$$\n",
    "\n",
    "$$\n",
    "\\text{Error Relativo} = \\left| \\frac{\\text{Valor Aproximado} - \\text{Valor Verdadero}}{\\text{Valor Verdadero}} \\right| \\times 100\n",
    "$$\n",
    "$$\n",
    "\\text{Error Relativo} = \\left| \\frac{\\text{-0.010} - \\text{−0.011579}}{\\text{−0.011579}} \\right| \\times 100\n",
    "$$\n",
    "$$\n",
    "\\text{Error Relativo} = 0.136 \\times 100\n",
    "$$\n",
    "$$\n",
    "\\text{Error Relativo} = 13.6\n",
    "$$"
   ]
  },
  {
   "cell_type": "markdown",
   "metadata": {},
   "source": [
    "En conclusión, el mejor método es el método B debido a que su error relativo es más bajo que el método A"
   ]
  },
  {
   "cell_type": "markdown",
   "metadata": {},
   "source": [
    "______\n",
    "## PREGUNTA DOS\n",
    "______"
   ]
  },
  {
   "cell_type": "markdown",
   "metadata": {},
   "source": [
    "Los primeros tres términos diferentes a cero de la serie de Maclaurin para la función arcotangente son: $x−\\frac{{1}}{{3}}\\cdot x^3+\\frac{{1}}{{5}}\\cdot x^5$. Calcule el error relativo en las siguientes aproximaciones de π mediante el polinomio (en lugar del arcotangente).\n",
    "Asuma que π=3.14159\n",
    "#### FUNCIÓN $4(arc(\\frac{{1}}{{2}})+arctan(\\frac{{1}}{{3}}))$"
   ]
  },
  {
   "cell_type": "markdown",
   "metadata": {},
   "source": [
    "Redondee a 4 cifras significativas únicamente en la respuesta final de sus cálculos."
   ]
  },
  {
   "cell_type": "markdown",
   "metadata": {},
   "source": [
    "$$\n",
    "x = 4\\left(\\arctan\\left(\\frac{1}{2}\\right) + \\arctan\\left(\\frac{1}{3}\\right)\\right)\n",
    "$$\n",
    "\n",
    "$$\n",
    "x = 4\\left(\\frac{1}{2} - \\frac{1}{3} \\cdot \\left(\\frac{1}{2}\\right)^3 + \\frac{1}{5} \\cdot \\left(\\frac{1}{2}\\right)^5 + \\frac{1}{3} - \\frac{1}{3} \\cdot \\left(\\frac{1}{3}\\right)^3 + \\frac{1}{5} \\cdot \\left(\\frac{1}{3}\\right)^5 \\right)\n",
    "$$\n",
    "\n",
    "$$\n",
    "x = 3.146\n",
    "$$\n",
    "\n",
    "\n",
    "$$\n",
    "\\text{Error Relativo} = \\left| \\frac{\\text{Valor Aproximado} - \\text{Valor Verdadero}}{\\text{Valor Verdadero}} \\right| \\times 100\n",
    "$$\n",
    "$$\n",
    "\\text{Error Relativo} = \\left| \\frac{\\text{3.146} - \\text{3.14159}}{\\text{3.14159}} \\right| \\times 100\n",
    "$$\n",
    "$$\n",
    "\\text{Error Relativo} = 0,001269 \\times 100\n",
    "$$\n",
    "$$\n",
    "\\text{Error Relativo} = 0.1269\n",
    "$$\n",
    "#### FUNCIÓN $16\\cdot arctan(\\frac{{1}}{{5}})-4 \\cdot arctan(\\frac{{1}}{{239}})$"
   ]
  },
  {
   "cell_type": "markdown",
   "metadata": {},
   "source": [
    "Redondee a 4 cifras significativas únicamente en la respuesta final de sus cálculos.\n",
    "$$\n",
    "16\\cdot arctan(\\frac{{1}}{{5}})-4 \\cdot arctan(\\frac{{1}}{{239}})\n",
    "$$\n",
    "\n",
    "$$\n",
    "x=16\\cdot (\\frac{{1}}{{5}}−\\frac{{1}}{{3}}\\cdot (\\frac{{1}}{{5}})^3+\\frac{{1}}{{5}}\\cdot (\\frac{{1}}{{5}})^5)-4\\cdot (\\frac{{1}}{{239}}−\\frac{{1}}{{3}}\\cdot (\\frac{{1}}{{239}})^3+\\frac{{1}}{{5}}\\cdot (\\frac{{1}}{{239}})^5)\n",
    "$$\n",
    "\n",
    "$$\n",
    "x=3.142\n",
    "$$\n",
    "\n",
    "$$\n",
    "\\text{Error Relativo} = \\left| \\frac{\\text{Valor Aproximado} - \\text{Valor Verdadero}}{\\text{Valor Verdadero}} \\right| \\times 100\n",
    "$$\n",
    "$$\n",
    "\\text{Error Relativo} = \\left| \\frac{\\text{3.142} - \\text{3.14159}}{\\text{3.14159}} \\right| \\times 100\n",
    "$$\n",
    "$$\n",
    "\\text{Error Relativo} = 0,000009877 \\times 100\n",
    "$$\n",
    "$$\n",
    "\\text{Error Relativo} = 0,009877"
   ]
  },
  {
   "cell_type": "markdown",
   "metadata": {},
   "source": [
    "______\n",
    "## PREGUNTA TRES\n",
    "______\n",
    "La función $sin(x)$ tiene infinitas soluciones {...,−2π,−π,0,π,2π,...}. ¿A cuál solución converge el método de la Bisección en los siguientes intervalos?\n",
    "\n",
    "Para la resolucion del presente ejercicio, es necesario la creación de la funcion 'Biseccion' la cual se llamará para resolver los enunciados. Para ello se tiene:"
   ]
  },
  {
   "cell_type": "code",
   "execution_count": 60,
   "metadata": {},
   "outputs": [],
   "source": [
    "def biseccion(f, a, b, tol, max_iter):\n",
    "    # Verificar que f(a) y f(b) tengan signos opuestos\n",
    "    if f(a) * f(b) >= 0:\n",
    "        print(\"Error: el intervalo inicial no es válido. Asegúrate de que f(a) * f(b) < 0.\")\n",
    "        print(f\"Error[sin cambio de signo]: f(a) = {f(a)}, f(b) = {f(b)}\")\n",
    "        return None, 0\n",
    "\n",
    "    for n in range(max_iter):\n",
    "        # Verificar si se está dividiendo por cero\n",
    "        try:\n",
    "            c = (a + b) / 2  # Punto medio\n",
    "            fc = f(c)\n",
    "        except ZeroDivisionError:\n",
    "            print(\"Error: División por cero detectada.\")\n",
    "            return None, n\n",
    "\n",
    "        # Criterio de parada\n",
    "        if abs(fc) < tol or (b - a) / 2 < tol:\n",
    "            print(f\"Raíz encontrada en x = {c} después de {n} iteraciones.\")\n",
    "            return c, n\n",
    "\n",
    "        # Verificar si el rango oscila o diverge\n",
    "        if abs(b - a) < tol:  # Rango extremadamente pequeño, posible divergencia\n",
    "            print(\"Error: El rango oscila o diverge.\")\n",
    "            print(f\"Error[el rango oscila o diverge]: a = {a}, b = {b}\")\n",
    "            return None, n\n",
    "\n",
    "        # Elegir el subintervalo que contiene la raíz\n",
    "        if f(a) * fc < 0:\n",
    "            b = c\n",
    "        else:\n",
    "            a = c\n",
    "\n",
    "    # Si se llega al número máximo de iteraciones\n",
    "    print(\"Se alcanzó el número máximo de iteraciones.\")\n",
    "    return (a + b) / 2, max_iter\n"
   ]
  },
  {
   "cell_type": "markdown",
   "metadata": {},
   "source": [
    "#### 1. PARA $a=-2.5$  y  $b=-1$"
   ]
  },
  {
   "cell_type": "code",
   "execution_count": 61,
   "metadata": {},
   "outputs": [
    {
     "name": "stdout",
     "output_type": "stream",
     "text": [
      "Error: el intervalo inicial no es válido. Asegúrate de que f(a) * f(b) < 0.\n",
      "Error[sin cambio de signo]: f(a) = -0.5984721441039564, f(b) = -0.8414709848078965\n",
      "Raíz aproximada: None, encontrada en 0 iteraciones.\n"
     ]
    }
   ],
   "source": [
    "# METODO DE LA BISECCION\n",
    "import math\n",
    "# Definir la función\n",
    "def f(x):\n",
    "    return math.sin(x)\n",
    "\n",
    "# Intervalo inicial\n",
    "a = -2.5\n",
    "b = -1\n",
    "tol=1e-6\n",
    "max_iter=100\n",
    "\n",
    "# Ejecutar el método\n",
    "raiz, iteraciones = biseccion(f, a, b, tol, max_iter)\n",
    "print(f\"Raíz aproximada: {raiz}, encontrada en {iteraciones} iteraciones.\")"
   ]
  },
  {
   "cell_type": "markdown",
   "metadata": {},
   "source": [
    "#### 2. PARA $a=3$  y  $b=5$"
   ]
  },
  {
   "cell_type": "code",
   "execution_count": 62,
   "metadata": {},
   "outputs": [
    {
     "name": "stdout",
     "output_type": "stream",
     "text": [
      "Raíz encontrada en x = 3.141592025756836 después de 19 iteraciones.\n",
      "Raíz aproximada: 3.141592025756836, encontrada en 19 iteraciones.\n"
     ]
    }
   ],
   "source": [
    "# METODO DE LA BISECCION\n",
    "import math\n",
    "# Definir la función\n",
    "def f(x):\n",
    "    return math.sin(x)\n",
    "\n",
    "# Intervalo inicial\n",
    "a = 3\n",
    "b = 5\n",
    "tol=1e-6\n",
    "max_iter=100\n",
    "\n",
    "# Ejecutar el método\n",
    "raiz, iteraciones = biseccion(f, a, b, tol, max_iter)\n",
    "print(f\"Raíz aproximada: {raiz}, encontrada en {iteraciones} iteraciones.\")"
   ]
  },
  {
   "cell_type": "markdown",
   "metadata": {},
   "source": [
    "#### 3. PARA $a=-4$  y  $b=5$"
   ]
  },
  {
   "cell_type": "code",
   "execution_count": 63,
   "metadata": {},
   "outputs": [
    {
     "name": "stdout",
     "output_type": "stream",
     "text": [
      "Raíz encontrada en x = 3.141591787338257 después de 21 iteraciones.\n",
      "Raíz aproximada: 3.141591787338257, encontrada en 21 iteraciones.\n"
     ]
    }
   ],
   "source": [
    "# METODO DE LA BISECCION\n",
    "import math\n",
    "# Definir la función\n",
    "def f(x):\n",
    "    return math.sin(x)\n",
    "\n",
    "# Intervalo inicial\n",
    "a = -4\n",
    "b = 5\n",
    "tol=1e-6\n",
    "max_iter=100\n",
    "\n",
    "# Ejecutar el método\n",
    "raiz, iteraciones = biseccion(f, a, b, tol, max_iter)\n",
    "print(f\"Raíz aproximada: {raiz}, encontrada en {iteraciones} iteraciones.\")"
   ]
  },
  {
   "cell_type": "markdown",
   "metadata": {},
   "source": [
    "#### 4. PARA $a=-1$  y  $b=2$"
   ]
  },
  {
   "cell_type": "code",
   "execution_count": 64,
   "metadata": {},
   "outputs": [
    {
     "name": "stdout",
     "output_type": "stream",
     "text": [
      "Raíz encontrada en x = -9.5367431640625e-07 después de 19 iteraciones.\n",
      "Raíz aproximada: -9.5367431640625e-07, encontrada en 19 iteraciones.\n"
     ]
    }
   ],
   "source": [
    "# METODO DE LA BISECCION\n",
    "import math\n",
    "# Definir la función\n",
    "def f(x):\n",
    "    return math.sin(x)\n",
    "\n",
    "# Intervalo inicial\n",
    "a = -1\n",
    "b = 2\n",
    "tol=1e-6\n",
    "max_iter=100\n",
    "\n",
    "# Ejecutar el método\n",
    "raiz, iteraciones = biseccion(f, a, b, tol, max_iter)\n",
    "print(f\"Raíz aproximada: {raiz}, encontrada en {iteraciones} iteraciones.\")"
   ]
  },
  {
   "cell_type": "markdown",
   "metadata": {},
   "source": [
    "#### 5. PARA $a=-5$  y  $b=4$"
   ]
  },
  {
   "cell_type": "code",
   "execution_count": 65,
   "metadata": {},
   "outputs": [
    {
     "name": "stdout",
     "output_type": "stream",
     "text": [
      "Raíz encontrada en x = -3.141591787338257 después de 21 iteraciones.\n",
      "Raíz aproximada: -3.141591787338257, encontrada en 21 iteraciones.\n"
     ]
    }
   ],
   "source": [
    "# METODO DE LA BISECCION\n",
    "import math\n",
    "# Definir la función\n",
    "def f(x):\n",
    "    return math.sin(x)\n",
    "\n",
    "# Intervalo inicial\n",
    "a = -5\n",
    "b = 4\n",
    "tol=1e-6\n",
    "max_iter=100\n",
    "\n",
    "# Ejecutar el método\n",
    "raiz, iteraciones = biseccion(f, a, b, tol, max_iter)\n",
    "print(f\"Raíz aproximada: {raiz}, encontrada en {iteraciones} iteraciones.\")"
   ]
  },
  {
   "cell_type": "markdown",
   "metadata": {},
   "source": [
    "#### 6. PARA $a=-3.5$  y  $b=3$"
   ]
  },
  {
   "cell_type": "markdown",
   "metadata": {},
   "source": [
    "#### 6. PARA $a=-3.5$  y  $b=3$"
   ]
  },
  {
   "cell_type": "code",
   "execution_count": 66,
   "metadata": {},
   "outputs": [
    {
     "name": "stdout",
     "output_type": "stream",
     "text": [
      "Error: el intervalo inicial no es válido. Asegúrate de que f(a) * f(b) < 0.\n",
      "Error[sin cambio de signo]: f(a) = 0.35078322768961984, f(b) = 0.1411200080598672\n",
      "Raíz aproximada: None, encontrada en 0 iteraciones.\n"
     ]
    }
   ],
   "source": [
    "# METODO DE LA BISECCION\n",
    "import math\n",
    "# Definir la función\n",
    "def f(x):\n",
    "    return math.sin(x)\n",
    "\n",
    "# Intervalo inicial\n",
    "a = -3.5\n",
    "b = 3\n",
    "tol=1e-6\n",
    "max_iter=100\n",
    "\n",
    "# Ejecutar el método\n",
    "raiz, iteraciones = biseccion(f, a, b, tol, max_iter)\n",
    "print(f\"Raíz aproximada: {raiz}, encontrada en {iteraciones} iteraciones.\")"
   ]
  },
  {
   "cell_type": "markdown",
   "metadata": {},
   "source": [
    "______\n",
    "## PREGUNTA CUATRO\n",
    "______\n",
    "El método de Newton para encontrar raíces se basa en la siguiente ecuación:\n",
    "$$\n",
    "x_{n+1} = x_n - \\frac{f(x_n)}{f'(x_n)}\n",
    "$$\n",
    "Cuál es la raíz de la ecuación:\n",
    "$$\n",
    "x^3 + x = 1 + 3x^2\n",
    "$$\n",
    "$$\n",
    "x_{sol}=2.769292662905941\n",
    "$$\n",
    "\n",
    "\n",
    "Para responder esta pregunta, es necesario crear la funcion 'newton_raphson' la cual nos permitiria evaluar en diferentes valores. Donde:"
   ]
  },
  {
   "cell_type": "code",
   "execution_count": 67,
   "metadata": {},
   "outputs": [],
   "source": [
    "import math\n",
    "\n",
    "def newton_raphson(f, df, x0, tol, max_iter):\n",
    "    xn = x0\n",
    "    for n in range(max_iter):\n",
    "        fxn = f(xn)\n",
    "        dfxn = df(xn)\n",
    "        \n",
    "        if abs(fxn) < tol:  # La raíz es suficientemente precisa\n",
    "            print(f\"Raíz encontrada en x = {xn} después de {n} iteraciones.\")\n",
    "            return xn, n\n",
    "        \n",
    "        # Verificar si la derivada es muy pequeña (casi cero)\n",
    "        if abs(dfxn) < 1e-10:\n",
    "            print(f\"Error: Derivada muy pequeña en x = {xn}. No se puede continuar. (Posible división por cero)\")\n",
    "            return None, n\n",
    "        \n",
    "        # Verificar si el valor de xn está oscilando o divergiendo\n",
    "        if n > 0 and abs(xn - prev_xn) > abs(prev_xn):  # Comparar el valor actual con el anterior\n",
    "            print(f\"Error: La secuencia diverge u oscila en la iteración {n}.\")\n",
    "            return None, n\n",
    "        \n",
    "        # Guardar el valor anterior de xn para la comparación en la próxima iteración\n",
    "        prev_xn = xn\n",
    "        \n",
    "        # Actualizar el valor de xn usando la fórmula de Newton\n",
    "        xn = xn - fxn / dfxn\n",
    "    \n",
    "    # Si se alcanzó el número máximo de iteraciones sin converger\n",
    "    print(\"Se alcanzó el número máximo de iteraciones.\")\n",
    "    return xn, max_iter\n"
   ]
  },
  {
   "cell_type": "markdown",
   "metadata": {},
   "source": [
    "#### 1. PARA $x_0= 3$ "
   ]
  },
  {
   "cell_type": "code",
   "execution_count": 68,
   "metadata": {},
   "outputs": [
    {
     "name": "stdout",
     "output_type": "stream",
     "text": [
      "Raíz encontrada en x = 2.769292662905941 después de 3 iteraciones.\n",
      "Raíz aproximada: 2.769292662905941, encontrada en 3 iteraciones.\n"
     ]
    }
   ],
   "source": [
    "def f(x):\n",
    "    return x**3-3*x**2+x-1\n",
    "\n",
    "def df(x):\n",
    "    return 3*x**2-6*x+1\n",
    "\n",
    "# Aproximación inicial\n",
    "x0 = 3\n",
    "tol=1e-5\n",
    "max_iter=100\n",
    "# Ejecutar el método\n",
    "raiz, iteraciones = newton_raphson(f, df, x0, tol, max_iter)\n",
    "print(f\"Raíz aproximada: {raiz}, encontrada en {iteraciones} iteraciones.\")"
   ]
  },
  {
   "cell_type": "markdown",
   "metadata": {},
   "source": [
    "#### 2. PARA $x_0= 1$ "
   ]
  },
  {
   "cell_type": "code",
   "execution_count": 69,
   "metadata": {},
   "outputs": [
    {
     "name": "stdout",
     "output_type": "stream",
     "text": [
      "Error: La secuencia diverge u oscila en la iteración 2.\n",
      "Raíz aproximada: None, encontrada en 2 iteraciones.\n"
     ]
    }
   ],
   "source": [
    "def f(x):\n",
    "    return x**3-3*x**2+x-1\n",
    "\n",
    "def df(x):\n",
    "    return 3*x**2-6*x+1\n",
    "\n",
    "# Aproximación inicial\n",
    "x0 = 1\n",
    "tol=1e-5\n",
    "max_iter=100\n",
    "# Ejecutar el método\n",
    "raiz, iteraciones = newton_raphson(f, df, x0, tol, max_iter)\n",
    "print(f\"Raíz aproximada: {raiz}, encontrada en {iteraciones} iteraciones.\")"
   ]
  },
  {
   "cell_type": "markdown",
   "metadata": {},
   "source": [
    "#### 3. PARA $x_0= 0$ "
   ]
  },
  {
   "cell_type": "code",
   "execution_count": 70,
   "metadata": {},
   "outputs": [
    {
     "name": "stdout",
     "output_type": "stream",
     "text": [
      "Error: La secuencia diverge u oscila en la iteración 1.\n",
      "Raíz aproximada: None, encontrada en 1 iteraciones.\n"
     ]
    }
   ],
   "source": [
    "def f(x):\n",
    "    return x**3-3*x**2+x-1\n",
    "\n",
    "def df(x):\n",
    "    return 3*x**2-6*x+1\n",
    "\n",
    "# Aproximación inicial\n",
    "x0 = 0\n",
    "tol=1e-5\n",
    "max_iter=100\n",
    "# Ejecutar el método\n",
    "raiz, iteraciones = newton_raphson(f, df, x0, tol, max_iter)\n",
    "print(f\"Raíz aproximada: {raiz}, encontrada en {iteraciones} iteraciones.\")"
   ]
  },
  {
   "cell_type": "markdown",
   "metadata": {},
   "source": [
    "#### 4. PARA $x_0= 1+(\\frac{{6}}{{3}})^{\\frac{{1}}{{2}}}$ "
   ]
  },
  {
   "cell_type": "code",
   "execution_count": 71,
   "metadata": {},
   "outputs": [
    {
     "name": "stdout",
     "output_type": "stream",
     "text": [
      "Raíz encontrada en x = 2.7692923647622814 después de 4 iteraciones.\n",
      "Raíz aproximada: 2.7692923647622814, encontrada en 4 iteraciones.\n"
     ]
    }
   ],
   "source": [
    "def f(x):\n",
    "    return x**3 - 3*x**2 + x - 1\n",
    "\n",
    "def df(x):\n",
    "    return 3*x**2 - 6*x + 1\n",
    "\n",
    "# Aproximación inicial\n",
    "x0 = 1 + (6/3)**0.5  # Corregir el uso de ^ a **\n",
    "tol = 1e-5\n",
    "max_iter = 100\n",
    "\n",
    "# Ejecutar el método\n",
    "raiz, iteraciones = newton_raphson(f, df, x0, tol, max_iter)\n",
    "print(f\"Raíz aproximada: {raiz}, encontrada en {iteraciones} iteraciones.\")\n"
   ]
  },
  {
   "cell_type": "markdown",
   "metadata": {},
   "source": [
    "______\n",
    "## PREGUNTA CINCO\n",
    "______\n",
    "El método de la Secante se basa en la siguiente fórmula: \n",
    "$$\n",
    "x_n = x_{n-1} - \\frac{y_{n-1}(x_{n-1} - x_{n-2})}{y_{n-1} - y_{n-2}}\n",
    "$$\n",
    "En base a esta fórmula, se ha generado el siguiente código. "
   ]
  },
  {
   "cell_type": "code",
   "execution_count": 72,
   "metadata": {},
   "outputs": [],
   "source": [
    "def secant_method(f, x0, x1, tol=1e-6, max_iter=100):\n",
    "    x_prev = x0\n",
    "    x_curr = x1\n",
    "    f_prev = f(x_prev)\n",
    "    f_curr = f(x_curr)\n",
    "    iter_count = 0\n",
    "\n",
    "    while abs(f_curr) > tol and iter_count < max_iter:\n",
    "        x_next = x_curr - f_curr * (x_curr - x_prev) / (f_curr - f_prev)\n",
    "\n",
    "        x_prev, x_curr = x_curr, x_next\n",
    "        f_prev, f_curr = f_curr, f(x_next)\n",
    "        iter_count += 1\n",
    "\n",
    "    return x_curr, iter_count\n"
   ]
  },
  {
   "cell_type": "markdown",
   "metadata": {},
   "source": []
  },
  {
   "cell_type": "markdown",
   "metadata": {},
   "source": [
    "#### EJEMPLO UNO"
   ]
  },
  {
   "cell_type": "code",
   "execution_count": 73,
   "metadata": {},
   "outputs": [
    {
     "name": "stdout",
     "output_type": "stream",
     "text": [
      "Llamada i=1\t x=2.00000\t y=-3.00\n",
      "Llamada i=2\t x=3.00000\t y=2.00\n",
      "Llamada i=3\t x=2.60000\t y=-1.10\n",
      "Llamada i=4\t x=2.74227\t y=-0.20\n",
      "Llamada i=5\t x=2.77296\t y=0.03\n",
      "Llamada i=6\t x=2.76922\t y=-0.00\n",
      "Llamada i=7\t x=2.76929\t y=-0.00\n",
      "Llamada i=8\t x=2.76929\t y=0.00\n",
      "\n",
      "Raíz encontrada: 2.769292\n"
     ]
    }
   ],
   "source": [
    "i = 0\n",
    "\n",
    "def func(x):\n",
    "    global i\n",
    "    i += 1\n",
    "    y = x**3 - 3 * x**2 + x - 1\n",
    "    print(f\"Llamada i={i}\\t x={x:.5f}\\t y={y:.2f}\")\n",
    "    return y\n",
    "\n",
    "root, iterations = secant_method(func, x0=2, x1=3)\n",
    "\n",
    "print(f\"\\nRaíz encontrada: {root:.6f}\")"
   ]
  },
  {
   "cell_type": "markdown",
   "metadata": {},
   "source": [
    "#### EJEMPLO DOS"
   ]
  },
  {
   "cell_type": "code",
   "execution_count": 74,
   "metadata": {},
   "outputs": [
    {
     "name": "stdout",
     "output_type": "stream",
     "text": [
      "Llamada i=1\t x=2.00000\t y=1.41\n",
      "Llamada i=2\t x=3.00000\t y=0.64\n",
      "Llamada i=3\t x=3.83460\t y=-0.14\n",
      "Llamada i=4\t x=3.68602\t y=-0.02\n",
      "Llamada i=5\t x=3.66399\t y=0.00\n",
      "Llamada i=6\t x=3.66520\t y=-0.00\n",
      "Llamada i=7\t x=3.66519\t y=-0.00\n"
     ]
    },
    {
     "data": {
      "text/plain": [
       "(3.66519143172732, 5)"
      ]
     },
     "execution_count": 74,
     "metadata": {},
     "output_type": "execute_result"
    }
   ],
   "source": [
    "i=0\n",
    "def func(x):\n",
    "    global i\n",
    "    i += 1\n",
    "    y = math.sin(x) + 0.5\n",
    "    print(f\"Llamada i={i}\\t x={x:.5f}\\t y={y:.2f}\")\n",
    "    return y\n",
    "\n",
    "\n",
    "secant_method(func, x0=2, x1=3)"
   ]
  },
  {
   "cell_type": "markdown",
   "metadata": {},
   "source": [
    "Luego de optimizar el código y utilizando $x_0=2, x_1=3$, conteste:\n",
    "\n",
    "¿Cuál es el número mínimo de llamadas a la función para llegar a la raíz en el Ejemplo 1?\n",
    "\n",
    "Utilizo 8 llamadas\n",
    "\n",
    "¿Cuál es el número mínimo de llamadas a la función para llegar a la raíz en el Ejemplo 2?\n",
    "\n",
    "Utilizo 7 llamadas"
   ]
  },
  {
   "cell_type": "markdown",
   "metadata": {},
   "source": [
    "______\n",
    "## EJERCICIO SEIS\n",
    "______\n",
    "Dados los puntos (−1,1),(0,5),(1,3), se ha obtenido los splines cúbicos correspondientes. Sin embargo, al observar la figura, usted no se siente satisfecho con la pendiente resultante en el punto (x1,y1). Y decide intentar una modificación a las ecuaciones, tal que los splines sean tangentes a una pendiente deseada en el punto (x1,y1).\n",
    "\n",
    "¿En caso de ser posible, y bajo qué condiciones se puede encontrar los splines cúbicos que cumplan con la condición de m?"
   ]
  },
  {
   "cell_type": "code",
   "execution_count": 75,
   "metadata": {},
   "outputs": [
    {
     "data": {
      "image/png": "[encoded data removed]",
      "text/plain": [
       "<Figure size 640x480 with 1 Axes>"
      ]
     },
     "metadata": {},
     "output_type": "display_data"
    }
   ],
   "source": [
    "def Spline(x: float, x0: float, pars: dict[str, float]) -> float:\n",
    "    a = pars[\"a\"]\n",
    "    b = pars[\"b\"]\n",
    "    c = pars[\"c\"]\n",
    "    d = pars[\"d\"]\n",
    "    return a + b * (x - x0) + c * (x - x0) ** 2 + d * (x - x0) ** 3\n",
    "\n",
    "import matplotlib.pyplot as plt\n",
    "import numpy as np\n",
    "\n",
    "xs = [-1, 0, 1]\n",
    "ys = [1, 5, 3]\n",
    "s = [\n",
    "    {\"a\": 1, \"b\": 7, \"c\": 0, \"d\": -3},\n",
    "    {\"a\": 5, \"b\": -2, \"c\": 0, \"d\": 0},\n",
    "]\n",
    "for i, x_i in enumerate(xs[:-1]):\n",
    "    _x = np.linspace(x_i, xs[i + 1], 20)\n",
    "    _y = Spline(_x, x_i, s[i])\n",
    "    plt.plot(_x, _y, color=\"red\")\n",
    "\n",
    "plt.scatter(xs, ys)\n",
    "plt.xlabel(\"x\")\n",
    "plt.ylabel(\"y\")\n",
    "plt.title(\"Splines cúbicos\")\n",
    "plt.show()"
   ]
  },
  {
   "cell_type": "markdown",
   "metadata": {},
   "source": [
    "#### SPINES SOLUCIÓN\n",
    "\n",
    "$$\n",
    " S_0(x) = 1 + 7 \\cdot (x + 1) + 0 \\cdot (x + 1)^2 - 3 \\cdot (x + 1)^ 3 \n",
    "$$\n",
    "\n",
    "$$\n",
    "S_1(x) = 5 - 2 \\cdot (x) + 0 \\cdot (x)^2 + 0 \\cdot (x)^3\n",
    "$$"
   ]
  },
  {
   "cell_type": "markdown",
   "metadata": {},
   "source": [
    "______\n",
    "## EJERCICIO SIETE\n",
    "______\n",
    "La interpolación de un conjunto de puntos usando polinomios de Lagrange P(x) está dada por la fórmula: \n",
    "$$\n",
    "P(x) = \\sum_{k=0}^{n} f(x_k) L_k(x)\n",
    "$$\n",
    "Donde:\n",
    "$$\n",
    "L_k(x) = \\prod_{i=0, i \\neq k}^{n} \\frac{x-x_i}{x_k-x_i}\n",
    "$$\n",
    "Dados los puntos (0,0),(1,1),(2,2),(3,3). El polinomio resultante simplificado tiene orden:\n",
    "\n",
    "Evaluación de Lₖ(x) para cada k\n",
    "Para k = 0\n",
    "$$ L_0(x) = \\frac{(x - x_1) (x - x_2) (x - x_3)}{(x_0 - x_1) (x_0 - x_2) (x_0 - x_3)} $$\n",
    "\n",
    "Sustituyendo los valores x₀ = 0, x₁ = 1, x₂ = 2, x₃ = 3:\n",
    "\n",
    "$$ L_0(x) = \\frac{(x - 1) (x - 2) (x - 3)}{(-1) (-2) (-3)} = \\frac{(x - 1) (x - 2) (x - 3)}{-6} $$\n",
    "\n",
    "Para k = 1\n",
    "$$ L_1(x) = \\frac{(x - x_0) (x - x_2) (x - x_3)}{(x_1 - x_0) (x_1 - x_2) (x_1 - x_3)} $$\n",
    "\n",
    "$$ L_1(x) = \\frac{(x - 0) (x - 2) (x - 3)}{(1 - 0) (1 - 2) (1 - 3)} = \\frac{x (x - 2) (x - 3)}{2} $$\n",
    "\n",
    "Para k = 2\n",
    "$$ L_2(x) = \\frac{(x - x_0) (x - x_1) (x - x_3)}{(x_2 - x_0) (x_2 - x_1) (x_2 - x_3)} $$\n",
    "\n",
    "$$ L_2(x) = \\frac{(x - 0) (x - 1) (x - 3)}{(2 - 0) (2 - 1) (2 - 3)} = \\frac{x (x - 1) (x - 3)}{-2} $$\n",
    "\n",
    "Para k = 3\n",
    "$$ L_3(x) = \\frac{(x - x_0) (x - x_1) (x - x_2)}{(x_3 - x_0) (x_3 - x_1) (x_3 - x_2)} $$\n",
    "\n",
    "$$ L_3(x) = \\frac{(x - 0) (x - 1) (x - 2)}{(3 - 0) (3 - 1) (3 - 2)} = \\frac{x (x - 1) (x - 2)}{6} $$\n",
    "\n",
    "Construcción del polinomio P(x)\n",
    "$$ P(x) = \\sum_{k=0}^{3} f(x_k) L_k(x) $$\n",
    "\n",
    "$$ P(x) = f(0) L_0(x) + f(1) L_1(x) + f(2) L_2(x) + f(3) L_3(x) $$\n",
    "\n",
    "$$ P(x) = 0 L_0(x) + 1 L_1(x) + 2 L_2(x) + 3 L_3(x) $$\n",
    "\n",
    "$$ P(x) = L_1(x) + 2 L_2(x) + 3 L_3(x) $$\n",
    "\n",
    "$$ P(x) = \\frac{x (x - 2) (x - 3)}{2} + 2 \\frac{x (x - 1) (x - 3)}{-2} + 3 \\frac{x (x - 1) (x - 2)}{6} $$\n",
    "\n",
    "$$ P(x) = x $$\n",
    "\n",
    "Resultado\n",
    "El polinomio resultante simplificado tiene orden = 1.\n",
    "Usando el polinomio P(x) que obtuvo de respuesta, calcule:\n",
    "\n",
    "$P(x=3.78)= 3.78$\n",
    "\n",
    "$P(x=19.102)= 19.102$\n",
    " "
   ]
  },
  {
   "cell_type": "markdown",
   "metadata": {},
   "source": [
    "______\n",
    "## EJERCICIO OCHO\n",
    "______\n",
    "Dados los puntos (-1,1) y (1,3), determine el spline cúbico teniendo en cuenta que f′(x₀) = 1 y f′(xₙ) = 2.\n",
    "\n",
    "1. Valor del spline en x₀ = -1\n",
    "$$ S(-1) = a + b(-1 - (-1)) + c(-1 - (-1))^2 + d(-1 - (-1))^3 = 1 $$\n",
    "\n",
    "Esto da:\n",
    "\n",
    "$$ a = 1 $$\n",
    "\n",
    "2. Derivada del spline en x₀ = -1\n",
    "$$ S'(-1) = b + 2c(-1 - (-1)) + 3d(-1 - (-1))^2 = 1 $$\n",
    "\n",
    "Esto da:\n",
    "\n",
    "$$ b = 1 $$\n",
    "\n",
    "3. Valor del spline en xₙ = 1\n",
    "$$ S(1) = a + b(1 - (-1)) + c(1 - (-1))^2 + d(1 - (-1))^3 = 3 $$\n",
    "\n",
    "Resolviendo el sistema\n",
    "\n",
    "$$\n",
    "( a = 1 )\n",
    "$$\n",
    "$$\n",
    "( b = 1 )\n",
    "$$\n",
    "$$\n",
    "(c = - \\frac{{1}}{{2}})\n",
    "$$\n",
    "$$\n",
    "( d = \\frac{{1}}{{4}})\n",
    "$$\n",
    "Fórmula final del spline cúbico\n",
    "$$ S(x) = 1 + (x + 1) - \\frac{1}{2}(x + 1)^2 + \\frac{1}{4}(x + 1)^3 $$"
   ]
  },
  {
   "cell_type": "markdown",
   "metadata": {},
   "source": []
  }
 ],
 "metadata": {
  "kernelspec": {
   "display_name": "Python 3",
   "language": "python",
   "name": "python3"
  },
  "language_info": {
   "codemirror_mode": {
    "name": "ipython",
    "version": 3
   },
   "file_extension": ".py",
   "mimetype": "text/x-python",
   "name": "python",
   "nbconvert_exporter": "python",
   "pygments_lexer": "ipython3",
   "version": "3.13.0"
  }
 },
 "nbformat": 4,
 "nbformat_minor": 2
}
