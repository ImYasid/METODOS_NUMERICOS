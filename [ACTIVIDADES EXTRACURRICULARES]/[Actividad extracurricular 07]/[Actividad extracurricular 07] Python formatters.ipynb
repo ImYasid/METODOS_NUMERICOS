{
 "cells": [
  {
   "cell_type": "markdown",
   "metadata": {},
   "source": [
    "# [Actividad extracurricular 07] Python formatters\n",
    "Para esta actividad extracurricular, se debe probar diferentes tipos de formatters en Python usando VSCode. Adicional, para completar exitosamente la actividad, es necesario utilizar las siguientes herramientas:\n",
    "- Black\n",
    "- Autopep8\n",
    "- YAPF\n",
    "- Ruff\n",
    "\n",
    "Para ello, en primera instancia se comenzará con la instalación de las herramientas."
   ]
  },
  {
   "cell_type": "markdown",
   "metadata": {},
   "source": [
    "### INSTALACIÓN Y USO DE LOS FORMATTERS\n",
    "Para instalarlo los direntes formatters, es necesario desde la terminal ejecutar los siguientes comandos:\n",
    "\n",
    "pip install black              \n",
    "pip install autopep8           \n",
    "pip install yapf                \n",
    "pip install ruff                \n",
    "\n",
    "Una vez instalados, para poder usarlos se debe acceder desde la terminal y ejecutar los siguientes comandos:\n",
    "\n",
    "black tu_archivo.py <br>\n",
    "autopep8 --in-place tu_archivo.py <br>\n",
    "yapf -i tu_archivo.py <br>\n",
    "ruff --fix tu_archivo.py <br>\n",
    "\n",
    "Una vez ejecutados, los formatters generarán los archivos modificados estructuralmente."
   ]
  },
  {
   "cell_type": "markdown",
   "metadata": {},
   "source": [
    "### EJECUCIÓN"
   ]
  },
  {
   "cell_type": "markdown",
   "metadata": {},
   "source": [
    "<div style=\"text-align: center;\">\n",
    "    <img src=\"Ejecucion.png\" alt=\"Ejecución\" style=\"width:50%;\"/>\n",
    "</div>\n"
   ]
  },
  {
   "cell_type": "markdown",
   "metadata": {},
   "source": []
  }
 ],
 "metadata": {
  "language_info": {
   "name": "python"
  }
 },
 "nbformat": 4,
 "nbformat_minor": 2
}
