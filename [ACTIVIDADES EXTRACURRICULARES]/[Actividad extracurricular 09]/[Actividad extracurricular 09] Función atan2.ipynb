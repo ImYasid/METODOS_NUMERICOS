{
 "cells": [
  {
   "cell_type": "markdown",
   "metadata": {},
   "source": [
    "# [Actividad extracurricular 09] Función atan2\n",
    "La función `atan2` es una extensión de la función arcotangente (`atan`) que calcula el ángulo en radianes correspondiente a un punto en el plano cartesiano (x, y). A diferencia de `atan(y / x)`, `atan2` considera el signo de ambos argumentos (x y y) para determinar el cuadrante correcto del ángulo, proporcionando un resultado en el rango $[-\\pi, \\pi]$.\n",
    "\n",
    "Para su uso en python es necesario importar la libreria math y la siguiente sintaxis:\n"
   ]
  },
  {
   "cell_type": "code",
   "execution_count": 5,
   "metadata": {},
   "outputs": [
    {
     "data": {
      "text/plain": [
       "-2.5535900500422257"
      ]
     },
     "execution_count": 5,
     "metadata": {},
     "output_type": "execute_result"
    }
   ],
   "source": [
    "import math\n",
    "\n",
    "math.atan2(y, x)"
   ]
  },
  {
   "cell_type": "markdown",
   "metadata": {},
   "source": [
    "#### **¿Por qué se recomienda usar la función atan2?**\n",
    "- **Manejo de todos los cuadrantes**: `atan2` calcula el ángulo correctamente para cualquier combinación de signos de `x` y `y`, ubicando el ángulo en el cuadrante correcto.\n",
    "\n",
    "- **Evita divisiones por cero**: No requiere dividir `y` entre `x` explícitamente, evitando errores o excepciones cuando `x = 0`.\n",
    "\n",
    "- **Mayor precisión**: Es más precisa que realizar una división manual seguida de `atan`, ya que aprovecha optimizaciones internas.\n",
    "\n",
    "- **Resultados en un rango completo**: Retorna ángulos en el rango $[-\\pi, \\pi]$, a diferencia de `atan`, que devuelve valores en el rango $[-\\pi/2, \\pi/2]$.\n",
    "#### **Diferencias entre función atan y atan2.** \n",
    "<div align=\"center\">\n",
    "\n",
    "| **Característica**           | **atan(y/x)**                                 | **atan2(y, x)**                              |\n",
    "|-------------------------------|-----------------------------------------------|---------------------------------------------|\n",
    "| **Parámetros**               | Una relación \\(y/x\\)                          | Dos valores (\\(y\\), \\(x\\))                  |\n",
    "| **Rango de salida**          | \\([-π/2, π/2]\\)                               | \\([-π, π]\\)                                 |\n",
    "| **Cuadrantes soportados**    | Solo considera el ángulo en el 1er y 4to cuadrante | Identifica los 4 cuadrantes                 |\n",
    "| **Manejo de división por cero** | Puede lanzar un error si \\(x = 0\\)             | No hay errores, maneja \\(x = 0\\)            |\n",
    "| **Usabilidad**               | Menos común en problemas geométricos          | Amplia utilidad en geometría                |\n",
    "\n",
    "</div>\n",
    "\n"
   ]
  },
  {
   "cell_type": "markdown",
   "metadata": {},
   "source": [
    "#### **EJEMPLOS**"
   ]
  },
  {
   "cell_type": "code",
   "execution_count": 11,
   "metadata": {},
   "outputs": [
    {
     "name": "stdout",
     "output_type": "stream",
     "text": [
      "Ejemplo 1: Primer cuadrante\n",
      "atan(y/x): 0.5880026035475675 radianes\n",
      "atan2(y, x): 0.5880026035475675 radianes\n",
      "\n"
     ]
    }
   ],
   "source": [
    "# Ejemplo 1: Diferencia entre atan y atan2 en el primer cuadrante\n",
    "y, x = 2, 3\n",
    "angle_atan = math.atan(y / x)  # Usamos atan con la relación y/x\n",
    "angle_atan2 = math.atan2(y, x)  # Usamos atan2 directamente con y y x\n",
    "\n",
    "print(f\"Ejemplo 1: Primer cuadrante\")\n",
    "print(f\"atan(y/x): {angle_atan} radianes\")\n",
    "print(f\"atan2(y, x): {angle_atan2} radianes\\n\")"
   ]
  },
  {
   "cell_type": "markdown",
   "metadata": {},
   "source": [
    "**Análisis**: En este caso, tanto `atan` como `atan2` proporcionan el mismo resultado, ya que estamos en el primer cuadrante, donde tanto $x$ como $y$ son positivos. Ambas funciones manejan correctamente esta situación.\n"
   ]
  },
  {
   "cell_type": "code",
   "execution_count": 7,
   "metadata": {},
   "outputs": [
    {
     "name": "stdout",
     "output_type": "stream",
     "text": [
      "Ejemplo 2: Segundo cuadrante\n",
      "atan(y/x): -0.5880026035475675 radianes\n",
      "atan2(y, x): 2.5535900500422257 radianes\n",
      "\n"
     ]
    }
   ],
   "source": [
    "# Ejemplo 2: Diferencia entre atan y atan2 en el segundo cuadrante\n",
    "y, x = 2, -3\n",
    "angle_atan = math.atan(y / x)  # Usamos atan con la relación y/x\n",
    "angle_atan2 = math.atan2(y, x)  # Usamos atan2 directamente con y y x\n",
    "\n",
    "print(f\"Ejemplo 2: Segundo cuadrante\")\n",
    "print(f\"atan(y/x): {angle_atan} radianes\")\n",
    "print(f\"atan2(y, x): {angle_atan2} radianes\\n\")"
   ]
  },
  {
   "cell_type": "markdown",
   "metadata": {},
   "source": [
    "**Análisis**: Aquí, `atan` no puede distinguir que estamos en el segundo cuadrante, ya que solo toma en cuenta la relación $y/x$ y devuelve un valor en el primer o cuarto cuadrante (negativo en este caso). Sin embargo, `atan2` maneja correctamente la señal de $x$ y $y$, proporcionando el ángulo en el segundo cuadrante (aproximadamente 146.3°).\n"
   ]
  },
  {
   "cell_type": "code",
   "execution_count": 8,
   "metadata": {},
   "outputs": [
    {
     "name": "stdout",
     "output_type": "stream",
     "text": [
      "Ejemplo 3: Tercer cuadrante\n",
      "atan(y/x): 0.5880026035475675 radianes\n",
      "atan2(y, x): -2.5535900500422257 radianes\n",
      "\n"
     ]
    }
   ],
   "source": [
    "# Ejemplo 3: Diferencia entre atan y atan2 en el tercer cuadrante\n",
    "y, x = -2, -3\n",
    "angle_atan = math.atan(y / x)  # Usamos atan con la relación y/x\n",
    "angle_atan2 = math.atan2(y, x)  # Usamos atan2 directamente con y y x\n",
    "\n",
    "print(f\"Ejemplo 3: Tercer cuadrante\")\n",
    "print(f\"atan(y/x): {angle_atan} radianes\")\n",
    "print(f\"atan2(y, x): {angle_atan2} radianes\\n\")\n"
   ]
  },
  {
   "cell_type": "markdown",
   "metadata": {},
   "source": [
    "**Análisis**: En el tercer cuadrante, `atan` nuevamente no puede diferenciar entre $x$ y $y$ siendo negativos. Esto resulta en un valor positivo de $0.588$ radianes, que no es correcto para este cuadrante. Por otro lado, `atan2` devuelve el ángulo correcto para el tercer cuadrante, con un valor negativo de $-2.554$ radianes (aproximadamente $-146.3^\\circ$).\n"
   ]
  },
  {
   "cell_type": "code",
   "execution_count": 9,
   "metadata": {},
   "outputs": [
    {
     "name": "stdout",
     "output_type": "stream",
     "text": [
      "Ejemplo 4: Cuarto cuadrante\n",
      "atan(y/x): -0.5880026035475675 radianes\n",
      "atan2(y, x): -0.5880026035475675 radianes\n",
      "\n"
     ]
    }
   ],
   "source": [
    "# Ejemplo 4: Diferencia entre atan y atan2 en el cuarto cuadrante\n",
    "y, x = -2, 3\n",
    "angle_atan = math.atan(y / x)  # Usamos atan con la relación y/x\n",
    "angle_atan2 = math.atan2(y, x)  # Usamos atan2 directamente con y y x\n",
    "\n",
    "print(f\"Ejemplo 4: Cuarto cuadrante\")\n",
    "print(f\"atan(y/x): {angle_atan} radianes\")\n",
    "print(f\"atan2(y, x): {angle_atan2} radianes\\n\")"
   ]
  },
  {
   "cell_type": "markdown",
   "metadata": {},
   "source": [
    "**Análisis**: Aquí, tanto `atan` como `atan2` devuelven el mismo resultado porque estamos en el cuarto cuadrante, donde $x > 0$ y $y < 0$, y ambos métodos correctamente determinan un ángulo negativo (aproximadamente $-33.7^\\circ$).\n"
   ]
  },
  {
   "cell_type": "code",
   "execution_count": 10,
   "metadata": {},
   "outputs": [
    {
     "name": "stdout",
     "output_type": "stream",
     "text": [
      "Ejemplo 5: Caso con x = 0\n",
      "atan(y/x): Error - División por cero\n",
      "atan2(y, x): 1.5707963267948966 radianes\n",
      "\n"
     ]
    }
   ],
   "source": [
    "# Ejemplo 5: Caso especial con x = 0\n",
    "y, x = 5, 0\n",
    "# En este caso, no intentamos dividir por 0, ya que atan no lo permite\n",
    "# Se maneja la condición para evitar el error de división por cero en atan\n",
    "try:\n",
    "    angle_atan = math.atan(y / x)  # Esto fallará si x es 0\n",
    "except ZeroDivisionError:\n",
    "    angle_atan = \"Error - División por cero\"\n",
    "    \n",
    "angle_atan2 = math.atan2(y, x)  # atan2 maneja este caso correctamente\n",
    "\n",
    "print(f\"Ejemplo 5: Caso con x = 0\")\n",
    "print(f\"atan(y/x): {angle_atan}\")\n",
    "print(f\"atan2(y, x): {angle_atan2} radianes\\n\")"
   ]
  },
  {
   "cell_type": "markdown",
   "metadata": {},
   "source": [
    "**Análisis**: Como se esperaba, cuando $x = 0$, `atan` no puede calcular el ángulo debido a la división por cero. En cambio, `atan2` maneja correctamente esta situación y devuelve $\\pi/2$ radianes ($90^\\circ$) cuando $y > 0$. Esto muestra la ventaja de `atan2`, que está diseñada para manejar casos donde $x = 0$.\n"
   ]
  }
 ],
 "metadata": {
  "kernelspec": {
   "display_name": "Python 3",
   "language": "python",
   "name": "python3"
  },
  "language_info": {
   "codemirror_mode": {
    "name": "ipython",
    "version": 3
   },
   "file_extension": ".py",
   "mimetype": "text/x-python",
   "name": "python",
   "nbconvert_exporter": "python",
   "pygments_lexer": "ipython3",
   "version": "3.13.0"
  }
 },
 "nbformat": 4,
 "nbformat_minor": 2
}
