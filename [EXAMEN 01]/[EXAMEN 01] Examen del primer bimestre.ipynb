{
 "cells": [
  {
   "cell_type": "markdown",
   "metadata": {},
   "source": [
    "# EXAMEN"
   ]
  },
  {
   "cell_type": "code",
   "execution_count": 28,
   "metadata": {},
   "outputs": [],
   "source": [
    "def secant_method(f, x0, x1, tol=1e-6, max_iter=25):\n",
    "    \"\"\"\n",
    "    Secant method for finding the root of a function.\n",
    "\n",
    "    # Parameters\n",
    "    * ``f``: The function for which to find the root.\n",
    "    * ``x0``, x1: Initial guesses for the root.\n",
    "    * ``tol``: Tolerance for convergence (default: 1e-6).\n",
    "    * ``max_iter``: Maximum number of iterations (default: 25).\n",
    "\n",
    "    # Returns\n",
    "    * ``x_curr`` The approximate root of the function.\n",
    "    * ``iter_count`` The number of iterations taken.\n",
    "    \"\"\"\n",
    "    x_prev = x0\n",
    "    x_curr = x1\n",
    "    iter_count = 0\n",
    "    prev_x = None \n",
    "    \n",
    "    while abs(f(x_curr)) > tol and iter_count < max_iter:\n",
    "        x_next = x_curr - f(x_curr) * (x_curr - x_prev) / (f(x_curr) - f(x_prev))\n",
    "        \n",
    "        if prev_x is None or abs(x_curr - prev_x) > tol:\n",
    "            print(f\"Llamada i={iter_count+1}\\t x={x_curr:.5f}\\t y={f(x_curr):.2f}\")\n",
    "            prev_x = x_curr \n",
    "        x_prev = x_curr\n",
    "        x_curr = x_next\n",
    "        iter_count += 1\n",
    "\n",
    "    return x_curr, iter_count\n",
    "\n"
   ]
  },
  {
   "cell_type": "markdown",
   "metadata": {},
   "source": [
    "## EJEMPLO UNO"
   ]
  },
  {
   "cell_type": "code",
   "execution_count": 29,
   "metadata": {},
   "outputs": [
    {
     "name": "stdout",
     "output_type": "stream",
     "text": [
      "Llamada i=1\t x=3.00000\t y=2.00\n",
      "Llamada i=2\t x=2.60000\t y=-1.10\n",
      "Llamada i=3\t x=2.74227\t y=-0.20\n",
      "Llamada i=4\t x=2.77296\t y=0.03\n",
      "Llamada i=5\t x=2.76922\t y=-0.00\n",
      "Llamada i=6\t x=2.76929\t y=-0.00\n"
     ]
    },
    {
     "data": {
      "text/plain": [
       "(2.7692923542484045, 6)"
      ]
     },
     "execution_count": 29,
     "metadata": {},
     "output_type": "execute_result"
    }
   ],
   "source": [
    "# Global counter\n",
    "i = 0\n",
    "\n",
    "# Define the function to be used\n",
    "def func(x):\n",
    "    global i\n",
    "    i += 1\n",
    "    y = x**3 - 3 * x**2 + x - 1\n",
    "    return y\n",
    "\n",
    "# Call the secant method\n",
    "secant_method(func, x0=2, x1=3)"
   ]
  },
  {
   "cell_type": "markdown",
   "metadata": {},
   "source": [
    "## EJERCICIO DOS"
   ]
  },
  {
   "cell_type": "code",
   "execution_count": 32,
   "metadata": {},
   "outputs": [
    {
     "name": "stdout",
     "output_type": "stream",
     "text": [
      "Llamada i=1\t x=3.00000\t y=0.64\n",
      "Llamada i=2\t x=3.83460\t y=-0.14\n",
      "Llamada i=3\t x=3.68602\t y=-0.02\n",
      "Llamada i=4\t x=3.66399\t y=0.00\n",
      "Llamada i=5\t x=3.66520\t y=-0.00\n"
     ]
    },
    {
     "data": {
      "text/plain": [
       "(3.66519143172732, 5)"
      ]
     },
     "execution_count": 32,
     "metadata": {},
     "output_type": "execute_result"
    }
   ],
   "source": [
    "i = 0\n",
    "\n",
    "def func(x):\n",
    "    global i\n",
    "    i += 1\n",
    "    y = math.sin(x) + 0.5\n",
    "    return y\n",
    "\n",
    "secant_method(func, x0=2, x1=3)"
   ]
  },
  {
   "cell_type": "markdown",
   "metadata": {},
   "source": [
    "## SPLINES CUBICOS"
   ]
  },
  {
   "cell_type": "code",
   "execution_count": null,
   "metadata": {},
   "outputs": [],
   "source": [
    "import sympy as sym\n",
    "from IPython.display import display\n",
    "from typing import List\n",
    "\n",
    "def cubic_spline(xs: List[float], ys: List[float]) -> List[sym.Expr]:\n",
    "    if len(xs) != len(ys):\n",
    "        raise ValueError(\"Las listas xs e ys deben tener la misma longitud.\")\n",
    "    \n",
    "    # Ordenar puntos por sus coordenadas x\n",
    "    points = sorted(zip(xs, ys), key=lambda x: x[0])  \n",
    "    xs = [x for x, _ in points]\n",
    "    ys = [y for _, y in points]\n",
    "    \n",
    "    n = len(points) - 1  # Número de intervalos\n",
    "    h = [xs[i + 1] - xs[i] for i in range(n)]  # Distancias entre puntos consecutivos\n",
    "    \n",
    "    # Cálculo de los coeficientes alpha\n",
    "    alpha = [0] * (n + 1)\n",
    "    for i in range(1, n):\n",
    "        alpha[i] = (3 / h[i]) * (ys[i + 1] - ys[i]) - (3 / h[i - 1]) * (ys[i] - ys[i - 1])\n",
    "    \n",
    "    # Inicialización de las listas\n",
    "    l = [1] + [0] * n\n",
    "    u = [0] * n\n",
    "    z = [0] * (n + 1)\n",
    "    \n",
    "    # Cálculo de los valores l, u y z\n",
    "    for i in range(1, n):\n",
    "        l[i] = 2 * (xs[i + 1] - xs[i - 1]) - h[i - 1] * u[i - 1]\n",
    "        u[i] = h[i] / l[i]\n",
    "        z[i] = (alpha[i] - h[i - 1] * z[i - 1]) / l[i]\n",
    "    \n",
    "    l[n] = 1  # Condición del spline natural\n",
    "    z[n] = 0  # Condición del spline natural\n",
    "    c = [0] * (n + 1)\n",
    "    b = [0] * n\n",
    "    d = [0] * n\n",
    "    a = [ys[i] for i in range(n)]\n",
    "    \n",
    "    # Cálculo de los coeficientes del spline\n",
    "    for j in range(n - 1, -1, -1):\n",
    "        c[j] = z[j] - u[j] * c[j + 1]\n",
    "        b[j] = ((ys[j + 1] - ys[j]) / h[j]) - h[j] * (c[j + 1] + 2 * c[j]) / 3\n",
    "        d[j] = (c[j + 1] - c[j]) / (3 * h[j])\n",
    "    \n",
    "    # Construcción de los splines\n",
    "    x = sym.Symbol(\"x\")\n",
    "    splines = []\n",
    "    for j in range(n):\n",
    "        S = a[j] + b[j] * (x - xs[j]) + c[j] * (x - xs[j])**2 + d[j] * (x - xs[j])**3\n",
    "        splines.append(S)\n",
    "    \n",
    "    return splines\n"
   ]
  },
  {
   "cell_type": "code",
   "execution_count": 36,
   "metadata": {},
   "outputs": [
    {
     "name": "stdout",
     "output_type": "stream",
     "text": [
      "Splines cubicos sin expandir\n"
     ]
    },
    {
     "data": {
      "text/latex": [
       "$\\displaystyle - 3.5 x + 1.5 \\left(x + 1\\right)^{3} - 2.5$"
      ],
      "text/plain": [
       "-3.5*x + 1.5*(x + 1)**3 - 2.5"
      ]
     },
     "metadata": {},
     "output_type": "display_data"
    },
    {
     "data": {
      "text/latex": [
       "$\\displaystyle - 1.5 x^{3} + 4.5 x^{2} + 1.0 x - 1$"
      ],
      "text/plain": [
       "-1.5*x**3 + 4.5*x**2 + 1.0*x - 1"
      ]
     },
     "metadata": {},
     "output_type": "display_data"
    },
    {
     "name": "stdout",
     "output_type": "stream",
     "text": [
      "Splines cubicos expandidos\n"
     ]
    },
    {
     "data": {
      "text/latex": [
       "$\\displaystyle 1.5 x^{3} + 4.5 x^{2} + 1.0 x - 1.0$"
      ],
      "text/plain": [
       "1.5*x**3 + 4.5*x**2 + 1.0*x - 1.0"
      ]
     },
     "metadata": {},
     "output_type": "display_data"
    },
    {
     "data": {
      "text/latex": [
       "$\\displaystyle - 1.5 x^{3} + 4.5 x^{2} + 1.0 x - 1$"
      ],
      "text/plain": [
       "-1.5*x**3 + 4.5*x**2 + 1.0*x - 1"
      ]
     },
     "metadata": {},
     "output_type": "display_data"
    }
   ],
   "source": [
    "xs = [0, -1, 1]\n",
    "ys = [-1, 1 , 3]\n",
    "\n",
    "splines = cubic_spline(xs=xs, ys=ys)\n",
    "print(\"Splines cubicos sin expandir\")\n",
    "_ = [display(s) for s in splines]\n",
    "print(\"Splines cubicos expandidos\")\n",
    "_ = [display(s.expand()) for s in splines]"
   ]
  }
 ],
 "metadata": {
  "kernelspec": {
   "display_name": "Python 3",
   "language": "python",
   "name": "python3"
  },
  "language_info": {
   "codemirror_mode": {
    "name": "ipython",
    "version": 3
   },
   "file_extension": ".py",
   "mimetype": "text/x-python",
   "name": "python",
   "nbconvert_exporter": "python",
   "pygments_lexer": "ipython3",
   "version": "3.13.0"
  }
 },
 "nbformat": 4,
 "nbformat_minor": 2
}
